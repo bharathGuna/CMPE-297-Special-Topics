{
  "nbformat": 4,
  "nbformat_minor": 0,
  "metadata": {
    "colab": {
      "name": "autoviml-nlp.ipynb",
      "provenance": [],
      "collapsed_sections": [],
      "machine_shape": "hm"
    },
    "kernelspec": {
      "name": "python3",
      "display_name": "Python 3"
    },
    "language_info": {
      "name": "python"
    },
    "accelerator": "GPU"
  },
  "cells": [
    {
      "cell_type": "markdown",
      "metadata": {
        "id": "7W-J21Z3f3SP"
      },
      "source": [
        "# Bharath Gunasekearan\n",
        "## NLP task with AutoViml\n",
        "Dataset used Stackoverflow question quality dataset.\n",
        "The dataset is used to predict the quality of a  stack overflow question. \n",
        "There are 3 plossible classification:\n",
        "\n",
        "1) HQ\n",
        "\n",
        "2) LQ\n",
        "\n",
        "3) LQ_CLOSE"
      ]
    },
    {
      "cell_type": "code",
      "metadata": {
        "colab": {
          "base_uri": "https://localhost:8080/"
        },
        "id": "1unFOKKteNkU",
        "outputId": "cd344b1e-f53f-4ec4-c84d-7322f713cbf6"
      },
      "source": [
        "! pip install deep_autoviml\n"
      ],
      "execution_count": null,
      "outputs": [
        {
          "output_type": "stream",
          "name": "stdout",
          "text": [
            "Requirement already satisfied: deep_autoviml in /usr/local/lib/python3.7/dist-packages (0.0.67)\n",
            "Requirement already satisfied: tensorflow>=2.5.1 in /usr/local/lib/python3.7/dist-packages (from deep_autoviml) (2.6.0)\n",
            "Requirement already satisfied: jupyter in /usr/local/lib/python3.7/dist-packages (from deep_autoviml) (1.0.0)\n",
            "Requirement already satisfied: tensorflow-text>=2.5.0 in /usr/local/lib/python3.7/dist-packages (from deep_autoviml) (2.6.0)\n",
            "Requirement already satisfied: optuna in /usr/local/lib/python3.7/dist-packages (from deep_autoviml) (2.10.0)\n",
            "Requirement already satisfied: pandas in /usr/local/lib/python3.7/dist-packages (from deep_autoviml) (1.1.5)\n",
            "Requirement already satisfied: ipython in /usr/local/lib/python3.7/dist-packages (from deep_autoviml) (5.5.0)\n",
            "Requirement already satisfied: storm-tuner>=0.0.8 in /usr/local/lib/python3.7/dist-packages (from deep_autoviml) (0.0.9)\n",
            "Requirement already satisfied: tensorflow-hub==0.12.0 in /usr/local/lib/python3.7/dist-packages (from deep_autoviml) (0.12.0)\n",
            "Requirement already satisfied: scikit-learn>=0.23.1 in /usr/local/lib/python3.7/dist-packages (from deep_autoviml) (1.0.1)\n",
            "Requirement already satisfied: xlrd in /usr/local/lib/python3.7/dist-packages (from deep_autoviml) (1.1.0)\n",
            "Requirement already satisfied: matplotlib in /usr/local/lib/python3.7/dist-packages (from deep_autoviml) (3.2.2)\n",
            "Requirement already satisfied: regex in /usr/local/lib/python3.7/dist-packages (from deep_autoviml) (2019.12.20)\n",
            "Requirement already satisfied: numpy==1.19.2 in /usr/local/lib/python3.7/dist-packages (from deep_autoviml) (1.19.2)\n",
            "Requirement already satisfied: emoji in /usr/local/lib/python3.7/dist-packages (from deep_autoviml) (1.6.1)\n",
            "Requirement already satisfied: protobuf>=3.8.0 in /usr/local/lib/python3.7/dist-packages (from tensorflow-hub==0.12.0->deep_autoviml) (3.17.3)\n",
            "Requirement already satisfied: six>=1.9 in /usr/local/lib/python3.7/dist-packages (from protobuf>=3.8.0->tensorflow-hub==0.12.0->deep_autoviml) (1.15.0)\n",
            "Requirement already satisfied: joblib>=0.11 in /usr/local/lib/python3.7/dist-packages (from scikit-learn>=0.23.1->deep_autoviml) (1.0.1)\n",
            "Requirement already satisfied: scipy>=1.1.0 in /usr/local/lib/python3.7/dist-packages (from scikit-learn>=0.23.1->deep_autoviml) (1.4.1)\n",
            "Requirement already satisfied: threadpoolctl>=2.0.0 in /usr/local/lib/python3.7/dist-packages (from scikit-learn>=0.23.1->deep_autoviml) (3.0.0)\n",
            "Requirement already satisfied: gast==0.4.0 in /usr/local/lib/python3.7/dist-packages (from tensorflow>=2.5.1->deep_autoviml) (0.4.0)\n",
            "Requirement already satisfied: google-pasta~=0.2 in /usr/local/lib/python3.7/dist-packages (from tensorflow>=2.5.1->deep_autoviml) (0.2.0)\n",
            "Requirement already satisfied: termcolor~=1.1.0 in /usr/local/lib/python3.7/dist-packages (from tensorflow>=2.5.1->deep_autoviml) (1.1.0)\n",
            "Requirement already satisfied: tensorflow-estimator~=2.6 in /usr/local/lib/python3.7/dist-packages (from tensorflow>=2.5.1->deep_autoviml) (2.6.0)\n",
            "Requirement already satisfied: keras~=2.6 in /usr/local/lib/python3.7/dist-packages (from tensorflow>=2.5.1->deep_autoviml) (2.6.0)\n",
            "Requirement already satisfied: absl-py~=0.10 in /usr/local/lib/python3.7/dist-packages (from tensorflow>=2.5.1->deep_autoviml) (0.12.0)\n",
            "Requirement already satisfied: wrapt~=1.12.1 in /usr/local/lib/python3.7/dist-packages (from tensorflow>=2.5.1->deep_autoviml) (1.12.1)\n",
            "Requirement already satisfied: tensorboard~=2.6 in /usr/local/lib/python3.7/dist-packages (from tensorflow>=2.5.1->deep_autoviml) (2.6.0)\n",
            "Requirement already satisfied: opt-einsum~=3.3.0 in /usr/local/lib/python3.7/dist-packages (from tensorflow>=2.5.1->deep_autoviml) (3.3.0)\n",
            "Requirement already satisfied: flatbuffers~=1.12.0 in /usr/local/lib/python3.7/dist-packages (from tensorflow>=2.5.1->deep_autoviml) (1.12)\n",
            "Requirement already satisfied: h5py~=3.1.0 in /usr/local/lib/python3.7/dist-packages (from tensorflow>=2.5.1->deep_autoviml) (3.1.0)\n",
            "Requirement already satisfied: keras-preprocessing~=1.1.2 in /usr/local/lib/python3.7/dist-packages (from tensorflow>=2.5.1->deep_autoviml) (1.1.2)\n",
            "Requirement already satisfied: grpcio<2.0,>=1.37.0 in /usr/local/lib/python3.7/dist-packages (from tensorflow>=2.5.1->deep_autoviml) (1.41.0)\n",
            "Requirement already satisfied: typing-extensions~=3.7.4 in /usr/local/lib/python3.7/dist-packages (from tensorflow>=2.5.1->deep_autoviml) (3.7.4.3)\n",
            "Requirement already satisfied: astunparse~=1.6.3 in /usr/local/lib/python3.7/dist-packages (from tensorflow>=2.5.1->deep_autoviml) (1.6.3)\n",
            "Requirement already satisfied: wheel~=0.35 in /usr/local/lib/python3.7/dist-packages (from tensorflow>=2.5.1->deep_autoviml) (0.37.0)\n",
            "Requirement already satisfied: clang~=5.0 in /usr/local/lib/python3.7/dist-packages (from tensorflow>=2.5.1->deep_autoviml) (5.0)\n",
            "Requirement already satisfied: cached-property in /usr/local/lib/python3.7/dist-packages (from h5py~=3.1.0->tensorflow>=2.5.1->deep_autoviml) (1.5.2)\n",
            "Requirement already satisfied: markdown>=2.6.8 in /usr/local/lib/python3.7/dist-packages (from tensorboard~=2.6->tensorflow>=2.5.1->deep_autoviml) (3.3.4)\n",
            "Requirement already satisfied: tensorboard-plugin-wit>=1.6.0 in /usr/local/lib/python3.7/dist-packages (from tensorboard~=2.6->tensorflow>=2.5.1->deep_autoviml) (1.8.0)\n",
            "Requirement already satisfied: google-auth<2,>=1.6.3 in /usr/local/lib/python3.7/dist-packages (from tensorboard~=2.6->tensorflow>=2.5.1->deep_autoviml) (1.35.0)\n",
            "Requirement already satisfied: setuptools>=41.0.0 in /usr/local/lib/python3.7/dist-packages (from tensorboard~=2.6->tensorflow>=2.5.1->deep_autoviml) (57.4.0)\n",
            "Requirement already satisfied: google-auth-oauthlib<0.5,>=0.4.1 in /usr/local/lib/python3.7/dist-packages (from tensorboard~=2.6->tensorflow>=2.5.1->deep_autoviml) (0.4.6)\n",
            "Requirement already satisfied: tensorboard-data-server<0.7.0,>=0.6.0 in /usr/local/lib/python3.7/dist-packages (from tensorboard~=2.6->tensorflow>=2.5.1->deep_autoviml) (0.6.1)\n",
            "Requirement already satisfied: werkzeug>=0.11.15 in /usr/local/lib/python3.7/dist-packages (from tensorboard~=2.6->tensorflow>=2.5.1->deep_autoviml) (1.0.1)\n",
            "Requirement already satisfied: requests<3,>=2.21.0 in /usr/local/lib/python3.7/dist-packages (from tensorboard~=2.6->tensorflow>=2.5.1->deep_autoviml) (2.23.0)\n",
            "Requirement already satisfied: pyasn1-modules>=0.2.1 in /usr/local/lib/python3.7/dist-packages (from google-auth<2,>=1.6.3->tensorboard~=2.6->tensorflow>=2.5.1->deep_autoviml) (0.2.8)\n",
            "Requirement already satisfied: cachetools<5.0,>=2.0.0 in /usr/local/lib/python3.7/dist-packages (from google-auth<2,>=1.6.3->tensorboard~=2.6->tensorflow>=2.5.1->deep_autoviml) (4.2.4)\n",
            "Requirement already satisfied: rsa<5,>=3.1.4 in /usr/local/lib/python3.7/dist-packages (from google-auth<2,>=1.6.3->tensorboard~=2.6->tensorflow>=2.5.1->deep_autoviml) (4.7.2)\n",
            "Requirement already satisfied: requests-oauthlib>=0.7.0 in /usr/local/lib/python3.7/dist-packages (from google-auth-oauthlib<0.5,>=0.4.1->tensorboard~=2.6->tensorflow>=2.5.1->deep_autoviml) (1.3.0)\n",
            "Requirement already satisfied: importlib-metadata in /usr/local/lib/python3.7/dist-packages (from markdown>=2.6.8->tensorboard~=2.6->tensorflow>=2.5.1->deep_autoviml) (4.8.1)\n",
            "Requirement already satisfied: pyasn1<0.5.0,>=0.4.6 in /usr/local/lib/python3.7/dist-packages (from pyasn1-modules>=0.2.1->google-auth<2,>=1.6.3->tensorboard~=2.6->tensorflow>=2.5.1->deep_autoviml) (0.4.8)\n",
            "Requirement already satisfied: certifi>=2017.4.17 in /usr/local/lib/python3.7/dist-packages (from requests<3,>=2.21.0->tensorboard~=2.6->tensorflow>=2.5.1->deep_autoviml) (2021.5.30)\n",
            "Requirement already satisfied: chardet<4,>=3.0.2 in /usr/local/lib/python3.7/dist-packages (from requests<3,>=2.21.0->tensorboard~=2.6->tensorflow>=2.5.1->deep_autoviml) (3.0.4)\n",
            "Requirement already satisfied: idna<3,>=2.5 in /usr/local/lib/python3.7/dist-packages (from requests<3,>=2.21.0->tensorboard~=2.6->tensorflow>=2.5.1->deep_autoviml) (2.10)\n",
            "Requirement already satisfied: urllib3!=1.25.0,!=1.25.1,<1.26,>=1.21.1 in /usr/local/lib/python3.7/dist-packages (from requests<3,>=2.21.0->tensorboard~=2.6->tensorflow>=2.5.1->deep_autoviml) (1.24.3)\n",
            "Requirement already satisfied: oauthlib>=3.0.0 in /usr/local/lib/python3.7/dist-packages (from requests-oauthlib>=0.7.0->google-auth-oauthlib<0.5,>=0.4.1->tensorboard~=2.6->tensorflow>=2.5.1->deep_autoviml) (3.1.1)\n",
            "Requirement already satisfied: zipp>=0.5 in /usr/local/lib/python3.7/dist-packages (from importlib-metadata->markdown>=2.6.8->tensorboard~=2.6->tensorflow>=2.5.1->deep_autoviml) (3.6.0)\n",
            "Requirement already satisfied: traitlets>=4.2 in /usr/local/lib/python3.7/dist-packages (from ipython->deep_autoviml) (5.1.0)\n",
            "Requirement already satisfied: simplegeneric>0.8 in /usr/local/lib/python3.7/dist-packages (from ipython->deep_autoviml) (0.8.1)\n",
            "Requirement already satisfied: prompt-toolkit<2.0.0,>=1.0.4 in /usr/local/lib/python3.7/dist-packages (from ipython->deep_autoviml) (1.0.18)\n",
            "Requirement already satisfied: decorator in /usr/local/lib/python3.7/dist-packages (from ipython->deep_autoviml) (4.4.2)\n",
            "Requirement already satisfied: pygments in /usr/local/lib/python3.7/dist-packages (from ipython->deep_autoviml) (2.6.1)\n",
            "Requirement already satisfied: pickleshare in /usr/local/lib/python3.7/dist-packages (from ipython->deep_autoviml) (0.7.5)\n",
            "Requirement already satisfied: pexpect in /usr/local/lib/python3.7/dist-packages (from ipython->deep_autoviml) (4.8.0)\n",
            "Requirement already satisfied: wcwidth in /usr/local/lib/python3.7/dist-packages (from prompt-toolkit<2.0.0,>=1.0.4->ipython->deep_autoviml) (0.2.5)\n",
            "Requirement already satisfied: ipywidgets in /usr/local/lib/python3.7/dist-packages (from jupyter->deep_autoviml) (7.6.5)\n",
            "Requirement already satisfied: jupyter-console in /usr/local/lib/python3.7/dist-packages (from jupyter->deep_autoviml) (5.2.0)\n",
            "Requirement already satisfied: ipykernel in /usr/local/lib/python3.7/dist-packages (from jupyter->deep_autoviml) (4.10.1)\n",
            "Requirement already satisfied: nbconvert in /usr/local/lib/python3.7/dist-packages (from jupyter->deep_autoviml) (5.6.1)\n",
            "Requirement already satisfied: qtconsole in /usr/local/lib/python3.7/dist-packages (from jupyter->deep_autoviml) (5.1.1)\n",
            "Requirement already satisfied: notebook in /usr/local/lib/python3.7/dist-packages (from jupyter->deep_autoviml) (5.3.1)\n",
            "Requirement already satisfied: tornado>=4.0 in /usr/local/lib/python3.7/dist-packages (from ipykernel->jupyter->deep_autoviml) (5.1.1)\n",
            "Requirement already satisfied: jupyter-client in /usr/local/lib/python3.7/dist-packages (from ipykernel->jupyter->deep_autoviml) (5.3.5)\n",
            "Requirement already satisfied: nbformat>=4.2.0 in /usr/local/lib/python3.7/dist-packages (from ipywidgets->jupyter->deep_autoviml) (5.1.3)\n",
            "Requirement already satisfied: jupyterlab-widgets>=1.0.0 in /usr/local/lib/python3.7/dist-packages (from ipywidgets->jupyter->deep_autoviml) (1.0.2)\n",
            "Requirement already satisfied: widgetsnbextension~=3.5.0 in /usr/local/lib/python3.7/dist-packages (from ipywidgets->jupyter->deep_autoviml) (3.5.1)\n",
            "Requirement already satisfied: ipython-genutils~=0.2.0 in /usr/local/lib/python3.7/dist-packages (from ipywidgets->jupyter->deep_autoviml) (0.2.0)\n",
            "Requirement already satisfied: jsonschema!=2.5.0,>=2.4 in /usr/local/lib/python3.7/dist-packages (from nbformat>=4.2.0->ipywidgets->jupyter->deep_autoviml) (2.6.0)\n",
            "Requirement already satisfied: jupyter-core in /usr/local/lib/python3.7/dist-packages (from nbformat>=4.2.0->ipywidgets->jupyter->deep_autoviml) (4.8.1)\n",
            "Requirement already satisfied: Send2Trash in /usr/local/lib/python3.7/dist-packages (from notebook->jupyter->deep_autoviml) (1.8.0)\n",
            "Requirement already satisfied: terminado>=0.8.1 in /usr/local/lib/python3.7/dist-packages (from notebook->jupyter->deep_autoviml) (0.12.1)\n",
            "Requirement already satisfied: jinja2 in /usr/local/lib/python3.7/dist-packages (from notebook->jupyter->deep_autoviml) (2.11.3)\n",
            "Requirement already satisfied: python-dateutil>=2.1 in /usr/local/lib/python3.7/dist-packages (from jupyter-client->ipykernel->jupyter->deep_autoviml) (2.8.2)\n",
            "Requirement already satisfied: pyzmq>=13 in /usr/local/lib/python3.7/dist-packages (from jupyter-client->ipykernel->jupyter->deep_autoviml) (22.3.0)\n",
            "Requirement already satisfied: ptyprocess in /usr/local/lib/python3.7/dist-packages (from terminado>=0.8.1->notebook->jupyter->deep_autoviml) (0.7.0)\n",
            "Requirement already satisfied: MarkupSafe>=0.23 in /usr/local/lib/python3.7/dist-packages (from jinja2->notebook->jupyter->deep_autoviml) (2.0.1)\n",
            "Requirement already satisfied: pyparsing!=2.0.4,!=2.1.2,!=2.1.6,>=2.0.1 in /usr/local/lib/python3.7/dist-packages (from matplotlib->deep_autoviml) (2.4.7)\n",
            "Requirement already satisfied: kiwisolver>=1.0.1 in /usr/local/lib/python3.7/dist-packages (from matplotlib->deep_autoviml) (1.3.2)\n",
            "Requirement already satisfied: cycler>=0.10 in /usr/local/lib/python3.7/dist-packages (from matplotlib->deep_autoviml) (0.10.0)\n",
            "Requirement already satisfied: pandocfilters>=1.4.1 in /usr/local/lib/python3.7/dist-packages (from nbconvert->jupyter->deep_autoviml) (1.5.0)\n",
            "Requirement already satisfied: mistune<2,>=0.8.1 in /usr/local/lib/python3.7/dist-packages (from nbconvert->jupyter->deep_autoviml) (0.8.4)\n",
            "Requirement already satisfied: bleach in /usr/local/lib/python3.7/dist-packages (from nbconvert->jupyter->deep_autoviml) (4.1.0)\n",
            "Requirement already satisfied: entrypoints>=0.2.2 in /usr/local/lib/python3.7/dist-packages (from nbconvert->jupyter->deep_autoviml) (0.3)\n",
            "Requirement already satisfied: defusedxml in /usr/local/lib/python3.7/dist-packages (from nbconvert->jupyter->deep_autoviml) (0.7.1)\n",
            "Requirement already satisfied: testpath in /usr/local/lib/python3.7/dist-packages (from nbconvert->jupyter->deep_autoviml) (0.5.0)\n",
            "Requirement already satisfied: packaging in /usr/local/lib/python3.7/dist-packages (from bleach->nbconvert->jupyter->deep_autoviml) (21.0)\n",
            "Requirement already satisfied: webencodings in /usr/local/lib/python3.7/dist-packages (from bleach->nbconvert->jupyter->deep_autoviml) (0.5.1)\n",
            "Requirement already satisfied: cliff in /usr/local/lib/python3.7/dist-packages (from optuna->deep_autoviml) (3.9.0)\n",
            "Requirement already satisfied: tqdm in /usr/local/lib/python3.7/dist-packages (from optuna->deep_autoviml) (4.62.3)\n",
            "Requirement already satisfied: PyYAML in /usr/local/lib/python3.7/dist-packages (from optuna->deep_autoviml) (3.13)\n",
            "Requirement already satisfied: sqlalchemy>=1.1.0 in /usr/local/lib/python3.7/dist-packages (from optuna->deep_autoviml) (1.4.25)\n",
            "Requirement already satisfied: colorlog in /usr/local/lib/python3.7/dist-packages (from optuna->deep_autoviml) (6.5.0)\n",
            "Requirement already satisfied: alembic in /usr/local/lib/python3.7/dist-packages (from optuna->deep_autoviml) (1.7.4)\n",
            "Requirement already satisfied: cmaes>=0.8.2 in /usr/local/lib/python3.7/dist-packages (from optuna->deep_autoviml) (0.8.2)\n",
            "Requirement already satisfied: greenlet!=0.4.17 in /usr/local/lib/python3.7/dist-packages (from sqlalchemy>=1.1.0->optuna->deep_autoviml) (1.1.2)\n",
            "Requirement already satisfied: Mako in /usr/local/lib/python3.7/dist-packages (from alembic->optuna->deep_autoviml) (1.1.5)\n",
            "Requirement already satisfied: importlib-resources in /usr/local/lib/python3.7/dist-packages (from alembic->optuna->deep_autoviml) (5.2.2)\n",
            "Requirement already satisfied: cmd2>=1.0.0 in /usr/local/lib/python3.7/dist-packages (from cliff->optuna->deep_autoviml) (2.2.0)\n",
            "Requirement already satisfied: PrettyTable>=0.7.2 in /usr/local/lib/python3.7/dist-packages (from cliff->optuna->deep_autoviml) (2.2.1)\n",
            "Requirement already satisfied: stevedore>=2.0.1 in /usr/local/lib/python3.7/dist-packages (from cliff->optuna->deep_autoviml) (3.5.0)\n",
            "Requirement already satisfied: pbr!=2.1.0,>=2.0.0 in /usr/local/lib/python3.7/dist-packages (from cliff->optuna->deep_autoviml) (5.6.0)\n",
            "Requirement already satisfied: autopage>=0.4.0 in /usr/local/lib/python3.7/dist-packages (from cliff->optuna->deep_autoviml) (0.4.0)\n",
            "Requirement already satisfied: pyperclip>=1.6 in /usr/local/lib/python3.7/dist-packages (from cmd2>=1.0.0->cliff->optuna->deep_autoviml) (1.8.2)\n",
            "Requirement already satisfied: colorama>=0.3.7 in /usr/local/lib/python3.7/dist-packages (from cmd2>=1.0.0->cliff->optuna->deep_autoviml) (0.4.4)\n",
            "Requirement already satisfied: attrs>=16.3.0 in /usr/local/lib/python3.7/dist-packages (from cmd2>=1.0.0->cliff->optuna->deep_autoviml) (21.2.0)\n",
            "Requirement already satisfied: pytz>=2017.2 in /usr/local/lib/python3.7/dist-packages (from pandas->deep_autoviml) (2018.9)\n",
            "Requirement already satisfied: qtpy in /usr/local/lib/python3.7/dist-packages (from qtconsole->jupyter->deep_autoviml) (1.11.2)\n"
          ]
        }
      ]
    },
    {
      "cell_type": "code",
      "metadata": {
        "colab": {
          "base_uri": "https://localhost:8080/"
        },
        "id": "xjkd1QXJfldV",
        "outputId": "25fe518d-7dc2-4800-986a-d664e45a047d"
      },
      "source": [
        "from deep_autoviml import deep_autoviml as deepauto\n",
        "import numpy as np\n",
        "import pandas as pd\n",
        "from sklearn.model_selection import train_test_split\n",
        "from sklearn.preprocessing import StandardScaler\n",
        "from sklearn.metrics import classification_report, confusion_matrix, balanced_accuracy_score"
      ],
      "execution_count": null,
      "outputs": [
        {
          "output_type": "stream",
          "name": "stdout",
          "text": [
            "\n",
            "Imported deep_auto_viml. version=0.0.67\n",
            "from deep_autoviml import deep_autoviml as deepauto\n",
            "-------------------\n",
            "model, cat_vocab_dict = deepauto.fit(train, target, keras_model_type=\"fast\",\n",
            "\t\tproject_name=\"deep_autoviml\", keras_options=keras_options,  \n",
            "\t\tmodel_options=model_options, save_model_flag=True, use_my_model='',\n",
            "\t\tmodel_use_case='', verbose=0)\n",
            "\n",
            "predictions = deepauto.predict(model, project_name, test_dataset=test,\n",
            "                                 keras_model_type=keras_model_type, \n",
            "                                 cat_vocab_dict=cat_vocab_dict)\n",
            "                                \n"
          ]
        }
      ]
    },
    {
      "cell_type": "code",
      "metadata": {
        "colab": {
          "base_uri": "https://localhost:8080/"
        },
        "id": "pwvsrIg5fouR",
        "outputId": "b937a354-62f2-4ac1-ca68-350aa105d63a"
      },
      "source": [
        "!wget https://raw.githubusercontent.com/bharathGuna/CMPE-297-Special-Topics/main/assignment4/datasets/train.csv -P ./data/\n"
      ],
      "execution_count": null,
      "outputs": [
        {
          "output_type": "stream",
          "name": "stdout",
          "text": [
            "--2021-10-29 05:44:54--  https://raw.githubusercontent.com/bharathGuna/CMPE-297-Special-Topics/main/assignment4/datasets/train.csv\n",
            "Resolving raw.githubusercontent.com (raw.githubusercontent.com)... 185.199.108.133, 185.199.109.133, 185.199.110.133, ...\n",
            "Connecting to raw.githubusercontent.com (raw.githubusercontent.com)|185.199.108.133|:443... connected.\n",
            "HTTP request sent, awaiting response... 200 OK\n",
            "Length: 49938019 (48M) [text/plain]\n",
            "Saving to: ‘./data/train.csv.1’\n",
            "\n",
            "train.csv.1         100%[===================>]  47.62M   159MB/s    in 0.3s    \n",
            "\n",
            "2021-10-29 05:44:58 (159 MB/s) - ‘./data/train.csv.1’ saved [49938019/49938019]\n",
            "\n"
          ]
        }
      ]
    },
    {
      "cell_type": "code",
      "metadata": {
        "colab": {
          "base_uri": "https://localhost:8080/",
          "height": 206
        },
        "id": "GirnoBVbf1Jz",
        "outputId": "2606f70b-44e6-46ac-9073-0995d365cba8"
      },
      "source": [
        "trainpath = \"/content/data/train.csv\"\n",
        "df_train = pd.read_csv(trainpath, encoding='ISO-8859-1')\n",
        "df_train.head()"
      ],
      "execution_count": null,
      "outputs": [
        {
          "output_type": "execute_result",
          "data": {
            "text/html": [
              "<div>\n",
              "<style scoped>\n",
              "    .dataframe tbody tr th:only-of-type {\n",
              "        vertical-align: middle;\n",
              "    }\n",
              "\n",
              "    .dataframe tbody tr th {\n",
              "        vertical-align: top;\n",
              "    }\n",
              "\n",
              "    .dataframe thead th {\n",
              "        text-align: right;\n",
              "    }\n",
              "</style>\n",
              "<table border=\"1\" class=\"dataframe\">\n",
              "  <thead>\n",
              "    <tr style=\"text-align: right;\">\n",
              "      <th></th>\n",
              "      <th>Id</th>\n",
              "      <th>Title</th>\n",
              "      <th>Body</th>\n",
              "      <th>Tags</th>\n",
              "      <th>CreationDate</th>\n",
              "      <th>Y</th>\n",
              "    </tr>\n",
              "  </thead>\n",
              "  <tbody>\n",
              "    <tr>\n",
              "      <th>0</th>\n",
              "      <td>34552656</td>\n",
              "      <td>Java: Repeat Task Every Random Seconds</td>\n",
              "      <td>&lt;p&gt;I'm already familiar with repeating tasks e...</td>\n",
              "      <td>&lt;java&gt;&lt;repeat&gt;</td>\n",
              "      <td>2016-01-01 00:21:59</td>\n",
              "      <td>LQ_CLOSE</td>\n",
              "    </tr>\n",
              "    <tr>\n",
              "      <th>1</th>\n",
              "      <td>34553034</td>\n",
              "      <td>Why are Java Optionals immutable?</td>\n",
              "      <td>&lt;p&gt;I'd like to understand why Java 8 Optionals...</td>\n",
              "      <td>&lt;java&gt;&lt;optional&gt;</td>\n",
              "      <td>2016-01-01 02:03:20</td>\n",
              "      <td>HQ</td>\n",
              "    </tr>\n",
              "    <tr>\n",
              "      <th>2</th>\n",
              "      <td>34553174</td>\n",
              "      <td>Text Overlay Image with Darkened Opacity React...</td>\n",
              "      <td>&lt;p&gt;I am attempting to overlay a title over an ...</td>\n",
              "      <td>&lt;javascript&gt;&lt;image&gt;&lt;overlay&gt;&lt;react-native&gt;&lt;opa...</td>\n",
              "      <td>2016-01-01 02:48:24</td>\n",
              "      <td>HQ</td>\n",
              "    </tr>\n",
              "    <tr>\n",
              "      <th>3</th>\n",
              "      <td>34553318</td>\n",
              "      <td>Why ternary operator in swift is so picky?</td>\n",
              "      <td>&lt;p&gt;The question is very simple, but I just cou...</td>\n",
              "      <td>&lt;swift&gt;&lt;operators&gt;&lt;whitespace&gt;&lt;ternary-operato...</td>\n",
              "      <td>2016-01-01 03:30:17</td>\n",
              "      <td>HQ</td>\n",
              "    </tr>\n",
              "    <tr>\n",
              "      <th>4</th>\n",
              "      <td>34553755</td>\n",
              "      <td>hide/show fab with scale animation</td>\n",
              "      <td>&lt;p&gt;I'm using custom floatingactionmenu. I need...</td>\n",
              "      <td>&lt;android&gt;&lt;material-design&gt;&lt;floating-action-but...</td>\n",
              "      <td>2016-01-01 05:21:48</td>\n",
              "      <td>HQ</td>\n",
              "    </tr>\n",
              "  </tbody>\n",
              "</table>\n",
              "</div>"
            ],
            "text/plain": [
              "         Id                                              Title  \\\n",
              "0  34552656             Java: Repeat Task Every Random Seconds   \n",
              "1  34553034                  Why are Java Optionals immutable?   \n",
              "2  34553174  Text Overlay Image with Darkened Opacity React...   \n",
              "3  34553318         Why ternary operator in swift is so picky?   \n",
              "4  34553755                 hide/show fab with scale animation   \n",
              "\n",
              "                                                Body  \\\n",
              "0  <p>I'm already familiar with repeating tasks e...   \n",
              "1  <p>I'd like to understand why Java 8 Optionals...   \n",
              "2  <p>I am attempting to overlay a title over an ...   \n",
              "3  <p>The question is very simple, but I just cou...   \n",
              "4  <p>I'm using custom floatingactionmenu. I need...   \n",
              "\n",
              "                                                Tags         CreationDate  \\\n",
              "0                                     <java><repeat>  2016-01-01 00:21:59   \n",
              "1                                   <java><optional>  2016-01-01 02:03:20   \n",
              "2  <javascript><image><overlay><react-native><opa...  2016-01-01 02:48:24   \n",
              "3  <swift><operators><whitespace><ternary-operato...  2016-01-01 03:30:17   \n",
              "4  <android><material-design><floating-action-but...  2016-01-01 05:21:48   \n",
              "\n",
              "          Y  \n",
              "0  LQ_CLOSE  \n",
              "1        HQ  \n",
              "2        HQ  \n",
              "3        HQ  \n",
              "4        HQ  "
            ]
          },
          "metadata": {},
          "execution_count": 5
        }
      ]
    },
    {
      "cell_type": "code",
      "metadata": {
        "colab": {
          "base_uri": "https://localhost:8080/"
        },
        "id": "ejlnUIbhhnwL",
        "outputId": "ac820dd4-99d0-481c-d74f-09f13b51ed20"
      },
      "source": [
        "df_train = df_train[['Body','Y']]\n",
        "df_train.head()\n",
        "print(df_train.shape)"
      ],
      "execution_count": null,
      "outputs": [
        {
          "output_type": "stream",
          "name": "stdout",
          "text": [
            "(45000, 2)\n"
          ]
        }
      ]
    },
    {
      "cell_type": "code",
      "metadata": {
        "colab": {
          "base_uri": "https://localhost:8080/"
        },
        "id": "zF6czlnEh9OF",
        "outputId": "9d0bb0a7-fed2-46f7-fb78-93a4d23939f1"
      },
      "source": [
        "target = 'Y'\n",
        "df_train[target].value_counts()"
      ],
      "execution_count": null,
      "outputs": [
        {
          "output_type": "execute_result",
          "data": {
            "text/plain": [
              "HQ          15000\n",
              "LQ_EDIT     15000\n",
              "LQ_CLOSE    15000\n",
              "Name: Y, dtype: int64"
            ]
          },
          "metadata": {},
          "execution_count": 7
        }
      ]
    },
    {
      "cell_type": "code",
      "metadata": {
        "colab": {
          "base_uri": "https://localhost:8080/"
        },
        "id": "vKL3032ylIOG",
        "outputId": "041ca8da-529b-47c2-980e-5eb68ab6d573"
      },
      "source": [
        "df_train = df_train.sample(15000, random_state=1)\n",
        "df_train[target].value_counts()"
      ],
      "execution_count": null,
      "outputs": [
        {
          "output_type": "execute_result",
          "data": {
            "text/plain": [
              "LQ_EDIT     5052\n",
              "HQ          5036\n",
              "LQ_CLOSE    4912\n",
              "Name: Y, dtype: int64"
            ]
          },
          "metadata": {},
          "execution_count": 11
        }
      ]
    },
    {
      "cell_type": "code",
      "metadata": {
        "id": "WZcucFVYij38"
      },
      "source": [
        "train_X, test_X, train_y, test_y = train_test_split(df_train.drop(columns=[target]), df_train[target], \n",
        "                                                    train_size=0.80,\n",
        "                                                    test_size=0.20,\n",
        "                                                    random_state=122)\n",
        "\n",
        "train_X[target] = train_y\n",
        "train_X.to_csv('/content/data/stackoverflow_train.csv')\n",
        "test_X[target] = test_y\n",
        "test_X.to_csv('/content/data/stackoverflow_test.csv')"
      ],
      "execution_count": null,
      "outputs": []
    },
    {
      "cell_type": "markdown",
      "metadata": {
        "id": "q_dg-1NAiA8z"
      },
      "source": [
        "Deep AutoVIML"
      ]
    },
    {
      "cell_type": "code",
      "metadata": {
        "id": "AI5PgFh1iCY4"
      },
      "source": [
        "trainpath = '/content/data/stackoverflow_train.csv'\n",
        "testpath = '/content/data/stackoverflow_test.csv'\n",
        "keras_model_type =  \"auto\" ## always try \"auto\" first, then \"basic\", \"deep\", \"BERT\", \"USE\", cnn1\", \"LSTM\" etc.\n",
        "keras_options = {\"early_stopping\": True, 'epochs': 20, 'steps_per_epoch': 15, 'class_weight': True}  ### always set early_stopping to True first and then change it to False\n",
        "model_options = {'tuner':\"storm\", \"max_trials\":10, }"
      ],
      "execution_count": null,
      "outputs": []
    },
    {
      "cell_type": "code",
      "metadata": {
        "colab": {
          "base_uri": "https://localhost:8080/",
          "height": 1000
        },
        "id": "AfBpZ32YiD66",
        "outputId": "3b2305ec-f66f-4d70-cf28-68027a6e7f22"
      },
      "source": [
        "model, dicti = deepauto.fit(trainpath, target, keras_model_type=keras_model_type, \n",
        "                            project_name='stackoverflow_quality_classification',\n",
        "                 save_model_flag=False, model_options=model_options,\n",
        "                            keras_options=keras_options, use_my_model='', verbose=2)"
      ],
      "execution_count": null,
      "outputs": [
        {
          "output_type": "stream",
          "name": "stdout",
          "text": [
            "Num GPUs Available:  1\n",
            "1 Physical GPUs, 1 Logical GPU\n",
            "Physical devices cannot be modified after being initialized\n",
            "Setting Mirrored GPU strategy using 1 devices\n",
            "Using following keras_options given as input:\n",
            "    epochs : 20\n",
            "    steps_per_epoch : 15\n",
            "    class_weight : True\n",
            "    early_stopping : True\n",
            "Using following model_options given as input:\n",
            "    max_trials : 10\n",
            "    tuner : storm\n",
            "Max Trials : 10. Please increase max_trials if you want to better accuracy...\n",
            "\n",
            "#################################################################################\n",
            "###########     L O A D I N G    D A T A    I N T O   TF.DATA.DATASET H E R E  #\n",
            "#################################################################################\n",
            "        \n",
            "CSV file being loaded into tf.data.Dataset\n",
            "    Since number of rows > maxrows, loading a random sample of 76327 rows into pandas for EDA\n",
            "Alert! Modified column names to satisfy rules for column names in Tensorflow...\n",
            "    Model type is Multi_Classification and Single_Label problem\n",
            "Loaded a small data sample of size = (2400, 3) into pandas dataframe to analyze...\n",
            "    Classifying variables using data sample in pandas...\n",
            "############## C L A S S I F Y I N G  V A R I A B L E S  ####################\n",
            "Classifying variables in data set...\n",
            "Data Set Shape: 2400 rows, 2 cols\n",
            "Data Set columns info:\n",
            "* unnamed:_0: 0 nulls, 2400 unique vals, most common: {6143: 1, 32051: 1}\n",
            "* body: 0 nulls, 2400 unique vals, most common: {'<p>I am moving from TortoiseSvn to TortoiseGit. But enountered some unexpected difficulties.</p>\\n\\n<p>My working paradigm is as simple as:</p>\\n\\n<ol>\\n<li>Check out code</li>\\n<li>Change some code</li>\\n<li>Share with others for code review</li>\\n<li>Commit changes</li>\\n</ol>\\n\\n<p>Why bother to have the 3 <code>syntactically</code> similar commands below?</p>\\n\\n<p>And <code>Pull</code> and <code>Fetch</code> even share the identical icon. What a user-friendly design!</p>\\n\\n<p><a href=\"https://i.stack.imgur.com/OOSUj.png\" rel=\"noreferrer\"><img src=\"https://i.stack.imgur.com/OOSUj.png\" alt=\"enter image description here\"></a></p>\\n': 1, '<p>To clarify, I understand I could use:</p>\\n\\n<pre><code>Console.WriteLine(\"sample text\")\\n</code></pre>\\n\\n<p>to get the desired effect, nevertheless, the code I\\'m using should work, and I want to know why it isn\\'t.</p>\\n\\n<p>The code sample:</p>\\n\\n<pre><code>Console.Write(\"You have chosen {0}, the game will now begin.{1} Newline.\", x_or_o, \"/n\");\\n</code></pre>\\n\\n<p>And the output I am receiving in the console is:</p>\\n\\n<pre><code>You have chosen x, the game will now begin./n Newline.\\n</code></pre>\\n\\n<p>Whereas my desired output is:</p>\\n\\n<pre><code>You have chosen x, the game will now begin.\\nNewline.\\n</code></pre>\\n\\n<p>Sorry if I\\'m missing something fundamental or obvious, but my SO and google searches have resulted in no solutions.</p>\\n\\n<p>All answers are appreciated in advance, thank you for your time.</p>\\n': 1}\n",
            "--------------------------------------------------------------------\n",
            "    2 Predictors classified...\n",
            "    possible latitude columns in dataset: []\n",
            "        after further analysis, no latitude columns found\n",
            "    possible longitude columns in dataset: []\n",
            "        after further analysis, no longitude columns found\n",
            "        1 variable(s) to be removed since they were ID or low-information variables\n",
            "    List of variables to be removed: ['unnamed:_0']\n",
            "Data Set Shape: 2400 rows, 3 cols\n",
            "   Columns to delete:\n",
            "\"   ['unnamed:_0']\"\n",
            "   Categorical variables: \n",
            "'   []'\n",
            "   Continuous variables:\n",
            "'   []'\n",
            "   Discrete string variables: \n",
            "'   []'\n",
            "   NLP string variables: \n",
            "\"   ['body']\"\n",
            "   Date and time variables: \n",
            "'   []'\n",
            "   ID variables %s \n",
            "\"   ['unnamed:_0']\"\n",
            "   Target variable %s \n",
            "'   y'\n",
            "Distribution of string columns in datatset:\n",
            "    number of binary = 0, cats = 1, high cats = 0, very high cats = 1\n",
            "Distribution of integer columns in datatset:\n",
            "    number of binary = 0, cats = 0, high cats = 0, very high cats = 1\n",
            "Distribution of floats:\n",
            "    number float variables = 0\n",
            "No data transformations needed in this dataset\n",
            "    we transformed ['unnamed:_0'] from integer to float\n",
            "printing first five values of y: ['LQ_CLOSE' 'HQ' 'HQ' 'LQ_EDIT' 'LQ_EDIT']\n",
            "printing features and their max, min, datatypes in one batch \n",
            "body is detected and will be treated as an NLP variable\n",
            "  '    sample words from vocab': body\n",
            "  '    size of vocab'      : 60217945\n",
            "  '    max'                : defaultdict(<function nested_dictionary at 0x7f00e66a8f80>, {})\n",
            "  '    min'                : defaultdict(<function nested_dictionary at 0x7f00e66a8f80>, {})\n",
            "  '    dtype'              : string\n",
            "    after data cleaning, number of predictors used in modeling = 1\n",
            "Not performing feature crossing for categorical nor integer variables\n",
            "Transforming y target labels...\n",
            "    Original labels dtype is object \n",
            "y transformed as follows: {'HQ': 0, 'LQ_CLOSE': 1, 'LQ_EDIT': 2}\n",
            "    transformed target labels data type to numeric or ordered from 0\n",
            "Loading your input file(s) data directly into tf.data.Dataset...\n",
            "    target label encoding now...\n",
            "    target label encoding completed.\n",
            "    train data loaded successfully.\n",
            "\n",
            "Number of predictors to be used = 1 in predict step: keras preprocessing...\n",
            "Dropping ['unnamed:_0'] columns marked for deletion...\n",
            "Boolean column successfully processed\n",
            "    combined NLP or text vars: ['body'] into a single feature successfully\n",
            "Printing one batch from the dataset:\n",
            "unnamed:_0                              : [ 7131 21203 16119 38970]\n",
            "body                                    : [b'I am a beginner to website design and development and also learning it. As a beginner i creating a site which is old bbc news website from the following  archive link http://web.archive.org/web/20140402131524/http://www.bbc.co.uk/news/uk\\nso i am stcked at watch/listen part the backgroun color orange to link which is below the video is aligning to the right side of it according to my code \\nfollowing is my code...\\n\\n***HTML***\\n\\n    <html>\\n    <head>\\n    <title>Untitled Document</title>\\n    </head>\\n    <body>\\n    <div class=\"watch\">\\n    <img src=\"http://s9.tinypic.com/2hd45fp_th.jpg\" id=\"WatchListenlogo\"/>\\n    <span class=\"watchhead\">Watch/Listen</span>\\n    <img src=\"http://s9.tinypic.com/35c03yr_th.jpg\" id=\"rightarrow\"/>\\n    <div id=\"videoa\">  \\n    <img src=\"http://s9.tinypic.com/j64ufl_th.jpg\"/>\\n    <a href=\"\">Titanic letter could fetch &pound; 100,000</a>\\n    </div>\\n    </div>\\n    </body>\\n    </html>\\n\\n***CSS***\\n\\n    <style type=\"text/css\">\\n    body{\\n    margin:0;\\n    line-height:15px;\\n    }\\n    .watch{\\n    position:relative;\\n    top:50px;\\n    right:50px;\\n    color:#505050;\\n    line-height:24px;\\n    background-color:#eeeeee;\\n    float:right;\\n    width:336px;\\n    }\\n    #videoa{\\t\\t\\t\\t\\t\\n    float:left;\\n    background-color:#d1700e;\\n    position:relative;\\n    top:-84px;\\n    left:25px;\\n    }\\n    #videoa a{\\n    float:left;\\n    color:white;\\n    position:relative;\\n    top:2px;\\n    left:5px;\\n    }\\n    .watchhead{\\n    font-size:24px;\\n    font-weight:bolder;\\n    position:relative;\\n    top:10px;\\n    left:8px;\\n    }\\n    #WatchListenlogo{\\n    float:right;\\n    position:relative;\\n    top:22px;\\n    right:10px;\\n    }\\n    #rightarrow{\\n    float:left;\\n    border-right:solid white 1px;\\n    position:relative;\\n    top:40px;\\n    }\\n    a{\\n    text-decoration:none;\\n    }\\n    a:hover{\\n    text-decoration:underline;\\n    }\\n    </style>\\n\\n'\n",
            " b'<pre><code>class makeAccount {\\npublic $username;\\npublic function __construct ($username,$password) {\\n    $this-&gt;username = $username;\\n}\\npublic function password($password) {\\n    if(isset($password)) {\\n       $this-&gt;password = $password;\\n       return;\\n    }\\n  }\\n}\\n\\n$user_1 = new makeAccount(\"abc123\",\"12345\");\\nprint $user_1-&gt;password(\"12345\");\\n</code></pre>\\n\\n<p>I am new to php. I am just wondering how to make a private property. I want to have a password property that is private. Is there something wrong with my code?</p>\\n'\n",
            " b'<p>How to vertically center a text in a column (bootstrap 4)? The structure is basic, see:</p>\\n\\n<pre><code>&lt;div class=\"row\"&gt;\\n    &lt;div class=\"col-md-6\"&gt;\\n        &lt;span&gt;Text to center&lt;/span&gt;\\n    &lt;/div\\n&lt;/div&gt;\\n</code></pre>\\n\\n<p>Ty guys!</p>\\n'\n",
            " b\"In MS Access:\\n\\nI am trying to compare two tables with:\\n- TABLE1.docnumb1 = TABLE2.docnumb2\\n- looking for: TABLE1.sum <> TABLE2.sum2\\n\\nBut query retrieves an error: syntax error in from clause (or when creating left join I get an error that JOIN isn't supported):\\n\\nSELECT docnumb1, sum FROM Table1\\nJOIN Table2 ON docnumb1 = docnumb2;\\n\\nHow do I query the rows with different values?\\n\\n[example][1]\\n\\n\\n  [1]: https://i.stack.imgur.com/3O0Ae.png\"]\n",
            "combined_nlp_text                       : [b'I am a beginner to website design and development and also learning it. As a beginner i creating a site which is old bbc news website from the following  archive link http://web.archive.org/web/20140402131524/http://www.bbc.co.uk/news/uk\\nso i am stcked at watch/listen part the backgroun color orange to link which is below the video is aligning to the right side of it according to my code \\nfollowing is my code...\\n\\n***HTML***\\n\\n    <html>\\n    <head>\\n    <title>Untitled Document</title>\\n    </head>\\n    <body>\\n    <div class=\"watch\">\\n    <img src=\"http://s9.tinypic.com/2hd45fp_th.jpg\" id=\"WatchListenlogo\"/>\\n    <span class=\"watchhead\">Watch/Listen</span>\\n    <img src=\"http://s9.tinypic.com/35c03yr_th.jpg\" id=\"rightarrow\"/>\\n    <div id=\"videoa\">  \\n    <img src=\"http://s9.tinypic.com/j64ufl_th.jpg\"/>\\n    <a href=\"\">Titanic letter could fetch &pound; 100,000</a>\\n    </div>\\n    </div>\\n    </body>\\n    </html>\\n\\n***CSS***\\n\\n    <style type=\"text/css\">\\n    body{\\n    margin:0;\\n    line-height:15px;\\n    }\\n    .watch{\\n    position:relative;\\n    top:50px;\\n    right:50px;\\n    color:#505050;\\n    line-height:24px;\\n    background-color:#eeeeee;\\n    float:right;\\n    width:336px;\\n    }\\n    #videoa{\\t\\t\\t\\t\\t\\n    float:left;\\n    background-color:#d1700e;\\n    position:relative;\\n    top:-84px;\\n    left:25px;\\n    }\\n    #videoa a{\\n    float:left;\\n    color:white;\\n    position:relative;\\n    top:2px;\\n    left:5px;\\n    }\\n    .watchhead{\\n    font-size:24px;\\n    font-weight:bolder;\\n    position:relative;\\n    top:10px;\\n    left:8px;\\n    }\\n    #WatchListenlogo{\\n    float:right;\\n    position:relative;\\n    top:22px;\\n    right:10px;\\n    }\\n    #rightarrow{\\n    float:left;\\n    border-right:solid white 1px;\\n    position:relative;\\n    top:40px;\\n    }\\n    a{\\n    text-decoration:none;\\n    }\\n    a:hover{\\n    text-decoration:underline;\\n    }\\n    </style>\\n\\n'\n",
            " b'<pre><code>class makeAccount {\\npublic $username;\\npublic function __construct ($username,$password) {\\n    $this-&gt;username = $username;\\n}\\npublic function password($password) {\\n    if(isset($password)) {\\n       $this-&gt;password = $password;\\n       return;\\n    }\\n  }\\n}\\n\\n$user_1 = new makeAccount(\"abc123\",\"12345\");\\nprint $user_1-&gt;password(\"12345\");\\n</code></pre>\\n\\n<p>I am new to php. I am just wondering how to make a private property. I want to have a password property that is private. Is there something wrong with my code?</p>\\n'\n",
            " b'<p>How to vertically center a text in a column (bootstrap 4)? The structure is basic, see:</p>\\n\\n<pre><code>&lt;div class=\"row\"&gt;\\n    &lt;div class=\"col-md-6\"&gt;\\n        &lt;span&gt;Text to center&lt;/span&gt;\\n    &lt;/div\\n&lt;/div&gt;\\n</code></pre>\\n\\n<p>Ty guys!</p>\\n'\n",
            " b\"In MS Access:\\n\\nI am trying to compare two tables with:\\n- TABLE1.docnumb1 = TABLE2.docnumb2\\n- looking for: TABLE1.sum <> TABLE2.sum2\\n\\nBut query retrieves an error: syntax error in from clause (or when creating left join I get an error that JOIN isn't supported):\\n\\nSELECT docnumb1, sum FROM Table1\\nJOIN Table2 ON docnumb1 = docnumb2;\\n\\nHow do I query the rows with different values?\\n\\n[example][1]\\n\\n\\n  [1]: https://i.stack.imgur.com/3O0Ae.png\"]\n",
            "       Class  -> Counts -> Percent\n",
            "           0:     801  ->   33.4%\n",
            "           1:     806  ->   33.6%\n",
            "           2:     793  ->   33.0%\n",
            "    Class weights calculated: {0: 1.0, 1: 1.0, 2: 1.008827238335435}\n",
            "\n",
            "#################################################################################\n",
            "###########     K E R A S     F E A T U R E    P R E P R O C E S S I N G  #######\n",
            "#################################################################################\n",
            "        \n",
            "Starting NLP string column layer preprocessing...\n",
            "For nlp column = body\n",
            "    size of vocabulary = 60217945\n",
            "    sequence length = 22765\n",
            "    recommended embedding_size = 256\n",
            "Max vocab size = 27547\n",
            "    Auto NNLM 50 with Normalization selected from: https://tfhub.dev/google/nnlm-en-dim50-with-normalization/2\n",
            "    NLP Preprocessing completed.\n",
            "Preprocessing non-NLP layers for auto Keras model...\n",
            "    Non-NLP vars is zero in this dataset. No tabular preprocesing needed...\n",
            "There is no numeric or cat or int variables in this data set.\n",
            "    (None, 50) vector dimensions from NLP variable\n",
            "\n",
            "Creating a new Functional model here...\n",
            "\n",
            "#################################################################################\n",
            "###########     C R E A T I N G    A    K E R A S       M O D E L    ############\n",
            "#################################################################################\n",
            "        \n",
            "Creating a keras Function model...\n",
            "    number of outputs = 1, output_activation = softmax\n",
            "    loss function: SparseCategoricalCrossentropy\n",
            "    initial learning rate = 0.05\n",
            "    initial optimizer = SGD\n",
            "    Recommended hidden layers (with units in each Dense Layer)  = (300, 152, 76)\n",
            "\n",
            "    creating auto model body...\n"
          ]
        },
        {
          "output_type": "display_data",
          "data": {
            "image/png": "[encoded data removed]",
            "text/plain": [
              "<IPython.core.display.Image object>"
            ]
          },
          "metadata": {
            "image/png": {
              "width": 48,
              "height": 22
            }
          }
        },
        {
          "output_type": "stream",
          "name": "stdout",
          "text": [
            "Model plot saved in file: deep_autoviml_stackoverflow_quality_classification_auto_model_before.png\n",
            "\n",
            "#################################################################################\n",
            "###########     T R A I N I N G    K E R A S   M O D E L   H E R E      #########\n",
            "#################################################################################\n",
            "    \n",
            "Building and training an automatic model using storm Tuner...\n",
            "    Class weights: {0: 1.0, 1: 1.0, 2: 1.008827238335435}\n",
            "    original datasize = 305310, initial batchsize = 32\n",
            "    Early stopping : True\n",
            "    recommended steps per epoch = 10\n",
            "    default initializer = lecun_normal, default activation = selu\n",
            "    Onecycle steps = 95420\n",
            "    number of classes = 3, output_activation = softmax\n",
            "    loss function: SparseCategoricalCrossentropy\n",
            "    steps_per_epoch = 15, number epochs = 20\n",
            "    val mode = max, val monitor = val_balanced_sparse_categorical_accuracy, patience = 10\n",
            "Tensorboard log directory can be found at: deep_autoviml/mylogs\n",
            "    chosen keras LR scheduler = default\n",
            "\n",
            "Splitting train into 80+20 percent: train and validation data\n",
            "    Splitting validation 20 into 10+10 percent: valid and heldout data\n",
            "Single-Label: Heldout data shape: (1216,)\n",
            "    Training auto model using storm. This will take time...\n",
            "new tuner initialized\n",
            "    STORM Tuner max_trials = 10, randomization factor = 0.5\n",
            "Max. batch size = 64, number of batch sizes to try: 5\n",
            "\n",
            "-------- OPTIMIZING HYPERPARAMETERS --------\n",
            "\n",
            "    found best learning rate = 9.880539e-05\n",
            "<><><> NEW BEST! <><><>\n",
            "\tactivation : selu\n",
            "\tbatch_norm : False\n",
            "\tbatch_size : 32\n",
            "\tdropout_value : 0.2\n",
            "\tinit_lr : 0.0001\n",
            "\tkernel_initializer : glorot_uniform\n",
            "\tkernel_size_0 : 200\n",
            "\tnum_layers : 2\n",
            "\toptimizer : Adagrad\n",
            "\tuse_batch_norm : False\n",
            "\tuse_bias : False\n",
            "\tuse_dropout : True\n",
            "\tweight_decay : 1e-05\n",
            "1 | score: 0.42048507\n",
            "    found best learning rate = 9.880539e-05\n",
            "2 | score: 0.36450515\n",
            "    found best learning rate = 0.000988054\n",
            "<><><> NEW BEST! <><><>\n",
            "\tactivation : elu\n",
            "\tbatch_norm : True\n",
            "\tbatch_size : 32\n",
            "\tdropout_value : 0.1\n",
            "\tinit_lr : 0.001\n",
            "\tkernel_initializer : lecun_normal\n",
            "\tkernel_size_0 : 150\n",
            "\tnum_layers : 3\n",
            "\toptimizer : SGD\n",
            "\tuse_batch_norm : True\n",
            "\tuse_bias : False\n",
            "\tuse_dropout : True\n",
            "\tweight_decay : 0.01\n",
            "3 | score: 0.61915308\n",
            "    found best learning rate = 0.009880539\n",
            "4 | score: 0.61853969\n",
            "    found best learning rate = 0.000988054\n",
            "<><><> NEW BEST! <><><>\n",
            "\tactivation : selu\n",
            "\tbatch_norm : True\n",
            "\tbatch_size : 32\n",
            "\tdropout_value : 0.3\n",
            "\tinit_lr : 0.001\n",
            "\tkernel_initializer : lecun_normal\n",
            "\tkernel_size_0 : 450\n",
            "\tnum_layers : 2\n",
            "\toptimizer : SGD\n",
            "\tuse_batch_norm : True\n",
            "\tuse_bias : True\n",
            "\tuse_dropout : True\n",
            "\tweight_decay : 0.0001\n",
            "5 | score: 0.6244682\n",
            "    found best learning rate = 0.000988054\n",
            "<><><> NEW BEST! <><><>\n",
            "\tactivation : selu\n",
            "\tbatch_norm : True\n",
            "\tbatch_size : 32\n",
            "\tdropout_value : 0.2\n",
            "\tinit_lr : 0.001\n",
            "\tkernel_initializer : he_normal\n",
            "\tkernel_size_0 : 450\n",
            "\tnum_layers : 2\n",
            "\toptimizer : SGD\n",
            "\tuse_batch_norm : True\n",
            "\tuse_bias : True\n",
            "\tuse_dropout : True\n",
            "\tweight_decay : 0.0001\n",
            "6 | score: 0.63678359\n",
            "    found best learning rate = 0.000988054\n",
            "7 | score: 0.62578168\n",
            "    found best learning rate = 0.000988054\n",
            "8 | score: 0.62307793\n",
            "    found best learning rate = 0.000988054\n",
            "9 | score: 0.63626165\n",
            "    found best learning rate = 0.000988054\n",
            "10 | score: 0.56989907\n",
            "tuner finished 10 trials!\n",
            "final best config:\n",
            "\tactivation : selu\n",
            "\tbatch_norm : True\n",
            "\tbatch_size : 32\n",
            "\tdropout_value : 0.2\n",
            "\tinit_lr : 0.001\n",
            "\tkernel_initializer : he_normal\n",
            "\tkernel_size_0 : 450\n",
            "\tnum_layers : 2\n",
            "\toptimizer : SGD\n",
            "\tuse_batch_norm : True\n",
            "\tuse_bias : True\n",
            "\tuse_dropout : True\n",
            "\tweight_decay : 0.0001\n",
            "    best trial selected as <storm_tuner.tuner.Trial object at 0x7f0040325bd0>\n",
            "Time taken for tuning hyperparameters = 2 (mins)\n",
            "Best hyperparameters: {'batch_size': 32, 'num_layers': 2, 'activation': 'selu', 'use_bias': True, 'weight_decay': 0.0001, 'batch_norm': True, 'kernel_initializer': 'he_normal', 'use_dropout': True, 'use_batch_norm': True, 'kernel_size_0': 450, 'optimizer': 'SGD', 'init_lr': 0.001, 'epsilon': 1e-12, 'dropout_value': 0.2}\n",
            "\n",
            "Setting best optimizer SGD its best learning_rate = 0.000988054\n",
            "Model training with best hyperparameters for 20 epochs\n",
            "    Callback added: EarlyStopping object at 0x7f00400eaa50>\n",
            "    Callback added: TensorBoard object at 0x7f00f0f91a10>\n",
            "    Callback added: LearningRateScheduler object at 0x7f00400ea0d0>\n",
            "Epoch 1/20\n",
            "187/187 [==============================] - 4s 12ms/step - loss: 1.3685 - balanced_sparse_categorical_accuracy: 0.5263 - val_loss: 1.0458 - val_balanced_sparse_categorical_accuracy: 0.5976\n",
            "Epoch 2/20\n",
            "187/187 [==============================] - 2s 10ms/step - loss: 1.1518 - balanced_sparse_categorical_accuracy: 0.5768 - val_loss: 1.0032 - val_balanced_sparse_categorical_accuracy: 0.6261\n",
            "Epoch 3/20\n",
            "187/187 [==============================] - 2s 10ms/step - loss: 1.1104 - balanced_sparse_categorical_accuracy: 0.5910 - val_loss: 0.9981 - val_balanced_sparse_categorical_accuracy: 0.6269\n",
            "Epoch 4/20\n",
            "187/187 [==============================] - 2s 10ms/step - loss: 1.0728 - balanced_sparse_categorical_accuracy: 0.6130 - val_loss: 0.9893 - val_balanced_sparse_categorical_accuracy: 0.6340\n",
            "Epoch 5/20\n",
            "187/187 [==============================] - 2s 10ms/step - loss: 1.0664 - balanced_sparse_categorical_accuracy: 0.6149 - val_loss: 0.9800 - val_balanced_sparse_categorical_accuracy: 0.6463\n",
            "Epoch 6/20\n",
            "187/187 [==============================] - 2s 10ms/step - loss: 1.0472 - balanced_sparse_categorical_accuracy: 0.6161 - val_loss: 0.9779 - val_balanced_sparse_categorical_accuracy: 0.6524\n",
            "Epoch 7/20\n",
            "187/187 [==============================] - 2s 10ms/step - loss: 1.0370 - balanced_sparse_categorical_accuracy: 0.6290 - val_loss: 0.9766 - val_balanced_sparse_categorical_accuracy: 0.6390\n",
            "Epoch 8/20\n",
            "187/187 [==============================] - 2s 10ms/step - loss: 1.0273 - balanced_sparse_categorical_accuracy: 0.6352 - val_loss: 0.9770 - val_balanced_sparse_categorical_accuracy: 0.6406\n",
            "Epoch 9/20\n",
            "187/187 [==============================] - 2s 11ms/step - loss: 1.0264 - balanced_sparse_categorical_accuracy: 0.6259 - val_loss: 0.9738 - val_balanced_sparse_categorical_accuracy: 0.6414\n",
            "Epoch 10/20\n",
            "187/187 [==============================] - 2s 10ms/step - loss: 1.0163 - balanced_sparse_categorical_accuracy: 0.6437 - val_loss: 0.9729 - val_balanced_sparse_categorical_accuracy: 0.6424\n",
            "Epoch 11/20\n",
            "187/187 [==============================] - 2s 10ms/step - loss: 1.0149 - balanced_sparse_categorical_accuracy: 0.6386 - val_loss: 0.9701 - val_balanced_sparse_categorical_accuracy: 0.6458\n",
            "Epoch 12/20\n",
            "187/187 [==============================] - 2s 10ms/step - loss: 1.0154 - balanced_sparse_categorical_accuracy: 0.6374 - val_loss: 0.9674 - val_balanced_sparse_categorical_accuracy: 0.6502\n",
            "Epoch 13/20\n",
            "187/187 [==============================] - 2s 9ms/step - loss: 1.0017 - balanced_sparse_categorical_accuracy: 0.6450 - val_loss: 0.9645 - val_balanced_sparse_categorical_accuracy: 0.6427\n",
            "Epoch 14/20\n",
            "187/187 [==============================] - 2s 9ms/step - loss: 0.9988 - balanced_sparse_categorical_accuracy: 0.6475 - val_loss: 0.9639 - val_balanced_sparse_categorical_accuracy: 0.6438\n",
            "Epoch 15/20\n",
            "187/187 [==============================] - 2s 9ms/step - loss: 0.9997 - balanced_sparse_categorical_accuracy: 0.6475 - val_loss: 0.9633 - val_balanced_sparse_categorical_accuracy: 0.6472\n",
            "Epoch 16/20\n",
            "187/187 [==============================] - 2s 10ms/step - loss: 0.9971 - balanced_sparse_categorical_accuracy: 0.6468 - val_loss: 0.9608 - val_balanced_sparse_categorical_accuracy: 0.6565\n",
            "Epoch 17/20\n",
            "187/187 [==============================] - 2s 10ms/step - loss: 0.9993 - balanced_sparse_categorical_accuracy: 0.6503 - val_loss: 0.9625 - val_balanced_sparse_categorical_accuracy: 0.6586\n",
            "Epoch 18/20\n",
            "187/187 [==============================] - 2s 10ms/step - loss: 0.9857 - balanced_sparse_categorical_accuracy: 0.6622 - val_loss: 0.9615 - val_balanced_sparse_categorical_accuracy: 0.6533\n",
            "Epoch 19/20\n",
            "187/187 [==============================] - 2s 10ms/step - loss: 0.9865 - balanced_sparse_categorical_accuracy: 0.6543 - val_loss: 0.9588 - val_balanced_sparse_categorical_accuracy: 0.6491\n",
            "Epoch 20/20\n",
            "187/187 [==============================] - 2s 9ms/step - loss: 0.9875 - balanced_sparse_categorical_accuracy: 0.6528 - val_loss: 0.9578 - val_balanced_sparse_categorical_accuracy: 0.6581\n",
            "    Model training completed. Following metrics available: dict_keys(['loss', 'balanced_sparse_categorical_accuracy', 'val_loss', 'val_balanced_sparse_categorical_accuracy', 'lr'])\n",
            "Time taken to train model (in mins) = 3\n",
            "8492\n",
            "    Stopped epoch = 10\n"
          ]
        },
        {
          "output_type": "display_data",
          "data": {
            "image/png": "[encoded data removed]",
            "text/plain": [
              "<Figure size 1080x432 with 2 Axes>"
            ]
          },
          "metadata": {
            "needs_background": "light"
          }
        },
        {
          "output_type": "stream",
          "name": "stdout",
          "text": [
            "Time taken to train model (in mins) = 3\n",
            "    Stopped epoch = 10\n",
            "Held out data actuals shape: (1216,)\n",
            "    samples from label: [2, 0, 1, 2, 0, 1, 0, 2, 2, 1]\n",
            "\n",
            "Held out predictions shape:(1216,)\n",
            "    Sample predictions: [2 0 0 2 2 1 0 2 2 1]\n",
            "\n",
            "###########################################################\n",
            "         Held-out test data set Results:\n",
            "Single Label (single-output), Multi-Class Report: Y\n",
            "#################################################################\n"
          ]
        },
        {
          "output_type": "display_data",
          "data": {
            "text/html": [
              "<style>.container { width:95% !important; }</style>"
            ],
            "text/plain": [
              "<IPython.core.display.HTML object>"
            ]
          },
          "metadata": {}
        },
        {
          "output_type": "stream",
          "name": "stdout",
          "text": [
            "    Accuracy          = 66.5%\n",
            "    Balanced Accuracy (average recall) = 66.3%\n",
            "    Average Precision (macro) = 66.2%\n",
            "    Precisions by class:\n",
            "    56.7%      66.5%      75.5%  \n",
            "    Recall Scores by class:\n",
            "    52.7%      71.8%      74.6%  \n",
            "    F1 Scores by class:\n",
            "    54.6%      69.0%      75.0%  \n",
            "#####################################################\n",
            "\n",
            "Finally, training on full train dataset. This will take time...\n",
            "    best learning rate = 0.00075395405\n",
            "    set learning rate using best model: 0.00075395405\n",
            "    max epochs for training = 10\n",
            "\n",
            "Model not being saved since save_model_flag set to False...\n",
            "5964\n",
            "\n",
            "Saving vocab dictionary using pickle in stackoverflow_quality_classification/auto/model_2021_10_29-05_51_05/artifacts/cat_vocab_dict.pickle...will take time...\n",
            "    Saved pickle file in stackoverflow_quality_classification/auto/model_2021_10_29-05_51_05/artifacts/cat_vocab_dict.pickle\n",
            "\n",
            "Saving variable definitions file using pickle in stackoverflow_quality_classification/auto/model_2021_10_29-05_51_05/artifacts/var_df.pickle...will take time...\n",
            "    Saved pickle file in stackoverflow_quality_classification/auto/model_2021_10_29-05_51_05/artifacts/var_df.pickle\n",
            "\n",
            "Deep_Auto_ViML completed. Total time taken = 4 (in mins)\n"
          ]
        },
        {
          "output_type": "display_data",
          "data": {
            "image/png": "[encoded data removed]",
            "text/plain": [
              "<IPython.core.display.Image object>"
            ]
          },
          "metadata": {
            "image/png": {
              "width": 1619,
              "height": 39
            }
          }
        },
        {
          "output_type": "stream",
          "name": "stdout",
          "text": [
            "Model plot saved in file: deep_autoviml_stackoverflow_quality_classification_auto_model_after.png\n"
          ]
        },
        {
          "output_type": "display_data",
          "data": {
            "image/png": "[encoded data removed]",
            "text/plain": [
              "<Figure size 1080x432 with 4 Axes>"
            ]
          },
          "metadata": {
            "needs_background": "light"
          }
        }
      ]
    },
    {
      "cell_type": "markdown",
      "metadata": {
        "id": "J_-Oq272kkxn"
      },
      "source": [
        "# Inference"
      ]
    },
    {
      "cell_type": "code",
      "metadata": {
        "colab": {
          "base_uri": "https://localhost:8080/"
        },
        "id": "Qkto_j3Djdno",
        "outputId": "28ffa65f-d0ca-46b3-f568-ac4f648da908"
      },
      "source": [
        "testpath = '/content/data/stackoverflow_test.csv'\n",
        "predictions = deepauto.predict(model, project_name='stackoverflow_quality_classification', test_dataset=testpath,\n",
        "                                 keras_model_type=keras_model_type, \n",
        "                                 cat_vocab_dict=dicti)"
      ],
      "execution_count": null,
      "outputs": [
        {
          "output_type": "stream",
          "name": "stdout",
          "text": [
            "\n",
            "Loading deep_autoviml model from <keras.engine.functional.Functional object at 0x7f003fc289d0> folder. This will take time...\n",
            "\n",
            "Using <keras.engine.functional.Functional object at 0x7f003fc289d0> model provided as input...\n",
            "Time taken to load saved model = 0 seconds\n",
            "Loaded test data size: 3000\n",
            "Alert! Modified column names to satisfy rules for column names in Tensorflow...\n",
            "############## C L A S S I F Y I N G  V A R I A B L E S  ####################\n",
            "Classifying variables in data set...\n",
            "    3 Predictors classified...\n",
            "    possible latitude columns in dataset: []\n",
            "        after further analysis, no latitude columns found\n",
            "    possible longitude columns in dataset: []\n",
            "        after further analysis, no longitude columns found\n",
            "        1 variable(s) to be removed since they were ID or low-information variables\n",
            "Distribution of string columns in datatset:\n",
            "    number of binary = 0, cats = 1, high cats = 0, very high cats = 1\n",
            "Distribution of integer columns in datatset:\n",
            "    number of binary = 0, cats = 0, high cats = 0, very high cats = 1\n",
            "Distribution of floats:\n",
            "    number float variables = 0\n",
            "No data transformations needed in this dataset\n",
            "    we transformed ['unnamed:_0'] from integer to float\n",
            "body is detected and will be treated as an NLP variable\n",
            "    after data cleaning, number of predictors used in modeling = 2\n",
            "Not performing feature crossing for categorical nor integer variables\n",
            "    test data loaded successfully.\n",
            "    combined NLP or text vars: ['body'] into a single feature successfully\n",
            "test data size =  3000 , batch_size =  32\n",
            "Boolean column successfully processed\n",
            "Batch size = 32\n",
            "    number of steps needed to predict: 94\n",
            "    Sample predictions before inverse_transform: [2 1 2 0 0]\n",
            "    Sample predictions after inverse_transform: ['LQ_EDIT' 'LQ_CLOSE' 'LQ_EDIT' 'HQ' 'HQ']\n",
            "Returning model predictions in form of a list...of length 2\n",
            "Time taken in mins for predictions = 0\n"
          ]
        }
      ]
    },
    {
      "cell_type": "code",
      "metadata": {
        "colab": {
          "base_uri": "https://localhost:8080/"
        },
        "id": "HlnnmkkUkxJz",
        "outputId": "bc790ee7-b206-4d79-c484-884d1898bfcb"
      },
      "source": [
        "test = pd.read_csv(testpath)\n",
        "print(classification_report(test[target].values,predictions[1]))\n"
      ],
      "execution_count": null,
      "outputs": [
        {
          "output_type": "stream",
          "name": "stdout",
          "text": [
            "              precision    recall  f1-score   support\n",
            "\n",
            "          HQ       0.22      0.21      0.22      1008\n",
            "    LQ_CLOSE       0.24      0.28      0.26       943\n",
            "     LQ_EDIT       0.73      0.66      0.70      1049\n",
            "\n",
            "    accuracy                           0.39      3000\n",
            "   macro avg       0.40      0.38      0.39      3000\n",
            "weighted avg       0.41      0.39      0.40      3000\n",
            "\n"
          ]
        }
      ]
    }
  ]
}