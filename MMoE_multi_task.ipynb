{
  "nbformat": 4,
  "nbformat_minor": 0,
  "metadata": {
    "colab": {
      "name": "MMoE_multi_task.ipynb",
      "provenance": [],
      "collapsed_sections": []
    },
    "kernelspec": {
      "name": "python3",
      "display_name": "Python 3"
    },
    "language_info": {
      "name": "python"
    }
  },
  "cells": [
    {
      "cell_type": "markdown",
      "metadata": {
        "id": "fxku0EQQAS38"
      },
      "source": [
        "# Bharath Gunasekaran\n",
        "MMoE multi task learning model\n",
        "\n",
        "https://github.com/drawbridge/keras-mmoe"
      ]
    },
    {
      "cell_type": "code",
      "metadata": {
        "colab": {
          "base_uri": "https://localhost:8080/"
        },
        "id": "wUPzi43cJ68v",
        "outputId": "6f2cbd8f-3c8e-4b90-d394-050b806ec8c1"
      },
      "source": [
        "! mkdir Mmoe/\n",
        "! touch Mmoe/__init__.py\n",
        "!wget https://raw.githubusercontent.com/drawbridge/keras-mmoe/master/mmoe.py -O /content/Mmoe/mmoe.py"
      ],
      "execution_count": 2,
      "outputs": [
        {
          "output_type": "stream",
          "name": "stdout",
          "text": [
            "--2021-11-10 03:05:38--  https://raw.githubusercontent.com/drawbridge/keras-mmoe/master/mmoe.py\n",
            "Resolving raw.githubusercontent.com (raw.githubusercontent.com)... 185.199.108.133, 185.199.109.133, 185.199.110.133, ...\n",
            "Connecting to raw.githubusercontent.com (raw.githubusercontent.com)|185.199.108.133|:443... connected.\n",
            "HTTP request sent, awaiting response... 200 OK\n",
            "Length: 11077 (11K) [text/plain]\n",
            "Saving to: ‘/content/Mmoe/mmoe.py’\n",
            "\n",
            "\r/content/Mmoe/mmoe.   0%[                    ]       0  --.-KB/s               \r/content/Mmoe/mmoe. 100%[===================>]  10.82K  --.-KB/s    in 0s      \n",
            "\n",
            "2021-11-10 03:05:39 (86.1 MB/s) - ‘/content/Mmoe/mmoe.py’ saved [11077/11077]\n",
            "\n"
          ]
        }
      ]
    },
    {
      "cell_type": "code",
      "metadata": {
        "id": "uk_6kslPHJLm"
      },
      "source": [
        "import random\n",
        "\n",
        "import pandas as pd\n",
        "import numpy as np\n",
        "import tensorflow as tf\n",
        "from tensorflow.keras import backend as K\n",
        "from tensorflow.keras import metrics\n",
        "from tensorflow.keras.optimizers import Adam\n",
        "from tensorflow.keras.initializers import VarianceScaling\n",
        "from tensorflow.keras.layers import Input, Dense\n",
        "from tensorflow.keras.models import Model\n",
        "from Mmoe.mmoe import MMoE\n",
        "import matplotlib.pyplot as plt\n"
      ],
      "execution_count": 45,
      "outputs": []
    },
    {
      "cell_type": "markdown",
      "metadata": {
        "id": "wi2HZfK4MSLL"
      },
      "source": [
        "# Set Intial Parameters"
      ]
    },
    {
      "cell_type": "code",
      "metadata": {
        "id": "a4uliV08MUpZ"
      },
      "source": [
        "SEED = 1\n",
        "\n",
        "np.random.seed(SEED)\n",
        "\n",
        "random.seed(SEED)\n",
        "\n",
        "tf.random.set_seed(SEED)"
      ],
      "execution_count": 4,
      "outputs": []
    },
    {
      "cell_type": "markdown",
      "metadata": {
        "id": "Q_VPHaHRMVhD"
      },
      "source": [
        "# Dataset Generation"
      ]
    },
    {
      "cell_type": "code",
      "metadata": {
        "id": "kKp1_soSMXWP"
      },
      "source": [
        "def data_preparation():\n",
        "    # Randomly Generating Data \n",
        "    num_dimension = 100\n",
        "    num_row = 5000\n",
        "    c = 0.3\n",
        "    rho = 0.8\n",
        "    m = 5\n",
        "\n",
        "    mu1 = np.random.normal(size=num_dimension)\n",
        "    mu1 = (mu1 - np.mean(mu1)) / (np.std(mu1) * np.sqrt(num_dimension))\n",
        "    mu2 = np.random.normal(size=num_dimension)\n",
        "    mu2 -= mu2.dot(mu1) * mu1\n",
        "    mu2 /= np.linalg.norm(mu2)\n",
        "    w1 = c * mu1\n",
        "    w2 = c * (rho * mu1 + np.sqrt(1. - rho ** 2) * mu2)\n",
        "\n",
        "    # Feature and label generation\n",
        "    alpha = np.random.normal(size=m)\n",
        "    beta = np.random.normal(size=m)\n",
        "    y0 = []\n",
        "    y1 = []\n",
        "    X = []\n",
        "\n",
        "    for i in range(num_row):\n",
        "        x = np.random.normal(size=num_dimension)\n",
        "        X.append(x)\n",
        "        num1 = w1.dot(x)\n",
        "        num2 = w2.dot(x)\n",
        "        comp1, comp2 = 0.0, 0.0\n",
        "\n",
        "        for j in range(m):\n",
        "            comp1 += np.sin(alpha[j] * num1 + beta[j])\n",
        "            comp2 += np.sin(alpha[j] * num2 + beta[j])\n",
        "\n",
        "        y0.append(num1 + comp1 + np.random.normal(scale=0.1, size=1))\n",
        "        y1.append(num2 + comp2 + np.random.normal(scale=0.1, size=1))\n",
        "    X = np.array(X)\n",
        "    data = pd.DataFrame(\n",
        "        data=X,\n",
        "        index=range(X.shape[0]),\n",
        "        columns=['x{}'.format(it) for it in range(X.shape[1])]\n",
        "    )\n",
        "\n",
        "    data['y0'] = np.array(y0)\n",
        "    data['y1'] = np.array(y1)\n",
        "\n",
        "    features = data.drop(columns=['y0','y1'])\n",
        "    labels = data[['y0','y1']]\n",
        "\n",
        "    train_data = features.iloc[0:3500]\n",
        "    train_label =  labels.iloc[0:3500]\n",
        "\n",
        "    validation_data = features.iloc[3500:4500]\n",
        "    validation_label = labels.iloc[3500:4500]\n",
        "    test_data = features.iloc[4500:]\n",
        "    test_label = labels.iloc[4500:]\n",
        "    return train_data, train_label , validation_data, validation_label, test_data, test_label"
      ],
      "execution_count": 50,
      "outputs": []
    },
    {
      "cell_type": "markdown",
      "metadata": {
        "id": "P9w6a1N8atAk"
      },
      "source": [
        "# Load Dataset"
      ]
    },
    {
      "cell_type": "code",
      "metadata": {
        "colab": {
          "base_uri": "https://localhost:8080/"
        },
        "id": "Lnc2KWVPauxZ",
        "outputId": "3d245593-2f48-438c-a5b9-441f61edbe88"
      },
      "source": [
        "train_data, train_label, validation_data, validation_label, test_data, test_label = data_preparation()\n",
        "num_features = train_data.shape[1]\n",
        "\n",
        "print('Training data shape = {}'.format(train_data.shape))\n",
        "print('Training data shape = {}'.format(train_label.shape))\n",
        "\n",
        "print('Validation data shape = {}'.format(validation_data.shape))\n",
        "print('Test data shape = {}'.format(test_data.shape))"
      ],
      "execution_count": 57,
      "outputs": [
        {
          "output_type": "stream",
          "name": "stdout",
          "text": [
            "Training data shape = (3500, 100)\n",
            "Training data shape = (3500, 2)\n",
            "Validation data shape = (1000, 100)\n",
            "Test data shape = (500, 100)\n"
          ]
        }
      ]
    },
    {
      "cell_type": "markdown",
      "metadata": {
        "id": "LRLmEu7Cayfn"
      },
      "source": [
        "# Model Creation"
      ]
    },
    {
      "cell_type": "code",
      "metadata": {
        "colab": {
          "base_uri": "https://localhost:8080/"
        },
        "id": "i8enQyPGa24g",
        "outputId": "afe698f0-dd0c-40eb-e9f8-2b0d47676307"
      },
      "source": [
        "# Set up the input layer\n",
        "input_layer = Input(shape=(num_features,))\n",
        "\n",
        "# Set up MMoE layer\n",
        "mmoe_layers = MMoE(\n",
        "    units=16,\n",
        "    num_experts=8,\n",
        "    num_tasks=2\n",
        ")(input_layer)\n",
        "\n",
        "output_layers = []\n",
        "\n",
        "output_info = ['y0', 'y1']\n",
        "\n",
        "# Build tower layer from MMoE layer\n",
        "for index, task_layer in enumerate(mmoe_layers):\n",
        "    tower_layer = Dense(\n",
        "        units=8,\n",
        "        activation='relu',\n",
        "        kernel_initializer=VarianceScaling())(task_layer)\n",
        "    output_layer = Dense(\n",
        "        units=1,\n",
        "        name=output_info[index],\n",
        "        activation='linear',\n",
        "        kernel_initializer=VarianceScaling())(tower_layer)\n",
        "    output_layers.append(output_layer)\n",
        "\n",
        "# Compile model\n",
        "model = Model(inputs=[input_layer], outputs=output_layers)\n",
        "learning_rates = [1e-4, 1e-3, 1e-2]\n",
        "adam_optimizer = Adam(lr=learning_rates[0])\n",
        "model.compile(\n",
        "    loss={'y0': 'mean_squared_error', 'y1': 'mean_squared_error'},\n",
        "    optimizer=adam_optimizer,\n",
        "    metrics=[metrics.mae]\n",
        ")\n",
        "\n",
        "# Print out model architecture summary\n",
        "model.summary()"
      ],
      "execution_count": 58,
      "outputs": [
        {
          "output_type": "stream",
          "name": "stdout",
          "text": [
            "Model: \"model_7\"\n",
            "__________________________________________________________________________________________________\n",
            " Layer (type)                   Output Shape         Param #     Connected to                     \n",
            "==================================================================================================\n",
            " input_8 (InputLayer)           [(None, 100)]        0           []                               \n",
            "                                                                                                  \n",
            " m_mo_e_7 (MMoE)                [(None, 16),         14544       ['input_8[0][0]']                \n",
            "                                 (None, 16)]                                                      \n",
            "                                                                                                  \n",
            " dense_14 (Dense)               (None, 8)            136         ['m_mo_e_7[0][0]']               \n",
            "                                                                                                  \n",
            " dense_15 (Dense)               (None, 8)            136         ['m_mo_e_7[0][1]']               \n",
            "                                                                                                  \n",
            " y0 (Dense)                     (None, 1)            9           ['dense_14[0][0]']               \n",
            "                                                                                                  \n",
            " y1 (Dense)                     (None, 1)            9           ['dense_15[0][0]']               \n",
            "                                                                                                  \n",
            "==================================================================================================\n",
            "Total params: 14,834\n",
            "Trainable params: 14,834\n",
            "Non-trainable params: 0\n",
            "__________________________________________________________________________________________________\n"
          ]
        },
        {
          "output_type": "stream",
          "name": "stderr",
          "text": [
            "/usr/local/lib/python3.7/dist-packages/keras/optimizer_v2/adam.py:105: UserWarning: The `lr` argument is deprecated, use `learning_rate` instead.\n",
            "  super(Adam, self).__init__(name, **kwargs)\n"
          ]
        }
      ]
    },
    {
      "cell_type": "markdown",
      "metadata": {
        "id": "E_KMlq6Ja41S"
      },
      "source": [
        "# Training Model "
      ]
    },
    {
      "cell_type": "code",
      "metadata": {
        "colab": {
          "base_uri": "https://localhost:8080/",
          "height": 1000
        },
        "id": "rvOqdFr9a7xu",
        "outputId": "8556707e-50d6-4988-ebfc-021ae29e711f"
      },
      "source": [
        "# Train the model\n",
        "history = model.fit(\n",
        "    x=train_data,\n",
        "    y=train_label,\n",
        "    validation_data=(validation_data, validation_label),\n",
        "    epochs=20\n",
        ")\n",
        "print(history.history.keys())\n",
        "# summarize history for accuracy\n",
        "plt.plot(history.history['loss'])\n",
        "plt.plot(history.history['val_loss'])\n",
        "plt.title('model loss')\n",
        "plt.ylabel('loss')\n",
        "plt.xlabel('epoch')\n",
        "plt.legend(['train', 'test'], loc='upper left')\n",
        "plt.show()\n",
        "\n",
        "plt.plot(history.history['y0_loss'])\n",
        "plt.plot(history.history['val_y0_loss'])\n",
        "plt.title('model y0_loss')\n",
        "plt.ylabel('y0_loss')\n",
        "plt.xlabel('epoch')\n",
        "plt.legend(['train', 'test'], loc='upper left')\n",
        "plt.show()\n",
        "\n",
        "plt.plot(history.history['y1_loss'])\n",
        "plt.plot(history.history['val_y1_loss'])\n",
        "plt.title('model y1_loss')\n",
        "plt.ylabel('y1_loss')\n",
        "plt.xlabel('epoch')\n",
        "plt.legend(['train', 'test'], loc='upper left')\n",
        "plt.show()"
      ],
      "execution_count": 59,
      "outputs": [
        {
          "output_type": "stream",
          "name": "stdout",
          "text": [
            "Epoch 1/20\n",
            "110/110 [==============================] - 2s 7ms/step - loss: 0.3588 - y0_loss: 0.1752 - y1_loss: 0.1837 - y0_mean_absolute_error: 0.3380 - y1_mean_absolute_error: 0.3458 - val_loss: 0.3168 - val_y0_loss: 0.1604 - val_y1_loss: 0.1564 - val_y0_mean_absolute_error: 0.3182 - val_y1_mean_absolute_error: 0.3153\n",
            "Epoch 2/20\n",
            "110/110 [==============================] - 0s 3ms/step - loss: 0.2924 - y0_loss: 0.1544 - y1_loss: 0.1380 - y0_mean_absolute_error: 0.3169 - y1_mean_absolute_error: 0.2987 - val_loss: 0.2628 - val_y0_loss: 0.1411 - val_y1_loss: 0.1217 - val_y0_mean_absolute_error: 0.2979 - val_y1_mean_absolute_error: 0.2775\n",
            "Epoch 3/20\n",
            "110/110 [==============================] - 0s 3ms/step - loss: 0.2364 - y0_loss: 0.1319 - y1_loss: 0.1045 - y0_mean_absolute_error: 0.2923 - y1_mean_absolute_error: 0.2590 - val_loss: 0.2132 - val_y0_loss: 0.1194 - val_y1_loss: 0.0939 - val_y0_mean_absolute_error: 0.2736 - val_y1_mean_absolute_error: 0.2437\n",
            "Epoch 4/20\n",
            "110/110 [==============================] - 0s 3ms/step - loss: 0.1848 - y0_loss: 0.1077 - y1_loss: 0.0771 - y0_mean_absolute_error: 0.2634 - y1_mean_absolute_error: 0.2210 - val_loss: 0.1679 - val_y0_loss: 0.0970 - val_y1_loss: 0.0709 - val_y0_mean_absolute_error: 0.2467 - val_y1_mean_absolute_error: 0.2120\n",
            "Epoch 5/20\n",
            "110/110 [==============================] - 0s 3ms/step - loss: 0.1404 - y0_loss: 0.0842 - y1_loss: 0.0562 - y0_mean_absolute_error: 0.2315 - y1_mean_absolute_error: 0.1876 - val_loss: 0.1312 - val_y0_loss: 0.0765 - val_y1_loss: 0.0547 - val_y0_mean_absolute_error: 0.2190 - val_y1_mean_absolute_error: 0.1861\n",
            "Epoch 6/20\n",
            "110/110 [==============================] - 0s 3ms/step - loss: 0.1072 - y0_loss: 0.0643 - y1_loss: 0.0429 - y0_mean_absolute_error: 0.2015 - y1_mean_absolute_error: 0.1641 - val_loss: 0.1048 - val_y0_loss: 0.0598 - val_y1_loss: 0.0449 - val_y0_mean_absolute_error: 0.1936 - val_y1_mean_absolute_error: 0.1685\n",
            "Epoch 7/20\n",
            "110/110 [==============================] - 0s 3ms/step - loss: 0.0856 - y0_loss: 0.0498 - y1_loss: 0.0358 - y0_mean_absolute_error: 0.1766 - y1_mean_absolute_error: 0.1494 - val_loss: 0.0887 - val_y0_loss: 0.0486 - val_y1_loss: 0.0401 - val_y0_mean_absolute_error: 0.1744 - val_y1_mean_absolute_error: 0.1594\n",
            "Epoch 8/20\n",
            "110/110 [==============================] - 0s 3ms/step - loss: 0.0731 - y0_loss: 0.0407 - y1_loss: 0.0324 - y0_mean_absolute_error: 0.1595 - y1_mean_absolute_error: 0.1426 - val_loss: 0.0796 - val_y0_loss: 0.0418 - val_y1_loss: 0.0378 - val_y0_mean_absolute_error: 0.1619 - val_y1_mean_absolute_error: 0.1550\n",
            "Epoch 9/20\n",
            "110/110 [==============================] - 0s 3ms/step - loss: 0.0661 - y0_loss: 0.0355 - y1_loss: 0.0305 - y0_mean_absolute_error: 0.1490 - y1_mean_absolute_error: 0.1386 - val_loss: 0.0746 - val_y0_loss: 0.0380 - val_y1_loss: 0.0366 - val_y0_mean_absolute_error: 0.1546 - val_y1_mean_absolute_error: 0.1527\n",
            "Epoch 10/20\n",
            "110/110 [==============================] - 0s 3ms/step - loss: 0.0620 - y0_loss: 0.0326 - y1_loss: 0.0294 - y0_mean_absolute_error: 0.1427 - y1_mean_absolute_error: 0.1361 - val_loss: 0.0716 - val_y0_loss: 0.0358 - val_y1_loss: 0.0358 - val_y0_mean_absolute_error: 0.1502 - val_y1_mean_absolute_error: 0.1513\n",
            "Epoch 11/20\n",
            "110/110 [==============================] - 0s 3ms/step - loss: 0.0593 - y0_loss: 0.0308 - y1_loss: 0.0285 - y0_mean_absolute_error: 0.1388 - y1_mean_absolute_error: 0.1342 - val_loss: 0.0697 - val_y0_loss: 0.0345 - val_y1_loss: 0.0352 - val_y0_mean_absolute_error: 0.1476 - val_y1_mean_absolute_error: 0.1501\n",
            "Epoch 12/20\n",
            "110/110 [==============================] - 0s 3ms/step - loss: 0.0574 - y0_loss: 0.0296 - y1_loss: 0.0278 - y0_mean_absolute_error: 0.1362 - y1_mean_absolute_error: 0.1325 - val_loss: 0.0685 - val_y0_loss: 0.0337 - val_y1_loss: 0.0348 - val_y0_mean_absolute_error: 0.1460 - val_y1_mean_absolute_error: 0.1493\n",
            "Epoch 13/20\n",
            "110/110 [==============================] - 0s 3ms/step - loss: 0.0560 - y0_loss: 0.0287 - y1_loss: 0.0272 - y0_mean_absolute_error: 0.1342 - y1_mean_absolute_error: 0.1312 - val_loss: 0.0675 - val_y0_loss: 0.0331 - val_y1_loss: 0.0344 - val_y0_mean_absolute_error: 0.1448 - val_y1_mean_absolute_error: 0.1486\n",
            "Epoch 14/20\n",
            "110/110 [==============================] - 0s 3ms/step - loss: 0.0548 - y0_loss: 0.0281 - y1_loss: 0.0268 - y0_mean_absolute_error: 0.1327 - y1_mean_absolute_error: 0.1300 - val_loss: 0.0668 - val_y0_loss: 0.0326 - val_y1_loss: 0.0342 - val_y0_mean_absolute_error: 0.1441 - val_y1_mean_absolute_error: 0.1481\n",
            "Epoch 15/20\n",
            "110/110 [==============================] - 0s 3ms/step - loss: 0.0539 - y0_loss: 0.0275 - y1_loss: 0.0263 - y0_mean_absolute_error: 0.1314 - y1_mean_absolute_error: 0.1289 - val_loss: 0.0662 - val_y0_loss: 0.0323 - val_y1_loss: 0.0339 - val_y0_mean_absolute_error: 0.1434 - val_y1_mean_absolute_error: 0.1476\n",
            "Epoch 16/20\n",
            "110/110 [==============================] - 0s 3ms/step - loss: 0.0530 - y0_loss: 0.0271 - y1_loss: 0.0260 - y0_mean_absolute_error: 0.1304 - y1_mean_absolute_error: 0.1281 - val_loss: 0.0657 - val_y0_loss: 0.0320 - val_y1_loss: 0.0337 - val_y0_mean_absolute_error: 0.1428 - val_y1_mean_absolute_error: 0.1471\n",
            "Epoch 17/20\n",
            "110/110 [==============================] - 0s 3ms/step - loss: 0.0523 - y0_loss: 0.0266 - y1_loss: 0.0256 - y0_mean_absolute_error: 0.1293 - y1_mean_absolute_error: 0.1272 - val_loss: 0.0653 - val_y0_loss: 0.0318 - val_y1_loss: 0.0335 - val_y0_mean_absolute_error: 0.1425 - val_y1_mean_absolute_error: 0.1467\n",
            "Epoch 18/20\n",
            "110/110 [==============================] - 0s 4ms/step - loss: 0.0517 - y0_loss: 0.0263 - y1_loss: 0.0253 - y0_mean_absolute_error: 0.1285 - y1_mean_absolute_error: 0.1265 - val_loss: 0.0650 - val_y0_loss: 0.0316 - val_y1_loss: 0.0334 - val_y0_mean_absolute_error: 0.1421 - val_y1_mean_absolute_error: 0.1464\n",
            "Epoch 19/20\n",
            "110/110 [==============================] - 0s 3ms/step - loss: 0.0511 - y0_loss: 0.0260 - y1_loss: 0.0251 - y0_mean_absolute_error: 0.1278 - y1_mean_absolute_error: 0.1258 - val_loss: 0.0647 - val_y0_loss: 0.0314 - val_y1_loss: 0.0332 - val_y0_mean_absolute_error: 0.1419 - val_y1_mean_absolute_error: 0.1461\n",
            "Epoch 20/20\n",
            "110/110 [==============================] - 0s 4ms/step - loss: 0.0506 - y0_loss: 0.0257 - y1_loss: 0.0249 - y0_mean_absolute_error: 0.1270 - y1_mean_absolute_error: 0.1251 - val_loss: 0.0644 - val_y0_loss: 0.0313 - val_y1_loss: 0.0331 - val_y0_mean_absolute_error: 0.1416 - val_y1_mean_absolute_error: 0.1457\n",
            "dict_keys(['loss', 'y0_loss', 'y1_loss', 'y0_mean_absolute_error', 'y1_mean_absolute_error', 'val_loss', 'val_y0_loss', 'val_y1_loss', 'val_y0_mean_absolute_error', 'val_y1_mean_absolute_error'])\n"
          ]
        },
        {
          "output_type": "display_data",
          "data": {
            "image/png": "[encoded data removed]",
            "text/plain": [
              "<Figure size 432x288 with 1 Axes>"
            ]
          },
          "metadata": {
            "needs_background": "light"
          }
        },
        {
          "output_type": "display_data",
          "data": {
            "image/png": "[encoded data removed]",
            "text/plain": [
              "<Figure size 432x288 with 1 Axes>"
            ]
          },
          "metadata": {
            "needs_background": "light"
          }
        },
        {
          "output_type": "display_data",
          "data": {
            "image/png": "[encoded data removed]",
            "text/plain": [
              "<Figure size 432x288 with 1 Axes>"
            ]
          },
          "metadata": {
            "needs_background": "light"
          }
        }
      ]
    }
  ]
}