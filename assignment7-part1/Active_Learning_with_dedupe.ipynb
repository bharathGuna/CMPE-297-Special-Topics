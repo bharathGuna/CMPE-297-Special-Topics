{
  "nbformat": 4,
  "nbformat_minor": 0,
  "metadata": {
    "kernelspec": {
      "name": "python3",
      "display_name": "Python 3"
    },
    "colab": {
      "name": "Active-Learning-with-dedupe.ipynb",
      "provenance": []
    },
    "language_info": {
      "name": "python"
    },
    "accelerator": "GPU"
  },
  "cells": [
    {
      "cell_type": "markdown",
      "metadata": {
        "id": "Vk-QywHiFpbW"
      },
      "source": [
        "This collab does active learning on the FEBRL people data. \n",
        "Input from subject matter experts is gathered using dedupe. \n",
        "\n",
        "By Bharath Gunasekaran\n"
      ]
    },
    {
      "cell_type": "markdown",
      "metadata": {
        "id": "4wWu5rS89tUV"
      },
      "source": [
        "# Use Active Learning to Link FEBRL People Data"
      ]
    },
    {
      "cell_type": "markdown",
      "metadata": {
        "id": "SohP4pCd9tUk"
      },
      "source": [
        "## Downloading dependencies"
      ]
    },
    {
      "cell_type": "code",
      "metadata": {
        "id": "LMdgUlss9tUl"
      },
      "source": [
        "\n",
        "import requests\n",
        "\n",
        "tutorial_functions_url = \"https://raw.githubusercontent.com/rachhouse/intro-to-data-linking/main/tutorial_notebooks/linking_tutorial_functions.py\"\n",
        "r = requests.get(tutorial_functions_url)\n",
        "\n",
        "with open(\"linking_tutorial_functions.py\", \"w\") as fh:\n",
        "    fh.write(r.text)\n",
        "\n",
        "!pip install -q altair dedupe dedupe-variable-name jellyfish recordlinkage "
      ],
      "execution_count": 1,
      "outputs": []
    },
    {
      "cell_type": "code",
      "metadata": {
        "colab": {
          "base_uri": "https://localhost:8080/",
          "height": 347
        },
        "id": "U5pC1NWE_I_h",
        "outputId": "cdc1e569-1ed4-4a85-f282-6ca02eba2ca9"
      },
      "source": [
        "pip install numpy --upgrade"
      ],
      "execution_count": 4,
      "outputs": [
        {
          "output_type": "stream",
          "name": "stdout",
          "text": [
            "Requirement already satisfied: numpy in /usr/local/lib/python3.7/dist-packages (1.19.5)\n",
            "Collecting numpy\n",
            "  Downloading numpy-1.21.4-cp37-cp37m-manylinux_2_12_x86_64.manylinux2010_x86_64.whl (15.7 MB)\n",
            "\u001b[K     |████████████████████████████████| 15.7 MB 5.4 MB/s \n",
            "\u001b[?25hInstalling collected packages: numpy\n",
            "  Attempting uninstall: numpy\n",
            "    Found existing installation: numpy 1.19.5\n",
            "    Uninstalling numpy-1.19.5:\n",
            "      Successfully uninstalled numpy-1.19.5\n",
            "\u001b[31mERROR: pip's dependency resolver does not currently take into account all the packages that are installed. This behaviour is the source of the following dependency conflicts.\n",
            "yellowbrick 1.3.post1 requires numpy<1.20,>=1.16.0, but you have numpy 1.21.4 which is incompatible.\n",
            "datascience 0.10.6 requires folium==0.2.1, but you have folium 0.8.3 which is incompatible.\n",
            "albumentations 0.1.12 requires imgaug<0.2.7,>=0.2.5, but you have imgaug 0.2.9 which is incompatible.\u001b[0m\n",
            "Successfully installed numpy-1.21.4\n"
          ]
        },
        {
          "output_type": "display_data",
          "data": {
            "application/vnd.colab-display-data+json": {
              "pip_warning": {
                "packages": [
                  "numpy"
                ]
              }
            }
          },
          "metadata": {}
        }
      ]
    },
    {
      "cell_type": "code",
      "metadata": {
        "id": "2FM1hT9O9tUn",
        "colab": {
          "base_uri": "https://localhost:8080/"
        },
        "outputId": "4b3110a1-37ea-41fc-bb73-b5d97cbc2412"
      },
      "source": [
        "import datetime\n",
        "import itertools\n",
        "import os\n",
        "import pathlib\n",
        "import re\n",
        "from typing import Any, Dict, Optional\n",
        "\n",
        "import dedupe\n",
        "import pandas as pd\n",
        "\n",
        "import linking_tutorial_functions as tutorial"
      ],
      "execution_count": 2,
      "outputs": [
        {
          "output_type": "stream",
          "name": "stderr",
          "text": [
            "INFO:root:Generating grammar tables from /usr/lib/python3.7/lib2to3/Grammar.txt\n",
            "INFO:root:Generating grammar tables from /usr/lib/python3.7/lib2to3/PatternGrammar.txt\n"
          ]
        }
      ]
    },
    {
      "cell_type": "markdown",
      "metadata": {
        "id": "BFXbCgLl9tUo"
      },
      "source": [
        "## Define Working Filepaths"
      ]
    },
    {
      "cell_type": "markdown",
      "metadata": {
        "id": "dmfm3aqF9tUq"
      },
      "source": [
        "For convenience, we'll define a `pathlib.Path` to reference our current working directory."
      ]
    },
    {
      "cell_type": "code",
      "metadata": {
        "id": "OyOxtRBM9tUv",
        "colab": {
          "base_uri": "https://localhost:8080/"
        },
        "outputId": "4de7792f-dc23-454c-8773-64f7c57de2ee"
      },
      "source": [
        "WORKING_DIR = pathlib.Path(os.path.abspath(''))\n",
        "WORKING_DIR"
      ],
      "execution_count": 3,
      "outputs": [
        {
          "output_type": "execute_result",
          "data": {
            "text/plain": [
              "PosixPath('/content')"
            ]
          },
          "metadata": {},
          "execution_count": 3
        }
      ]
    },
    {
      "cell_type": "markdown",
      "metadata": {
        "id": "FDStX-LZ9tUz"
      },
      "source": [
        "## Load Training Dataset and Ground Truth Labels"
      ]
    },
    {
      "cell_type": "code",
      "metadata": {
        "id": "i8-_1Bor9tU0"
      },
      "source": [
        "df_A, df_B, df_ground_truth = tutorial.load_febrl_training_data(True)"
      ],
      "execution_count": 5,
      "outputs": []
    },
    {
      "cell_type": "markdown",
      "metadata": {
        "id": "0Xq-xRYe9tU1"
      },
      "source": [
        "Let's take a quick look at our training dataset to refresh on the columns, formats, and data."
      ]
    },
    {
      "cell_type": "code",
      "metadata": {
        "id": "115Dc1V69tU1",
        "colab": {
          "base_uri": "https://localhost:8080/",
          "height": 237
        },
        "outputId": "d9151762-bdee-4d68-b38b-f30d67cb7e96"
      },
      "source": [
        "df_A.head()"
      ],
      "execution_count": 6,
      "outputs": [
        {
          "output_type": "execute_result",
          "data": {
            "text/html": [
              "<div>\n",
              "<style scoped>\n",
              "    .dataframe tbody tr th:only-of-type {\n",
              "        vertical-align: middle;\n",
              "    }\n",
              "\n",
              "    .dataframe tbody tr th {\n",
              "        vertical-align: top;\n",
              "    }\n",
              "\n",
              "    .dataframe thead th {\n",
              "        text-align: right;\n",
              "    }\n",
              "</style>\n",
              "<table border=\"1\" class=\"dataframe\">\n",
              "  <thead>\n",
              "    <tr style=\"text-align: right;\">\n",
              "      <th></th>\n",
              "      <th>first_name</th>\n",
              "      <th>surname</th>\n",
              "      <th>street_number</th>\n",
              "      <th>address_1</th>\n",
              "      <th>address_2</th>\n",
              "      <th>suburb</th>\n",
              "      <th>postcode</th>\n",
              "      <th>state</th>\n",
              "      <th>date_of_birth</th>\n",
              "      <th>age</th>\n",
              "      <th>phone_number</th>\n",
              "      <th>soc_sec_id</th>\n",
              "    </tr>\n",
              "    <tr>\n",
              "      <th>person_id_A</th>\n",
              "      <th></th>\n",
              "      <th></th>\n",
              "      <th></th>\n",
              "      <th></th>\n",
              "      <th></th>\n",
              "      <th></th>\n",
              "      <th></th>\n",
              "      <th></th>\n",
              "      <th></th>\n",
              "      <th></th>\n",
              "      <th></th>\n",
              "      <th></th>\n",
              "    </tr>\n",
              "  </thead>\n",
              "  <tbody>\n",
              "    <tr>\n",
              "      <th>fbc4143d-15f9-4f27-b5f0-dedbadce6616</th>\n",
              "      <td>matilda</td>\n",
              "      <td>struck</td>\n",
              "      <td>8</td>\n",
              "      <td>ballard place</td>\n",
              "      <td></td>\n",
              "      <td>west perth</td>\n",
              "      <td>2470</td>\n",
              "      <td>qld</td>\n",
              "      <td>19611002</td>\n",
              "      <td>32</td>\n",
              "      <td>03 05903135</td>\n",
              "      <td>8276847</td>\n",
              "    </tr>\n",
              "    <tr>\n",
              "      <th>48a56cad-7ba6-45e1-97cd-517ba65bdab5</th>\n",
              "      <td>lachlan</td>\n",
              "      <td>eglinton</td>\n",
              "      <td>36</td>\n",
              "      <td>kambalda crescent</td>\n",
              "      <td>villa 427</td>\n",
              "      <td>auburn</td>\n",
              "      <td>5109</td>\n",
              "      <td></td>\n",
              "      <td>19260108</td>\n",
              "      <td>27</td>\n",
              "      <td></td>\n",
              "      <td>9937958</td>\n",
              "    </tr>\n",
              "    <tr>\n",
              "      <th>b1792d21-e4be-4b86-8dea-454ffa5194c5</th>\n",
              "      <td>mikayla</td>\n",
              "      <td>asher</td>\n",
              "      <td>588</td>\n",
              "      <td>britten-jones drive</td>\n",
              "      <td></td>\n",
              "      <td>miami</td>\n",
              "      <td>4218</td>\n",
              "      <td>nsw</td>\n",
              "      <td>19251102</td>\n",
              "      <td>32</td>\n",
              "      <td>03 33770501</td>\n",
              "      <td>7017310</td>\n",
              "    </tr>\n",
              "    <tr>\n",
              "      <th>96653d73-bebc-4459-94f3-c3f0a8c514d4</th>\n",
              "      <td>grace</td>\n",
              "      <td>bristow</td>\n",
              "      <td>7</td>\n",
              "      <td></td>\n",
              "      <td>wandella park snowy</td>\n",
              "      <td>cardiff</td>\n",
              "      <td>6163</td>\n",
              "      <td>nsw</td>\n",
              "      <td>19400120</td>\n",
              "      <td></td>\n",
              "      <td>07 37864073</td>\n",
              "      <td>3535974</td>\n",
              "    </tr>\n",
              "    <tr>\n",
              "      <th>41f038b8-77c0-45a5-9e1f-e62b8637ffd1</th>\n",
              "      <td>wilson</td>\n",
              "      <td>bishop</td>\n",
              "      <td>11</td>\n",
              "      <td>chisholm street</td>\n",
              "      <td></td>\n",
              "      <td>bronte</td>\n",
              "      <td>2490</td>\n",
              "      <td>nsw</td>\n",
              "      <td>19210305</td>\n",
              "      <td>27</td>\n",
              "      <td>04 15209769</td>\n",
              "      <td>5573522</td>\n",
              "    </tr>\n",
              "  </tbody>\n",
              "</table>\n",
              "</div>"
            ],
            "text/plain": [
              "                                     first_name  ... soc_sec_id\n",
              "person_id_A                                      ...           \n",
              "fbc4143d-15f9-4f27-b5f0-dedbadce6616    matilda  ...    8276847\n",
              "48a56cad-7ba6-45e1-97cd-517ba65bdab5    lachlan  ...    9937958\n",
              "b1792d21-e4be-4b86-8dea-454ffa5194c5    mikayla  ...    7017310\n",
              "96653d73-bebc-4459-94f3-c3f0a8c514d4      grace  ...    3535974\n",
              "41f038b8-77c0-45a5-9e1f-e62b8637ffd1     wilson  ...    5573522\n",
              "\n",
              "[5 rows x 12 columns]"
            ]
          },
          "metadata": {},
          "execution_count": 6
        }
      ]
    },
    {
      "cell_type": "markdown",
      "metadata": {
        "id": "no4fig8G9tU2"
      },
      "source": [
        "## Data Augmentation"
      ]
    },
    {
      "cell_type": "markdown",
      "metadata": {
        "id": "VUJeHT1Y9tU2"
      },
      "source": [
        "Doing Data augmentation before passing data to dedupe. Converting birth date to mm/dd/yy. Stripping all whitespaces in all the text fields. Additionally, `dedupe` requires input data to be in dictionaries, using the record id as the key and the record metadata as the value. So, we'll convert our dataframes to this format."
      ]
    },
    {
      "cell_type": "code",
      "metadata": {
        "id": "KzrDLh539tU3"
      },
      "source": [
        "def format_dob(dob: str) -> Optional[str]:\n",
        "    \"\"\" Transform date of birth format from YYYYMMDD to mm/dd/yy.\n",
        "        If DOB cannot be transformed, return None.\n",
        "    \"\"\"\n",
        "    try:\n",
        "        if re.match(r\"\\d{8}\", dob):\n",
        "            return (datetime.datetime.strptime(dob, \"%Y%m%d\")).strftime(\"%m/%d/%y\")\n",
        "    except:\n",
        "        pass\n",
        "\n",
        "    return None\n",
        "\n",
        "def strip_and_null(x: Any) -> Optional[str]:\n",
        "    \"\"\" Stringify incoming variable, remove trailing/leading whitespace\n",
        "        and return resulting string. Return None if resulting string is empty.\n",
        "    \"\"\"\n",
        "    x = str(x).strip()\n",
        "    \n",
        "    if x == \"\":\n",
        "        return None\n",
        "    else:\n",
        "        return x\n",
        "    \n",
        "def convert_df_to_dict(df: pd.DataFrame) -> Dict[str, Dict]:\n",
        "    \"\"\" Convert pandas DataFrame to dict keyed by record id.\n",
        "        Convert all fields to strings or Nones to satisfy dedupe.\n",
        "        Transform date format of date_of_birth field.\n",
        "    \"\"\"    \n",
        "\n",
        "    for col in df.columns:\n",
        "        df[col] = df[col].apply(lambda x: strip_and_null(x))\n",
        "\n",
        "    df[\"date_of_birth\"] = df[\"date_of_birth\"].apply(lambda x: format_dob(x))    \n",
        "\n",
        "    return df.to_dict(\"index\")"
      ],
      "execution_count": 7,
      "outputs": []
    },
    {
      "cell_type": "code",
      "metadata": {
        "id": "DGkUUnGg9tU4"
      },
      "source": [
        "records_A = convert_df_to_dict(df_A)\n",
        "records_B = convert_df_to_dict(df_B)"
      ],
      "execution_count": 8,
      "outputs": []
    },
    {
      "cell_type": "markdown",
      "metadata": {
        "id": "xmdeBrfp9tU5"
      },
      "source": [
        "## Prepare Training"
      ]
    },
    {
      "cell_type": "markdown",
      "metadata": {
        "id": "ptRT3BzD9tU6"
      },
      "source": [
        "When we linked our data via SimSum and supervised learning, we defined our blockers and comparators manually with `recordlinkage`. The `dedupe` library takes an active learning approach to blocking and classification and will use our feedback gathered during the labeling session to learn blocking rules and train a classifier. \n",
        "\n",
        "To prepare our `dedupe.RecordLink` object for training, first we'll define the fields that we think `dedupe` should pay attention to when matching records - these definitions will serve as the comparators. The `field` contains the name of the attribute to use for comparison, and the `type` defines the comparison type."
      ]
    },
    {
      "cell_type": "code",
      "metadata": {
        "id": "f2dSyqSb9tU6",
        "colab": {
          "base_uri": "https://localhost:8080/"
        },
        "outputId": "3500cfe5-b328-4b33-a8a3-c2101b006b74"
      },
      "source": [
        "%%time\n",
        "\n",
        "fields = [\n",
        "    { \"field\" : \"first_name\", \"type\" : \"Name\" },\n",
        "    { \"field\" : \"surname\", \"type\" : \"Name\" },\n",
        "    { \"field\" : \"address_1\", \"type\" : \"ShortString\" },\n",
        "    { \"field\" : \"address_2\", \"type\" : \"ShortString\" },\n",
        "    { \"field\" : \"suburb\", \"type\" : \"ShortString\" },\n",
        "    { \"field\" : \"postcode\", \"type\" : \"Exact\" },\n",
        "    { \"field\" : \"state\", \"type\" : \"Exact\" },\n",
        "    { \"field\" : \"date_of_birth\", \"type\" : \"DateTime\" },\n",
        "    { \"field\" : \"soc_sec_id\", \"type\" : \"Exact\" },\n",
        "]\n",
        "\n",
        "linker = dedupe.RecordLink(fields)\n",
        "linker.prepare_training(records_A, records_B)"
      ],
      "execution_count": 10,
      "outputs": [
        {
          "output_type": "stream",
          "name": "stderr",
          "text": [
            "INFO:dedupe.canopy_index:Removing stop word re\n",
            "INFO:dedupe.training:Final predicate set:\n",
            "INFO:dedupe.training:SimplePredicate: (commonThreeTokens, address_1)\n"
          ]
        },
        {
          "output_type": "stream",
          "name": "stdout",
          "text": [
            "CPU times: user 58.4 s, sys: 1.07 s, total: 59.4 s\n",
            "Wall time: 58.8 s\n"
          ]
        }
      ]
    },
    {
      "cell_type": "markdown",
      "metadata": {
        "id": "RireJOvU9tU7"
      },
      "source": [
        "## Active Learning Labeling Session!"
      ]
    },
    {
      "cell_type": "markdown",
      "metadata": {
        "id": "Uu1Xa5jx9tU7"
      },
      "source": [
        "At this point, we're ready to provide feedback to `dedupe` via an active learning labeling session. For this, `dedupe` supplies a convenience method to iterate through pairs it is uncertain about. As you provide feedback for each pair, dedupe learns blocking rules and recalculates its linking model weights.\n",
        "\n",
        "You can use `y` (yes, match), `n` (no, not match), and `u` (unsure) to provide feedback on candidate links. When you're ready to exit the labeling session, use `f`."
      ]
    },
    {
      "cell_type": "code",
      "metadata": {
        "id": "pI_4UDv39tU8",
        "colab": {
          "base_uri": "https://localhost:8080/"
        },
        "outputId": "e953d9d1-479a-4269-e3af-ecd2c5f791b3"
      },
      "source": [
        "dedupe.console_label(linker)"
      ],
      "execution_count": 11,
      "outputs": [
        {
          "output_type": "stream",
          "name": "stderr",
          "text": [
            "first_name : ella\n",
            "surname : turtur\n",
            "address_1 : None\n",
            "address_2 : clarkwood\n",
            "suburb : crookwell\n",
            "postcode : 4551\n",
            "state : sa\n",
            "date_of_birth : 06/27/37\n",
            "soc_sec_id : 8312467\n",
            "\n",
            "first_name : nan\n",
            "surname : tuftmq\n",
            "address_1 : None\n",
            "address_2 : clarkwood\n",
            "suburb : crookwell\n",
            "postcode : 4551\n",
            "state : sa\n",
            "date_of_birth : 06/27/37\n",
            "soc_sec_id : 8312467\n",
            "\n",
            "0/10 positive, 0/10 negative\n",
            "Do these records refer to the same thing?\n",
            "(y)es / (n)o / (u)nsure / (f)inished\n"
          ]
        },
        {
          "name": "stdout",
          "output_type": "stream",
          "text": [
            "n\n"
          ]
        },
        {
          "output_type": "stream",
          "name": "stderr",
          "text": [
            "first_name : louis\n",
            "surname : traforti\n",
            "address_1 : barnett close\n",
            "address_2 : tilburoo\n",
            "suburb : pacific paradise\n",
            "postcode : 2518\n",
            "state : vic\n",
            "date_of_birth : 05/12/38\n",
            "soc_sec_id : 1913191\n",
            "\n",
            "first_name : louis\n",
            "surname : trafcrati\n",
            "address_1 : None\n",
            "address_2 : tilburoo\n",
            "suburb : None\n",
            "postcode : 2518\n",
            "state : vic\n",
            "date_of_birth : 05/12/38\n",
            "soc_sec_id : 1913191\n",
            "\n",
            "0/10 positive, 1/10 negative\n",
            "Do these records refer to the same thing?\n",
            "(y)es / (n)o / (u)nsure / (f)inished / (p)revious\n"
          ]
        },
        {
          "name": "stdout",
          "output_type": "stream",
          "text": [
            "y\n"
          ]
        },
        {
          "output_type": "stream",
          "name": "stderr",
          "text": [
            "first_name : kailey\n",
            "surname : hazell\n",
            "address_1 : veale street\n",
            "address_2 : troyvic\n",
            "suburb : matraville\n",
            "postcode : 6111\n",
            "state : vic\n",
            "date_of_birth : 02/08/28\n",
            "soc_sec_id : 8130347\n",
            "\n",
            "first_name : nathan\n",
            "surname : jesser\n",
            "address_1 : clisby close\n",
            "address_2 : None\n",
            "suburb : 2213\n",
            "postcode : fraser\n",
            "state : vic\n",
            "date_of_birth : None\n",
            "soc_sec_id : 5290222\n",
            "\n",
            "1/10 positive, 1/10 negative\n",
            "Do these records refer to the same thing?\n",
            "(y)es / (n)o / (u)nsure / (f)inished / (p)revious\n"
          ]
        },
        {
          "name": "stdout",
          "output_type": "stream",
          "text": [
            "n\n"
          ]
        },
        {
          "output_type": "stream",
          "name": "stderr",
          "text": [
            "INFO:dedupe.training:Final predicate set:\n",
            "INFO:dedupe.training:SimplePredicate: (commonThreeTokens, address_1)\n",
            "INFO:dedupe.training:PartialPredicate: (commonFourGram, surname, CorporationName)\n",
            "first_name : jai\n",
            "surname : plumb\n",
            "address_1 : gadali crescent\n",
            "address_2 : moondani\n",
            "suburb : rosebud\n",
            "postcode : 2024\n",
            "state : wa\n",
            "date_of_birth : None\n",
            "soc_sec_id : 6878563\n",
            "\n",
            "first_name : chloe\n",
            "surname : hare\n",
            "address_1 : la trobme close\n",
            "address_2 : None\n",
            "suburb : None\n",
            "postcode : 3195\n",
            "state : qld\n",
            "date_of_birth : None\n",
            "soc_sec_id : 9880358\n",
            "\n",
            "1/10 positive, 2/10 negative\n",
            "Do these records refer to the same thing?\n",
            "(y)es / (n)o / (u)nsure / (f)inished / (p)revious\n"
          ]
        },
        {
          "name": "stdout",
          "output_type": "stream",
          "text": [
            "n\n"
          ]
        },
        {
          "output_type": "stream",
          "name": "stderr",
          "text": [
            "first_name : mattheo\n",
            "surname : bullock\n",
            "address_1 : murchison street\n",
            "address_2 : None\n",
            "suburb : rye\n",
            "postcode : 3041\n",
            "state : nsw\n",
            "date_of_birth : 12/12/05\n",
            "soc_sec_id : 2296205\n",
            "\n",
            "first_name : matteo\n",
            "surname : bulloxk\n",
            "address_1 : None\n",
            "address_2 : None\n",
            "suburb : rye\n",
            "postcode : 3041\n",
            "state : nsw\n",
            "date_of_birth : 12/12/05\n",
            "soc_sec_id : 2296205\n",
            "\n",
            "1/10 positive, 3/10 negative\n",
            "Do these records refer to the same thing?\n",
            "(y)es / (n)o / (u)nsure / (f)inished / (p)revious\n"
          ]
        },
        {
          "name": "stdout",
          "output_type": "stream",
          "text": [
            "y\n"
          ]
        },
        {
          "output_type": "stream",
          "name": "stderr",
          "text": [
            "first_name : toby\n",
            "surname : dent\n",
            "address_1 : studley street\n",
            "address_2 : sunnydale cottage\n",
            "suburb : bowral\n",
            "postcode : 2450\n",
            "state : wa\n",
            "date_of_birth : 04/02/81\n",
            "soc_sec_id : 9402107\n",
            "\n",
            "first_name : toby\n",
            "surname : de nd\n",
            "address_1 : None\n",
            "address_2 : None\n",
            "suburb : bowral\n",
            "postcode : 2450\n",
            "state : wa\n",
            "date_of_birth : 04/02/81\n",
            "soc_sec_id : 9402107\n",
            "\n",
            "2/10 positive, 3/10 negative\n",
            "Do these records refer to the same thing?\n",
            "(y)es / (n)o / (u)nsure / (f)inished / (p)revious\n"
          ]
        },
        {
          "name": "stdout",
          "output_type": "stream",
          "text": [
            "y\n"
          ]
        },
        {
          "output_type": "stream",
          "name": "stderr",
          "text": [
            "INFO:dedupe.training:Final predicate set:\n",
            "INFO:dedupe.training:SimplePredicate: (wholeFieldPredicate, date_of_birth)\n",
            "first_name : kiandra\n",
            "surname : dunstone\n",
            "address_1 : None\n",
            "address_2 : None\n",
            "suburb : oaklands park\n",
            "postcode : 6163\n",
            "state : wa\n",
            "date_of_birth : 10/29/11\n",
            "soc_sec_id : 5277244\n",
            "\n",
            "first_name : kiandra\n",
            "surname : dunstone\n",
            "address_1 : None\n",
            "address_2 : None\n",
            "suburb : oaklands park\n",
            "postcode : 6163\n",
            "state : wa\n",
            "date_of_birth : None\n",
            "soc_sec_id : 5277244\n",
            "\n",
            "3/10 positive, 3/10 negative\n",
            "Do these records refer to the same thing?\n",
            "(y)es / (n)o / (u)nsure / (f)inished / (p)revious\n"
          ]
        },
        {
          "name": "stdout",
          "output_type": "stream",
          "text": [
            "y\n"
          ]
        },
        {
          "output_type": "stream",
          "name": "stderr",
          "text": [
            "first_name : sarah\n",
            "surname : humphreys\n",
            "address_1 : girrahween street\n",
            "address_2 : southern wood\n",
            "suburb : corowa\n",
            "postcode : 5065\n",
            "state : qld\n",
            "date_of_birth : None\n",
            "soc_sec_id : 7393243\n",
            "\n",
            "first_name : zara\n",
            "surname : humpcys\n",
            "address_1 : None\n",
            "address_2 : southern wood\n",
            "suburb : corowa\n",
            "postcode : 5095\n",
            "state : qld\n",
            "date_of_birth : None\n",
            "soc_sec_id : 7393243\n",
            "\n",
            "4/10 positive, 3/10 negative\n",
            "Do these records refer to the same thing?\n",
            "(y)es / (n)o / (u)nsure / (f)inished / (p)revious\n"
          ]
        },
        {
          "name": "stdout",
          "output_type": "stream",
          "text": [
            "n\n"
          ]
        },
        {
          "output_type": "stream",
          "name": "stderr",
          "text": [
            "INFO:dedupe.training:Final predicate set:\n",
            "INFO:dedupe.training:SimplePredicate: (wholeFieldPredicate, soc_sec_id)\n",
            "first_name : david\n",
            "surname : sznajder\n",
            "address_1 : None\n",
            "address_2 : bowtells caravn park\n",
            "suburb : eaton\n",
            "postcode : 2298\n",
            "state : vic\n",
            "date_of_birth : 09/15/78\n",
            "soc_sec_id : 8971940\n",
            "\n",
            "first_name : david\n",
            "surname : sznadkr\n",
            "address_1 : None\n",
            "address_2 : bowtells caravn park\n",
            "suburb : eaton\n",
            "postcode : 2298\n",
            "state : vic\n",
            "date_of_birth : 09/15/78\n",
            "soc_sec_id : 6770683\n",
            "\n",
            "4/10 positive, 4/10 negative\n",
            "Do these records refer to the same thing?\n",
            "(y)es / (n)o / (u)nsure / (f)inished / (p)revious\n"
          ]
        },
        {
          "name": "stdout",
          "output_type": "stream",
          "text": [
            "y\n"
          ]
        },
        {
          "output_type": "stream",
          "name": "stderr",
          "text": [
            "first_name : william\n",
            "surname : wilkins\n",
            "address_1 : None\n",
            "address_2 : None\n",
            "suburb : currumbin valley\n",
            "postcode : 3166\n",
            "state : nsw\n",
            "date_of_birth : 11/12/56\n",
            "soc_sec_id : 3252646\n",
            "\n",
            "first_name : william\n",
            "surname : wiljish\n",
            "address_1 : None\n",
            "address_2 : None\n",
            "suburb : currumbinuvalley\n",
            "postcode : 3166\n",
            "state : nsw\n",
            "date_of_birth : 11/12/56\n",
            "soc_sec_id : 3252666\n",
            "\n",
            "5/10 positive, 4/10 negative\n",
            "Do these records refer to the same thing?\n",
            "(y)es / (n)o / (u)nsure / (f)inished / (p)revious\n"
          ]
        },
        {
          "name": "stdout",
          "output_type": "stream",
          "text": [
            "y\n"
          ]
        },
        {
          "output_type": "stream",
          "name": "stderr",
          "text": [
            "INFO:dedupe.training:Final predicate set:\n",
            "INFO:dedupe.training:SimplePredicate: (wholeFieldPredicate, soc_sec_id)\n",
            "INFO:dedupe.training:SimplePredicate: (commonThreeTokens, address_2)\n",
            "first_name : madison\n",
            "surname : david\n",
            "address_1 : thornley place\n",
            "address_2 : esk farm\n",
            "suburb : boorowa\n",
            "postcode : 2486\n",
            "state : nsw\n",
            "date_of_birth : 03/06/25\n",
            "soc_sec_id : 1762143\n",
            "\n",
            "first_name : madison\n",
            "surname : david\n",
            "address_1 : thornley place\n",
            "address_2 : None\n",
            "suburb : boorowa\n",
            "postcode : 2486\n",
            "state : nsw\n",
            "date_of_birth : 03/06/25\n",
            "soc_sec_id : 1762843\n",
            "\n",
            "6/10 positive, 4/10 negative\n",
            "Do these records refer to the same thing?\n",
            "(y)es / (n)o / (u)nsure / (f)inished / (p)revious\n"
          ]
        },
        {
          "name": "stdout",
          "output_type": "stream",
          "text": [
            "y\n"
          ]
        },
        {
          "output_type": "stream",
          "name": "stderr",
          "text": [
            "INFO:dedupe.training:Final predicate set:\n",
            "INFO:dedupe.training:SimplePredicate: (wholeFieldPredicate, date_of_birth)\n",
            "INFO:dedupe.training:SimplePredicate: (commonTwoTokens, suburb)\n",
            "first_name : joshua\n",
            "surname : ryan\n",
            "address_1 : None\n",
            "address_2 : country club\n",
            "suburb : craigie\n",
            "postcode : 4165\n",
            "state : qld\n",
            "date_of_birth : 08/15/28\n",
            "soc_sec_id : 4871225\n",
            "\n",
            "first_name : joshua\n",
            "surname : ryax\n",
            "address_1 : None\n",
            "address_2 : country club\n",
            "suburb : craigie\n",
            "postcode : 4165\n",
            "state : qld\n",
            "date_of_birth : 08/25/28\n",
            "soc_sec_id : 4871225\n",
            "\n",
            "7/10 positive, 4/10 negative\n",
            "Do these records refer to the same thing?\n",
            "(y)es / (n)o / (u)nsure / (f)inished / (p)revious\n"
          ]
        },
        {
          "name": "stdout",
          "output_type": "stream",
          "text": [
            "y\n"
          ]
        },
        {
          "output_type": "stream",
          "name": "stderr",
          "text": [
            "first_name : michael\n",
            "surname : mason\n",
            "address_1 : lightfoot crescent\n",
            "address_2 : loughmore\n",
            "suburb : gunalda\n",
            "postcode : 4872\n",
            "state : sa\n",
            "date_of_birth : 10/18/08\n",
            "soc_sec_id : 1017175\n",
            "\n",
            "first_name : michael\n",
            "surname : maon\n",
            "address_1 : lightfoot crescent\n",
            "address_2 : loughmore\n",
            "suburb : gunalda\n",
            "postcode : 4872\n",
            "state : sa\n",
            "date_of_birth : 10/08/08\n",
            "soc_sec_id : 1017175\n",
            "\n",
            "8/10 positive, 4/10 negative\n",
            "Do these records refer to the same thing?\n",
            "(y)es / (n)o / (u)nsure / (f)inished / (p)revious\n"
          ]
        },
        {
          "name": "stdout",
          "output_type": "stream",
          "text": [
            "y\n"
          ]
        },
        {
          "output_type": "stream",
          "name": "stderr",
          "text": [
            "INFO:dedupe.training:Final predicate set:\n",
            "INFO:dedupe.training:SimplePredicate: (wholeFieldPredicate, date_of_birth)\n",
            "INFO:dedupe.training:SimplePredicate: (wholeFieldPredicate, soc_sec_id)\n",
            "first_name : alexandra\n",
            "surname : van rensburg\n",
            "address_1 : astelia place\n",
            "address_2 : None\n",
            "suburb : woodcroft\n",
            "postcode : 2756\n",
            "state : nsw\n",
            "date_of_birth : 01/31/22\n",
            "soc_sec_id : 3123032\n",
            "\n",
            "first_name : alexandra\n",
            "surname : van rensburg\n",
            "address_1 : None\n",
            "address_2 : None\n",
            "suburb : woodcroft\n",
            "postcode : 2756\n",
            "state : nsw\n",
            "date_of_birth : None\n",
            "soc_sec_id : 3123034\n",
            "\n",
            "9/10 positive, 4/10 negative\n",
            "Do these records refer to the same thing?\n",
            "(y)es / (n)o / (u)nsure / (f)inished / (p)revious\n"
          ]
        },
        {
          "name": "stdout",
          "output_type": "stream",
          "text": [
            "y\n"
          ]
        },
        {
          "output_type": "stream",
          "name": "stderr",
          "text": [
            "first_name : samara\n",
            "surname : shelley\n",
            "address_1 : bland place\n",
            "address_2 : None\n",
            "suburb : emu plains\n",
            "postcode : 2533\n",
            "state : nsw\n",
            "date_of_birth : None\n",
            "soc_sec_id : 5902410\n",
            "\n",
            "first_name : samara\n",
            "surname : shelley\n",
            "address_1 : bland place\n",
            "address_2 : None\n",
            "suburb : None\n",
            "postcode : 2533\n",
            "state : nsw\n",
            "date_of_birth : None\n",
            "soc_sec_id : 5902401\n",
            "\n",
            "10/10 positive, 4/10 negative\n",
            "Do these records refer to the same thing?\n",
            "(y)es / (n)o / (u)nsure / (f)inished / (p)revious\n"
          ]
        },
        {
          "name": "stdout",
          "output_type": "stream",
          "text": [
            "y\n"
          ]
        },
        {
          "output_type": "stream",
          "name": "stderr",
          "text": [
            "INFO:dedupe.training:Final predicate set:\n",
            "INFO:dedupe.training:SimplePredicate: (wholeFieldPredicate, date_of_birth)\n",
            "INFO:dedupe.training:SimplePredicate: (wholeFieldPredicate, soc_sec_id)\n",
            "INFO:dedupe.training:SimplePredicate: (firstTwoTokensPredicate, surname)\n",
            "first_name : angelica\n",
            "surname : noack\n",
            "address_1 : ellerston avenue\n",
            "address_2 : None\n",
            "suburb : tuart hill\n",
            "postcode : 3515\n",
            "state : None\n",
            "date_of_birth : 08/25/32\n",
            "soc_sec_id : 2615059\n",
            "\n",
            "first_name : angelica\n",
            "surname : noack\n",
            "address_1 : ellerston avenue\n",
            "address_2 : None\n",
            "suburb : tuart gill\n",
            "postcode : 3515\n",
            "state : None\n",
            "date_of_birth : 09/25/32\n",
            "soc_sec_id : 2610549\n",
            "\n",
            "11/10 positive, 4/10 negative\n",
            "Do these records refer to the same thing?\n",
            "(y)es / (n)o / (u)nsure / (f)inished / (p)revious\n"
          ]
        },
        {
          "name": "stdout",
          "output_type": "stream",
          "text": [
            "y\n"
          ]
        },
        {
          "output_type": "stream",
          "name": "stderr",
          "text": [
            "INFO:dedupe.training:Final predicate set:\n",
            "INFO:dedupe.training:SimplePredicate: (wholeFieldPredicate, date_of_birth)\n",
            "INFO:dedupe.training:SimplePredicate: (wholeFieldPredicate, soc_sec_id)\n",
            "INFO:dedupe.training:SimplePredicate: (firstTwoTokensPredicate, surname)\n",
            "INFO:dedupe.training:SimplePredicate: (firstTwoTokensPredicate, address_1)\n",
            "first_name : georgia\n",
            "surname : nguyen\n",
            "address_1 : None\n",
            "address_2 : brentwood vlge\n",
            "suburb : sefton\n",
            "postcode : 3101\n",
            "state : wa\n",
            "date_of_birth : None\n",
            "soc_sec_id : 4084643\n",
            "\n",
            "first_name : georgia\n",
            "surname : nguyen\n",
            "address_1 : None\n",
            "address_2 : brentwoom vlge\n",
            "suburb : sefton\n",
            "postcode : 3101\n",
            "state : wa\n",
            "date_of_birth : None\n",
            "soc_sec_id : 2139336\n",
            "\n",
            "12/10 positive, 4/10 negative\n",
            "Do these records refer to the same thing?\n",
            "(y)es / (n)o / (u)nsure / (f)inished / (p)revious\n"
          ]
        },
        {
          "name": "stdout",
          "output_type": "stream",
          "text": [
            "f\n"
          ]
        },
        {
          "output_type": "stream",
          "name": "stderr",
          "text": [
            "Finished labeling\n"
          ]
        }
      ]
    },
    {
      "cell_type": "markdown",
      "metadata": {
        "id": "vYnm7dd59tU8"
      },
      "source": [
        "We can now train our linker, based on the labeling session feedback."
      ]
    },
    {
      "cell_type": "code",
      "metadata": {
        "id": "CSdOcwqk9tU8",
        "colab": {
          "base_uri": "https://localhost:8080/"
        },
        "outputId": "8f60037b-4a98-4c35-e992-2741e31a11aa"
      },
      "source": [
        "%%time\n",
        "linker.train()"
      ],
      "execution_count": 12,
      "outputs": [
        {
          "output_type": "stream",
          "name": "stderr",
          "text": [
            "INFO:rlr.crossvalidation:using cross validation to find optimum alpha...\n",
            "/usr/local/lib/python3.7/dist-packages/rlr/crossvalidation.py:122: RuntimeWarning: invalid value encountered in double_scalars\n",
            "  * (true_distinct + false_distinct)))\n",
            "INFO:rlr.crossvalidation:optimum alpha: 0.010000, score 0.31593767422978325\n",
            "INFO:dedupe.training:Final predicate set:\n",
            "INFO:dedupe.training:(SimplePredicate: (wholeFieldPredicate, postcode), SimplePredicate: (suffixArray, first_name), PartialIndexLevenshteinSearchPredicate: (1, surname, Surname))\n",
            "INFO:dedupe.training:(SimplePredicate: (monthPredicate, date_of_birth), SimplePredicate: (sameSevenCharStartPredicate, suburb), SimplePredicate: (commonFourGram, first_name))\n"
          ]
        },
        {
          "output_type": "stream",
          "name": "stdout",
          "text": [
            "CPU times: user 5.86 s, sys: 670 ms, total: 6.53 s\n",
            "Wall time: 5.99 s\n"
          ]
        }
      ]
    },
    {
      "cell_type": "markdown",
      "metadata": {
        "id": "d7zQBsaz9tU9"
      },
      "source": [
        "Let's persist our training data (captured during in the labeling session), as well as the learned model weights."
      ]
    },
    {
      "cell_type": "code",
      "metadata": {
        "id": "tQRYYkmN9tU-"
      },
      "source": [
        "ACTIVE_LEARNING_DIR = WORKING_DIR / \"dedupe_active_learning\"\n",
        "ACTIVE_LEARNING_DIR.mkdir(parents=True, exist_ok=True)\n",
        "\n",
        "SETTINGS_FILE = ACTIVE_LEARNING_DIR / \"dedupe_learned_settings\"\n",
        "TRAINING_FILE = ACTIVE_LEARNING_DIR / \"dedupe_training.json\"\n",
        "\n",
        "with open(TRAINING_FILE, \"w\") as fh:\n",
        "    linker.write_training(fh)\n",
        "    \n",
        "with open(SETTINGS_FILE, \"wb\") as sf:\n",
        "    linker.write_settings(sf)"
      ],
      "execution_count": 13,
      "outputs": []
    },
    {
      "cell_type": "markdown",
      "metadata": {
        "id": "pohUkDwb9tU_"
      },
      "source": [
        "## Examine Learned Blockers"
      ]
    },
    {
      "cell_type": "markdown",
      "metadata": {
        "id": "-LgSdd-A9tU_"
      },
      "source": [
        "Now, let's take a look at the predicates (blockers) that `dedupe` learned during our active learning labeling session. Note that `dedupe` can learn composite predicates/blockers, i.e. individual predicates can be combined with logical operators."
      ]
    },
    {
      "cell_type": "code",
      "metadata": {
        "id": "Yw7LP4J49tVA",
        "colab": {
          "base_uri": "https://localhost:8080/"
        },
        "outputId": "878b3037-c938-4eaf-a230-5a80ab3e4874"
      },
      "source": [
        "linker.predicates"
      ],
      "execution_count": 14,
      "outputs": [
        {
          "output_type": "execute_result",
          "data": {
            "text/plain": [
              "((SimplePredicate: (wholeFieldPredicate, postcode),\n",
              "  SimplePredicate: (suffixArray, first_name),\n",
              "  PartialIndexLevenshteinSearchPredicate: (1, surname, Surname)),\n",
              " (SimplePredicate: (monthPredicate, date_of_birth),\n",
              "  SimplePredicate: (sameSevenCharStartPredicate, suburb),\n",
              "  SimplePredicate: (commonFourGram, first_name)))"
            ]
          },
          "metadata": {},
          "execution_count": 14
        }
      ]
    },
    {
      "cell_type": "markdown",
      "metadata": {
        "id": "lSzl1EXg9tVB"
      },
      "source": [
        "Next, let's examine the resulting candidate pairs and look at our blocking efficiency. The `.pairs` method will give us all candidate record pairs that are generated by blocking with the learned blockers."
      ]
    },
    {
      "cell_type": "code",
      "metadata": {
        "id": "aLOvfIdR9tVB",
        "colab": {
          "base_uri": "https://localhost:8080/"
        },
        "outputId": "aa0c142c-e3ee-4fd0-e235-e4dd359d9e4f"
      },
      "source": [
        "candidate_pairs = [x for x in linker.pairs(records_A, records_B)]\n",
        "print(f\"{len(candidate_pairs):,} candidate pairs generated from blocking.\")"
      ],
      "execution_count": 15,
      "outputs": [
        {
          "output_type": "stream",
          "name": "stdout",
          "text": [
            "1,395 candidate pairs generated from blocking.\n"
          ]
        }
      ]
    },
    {
      "cell_type": "markdown",
      "metadata": {
        "id": "A7Kxreup9tVB"
      },
      "source": [
        "You'll notice that, in contrast to `recordlinkage`, our post-blocking candidate pairs contain both the record ids as well as the record metadata."
      ]
    },
    {
      "cell_type": "code",
      "metadata": {
        "id": "JZKmxcC_9tVC",
        "colab": {
          "base_uri": "https://localhost:8080/"
        },
        "outputId": "ed2927b0-d465-42a7-8aa1-e5f7f4a43a49"
      },
      "source": [
        "candidate_pairs[0]"
      ],
      "execution_count": 16,
      "outputs": [
        {
          "output_type": "execute_result",
          "data": {
            "text/plain": [
              "(('fbc4143d-15f9-4f27-b5f0-dedbadce6616',\n",
              "  {'address_1': 'ballard place',\n",
              "   'address_2': None,\n",
              "   'age': '32',\n",
              "   'date_of_birth': '10/02/61',\n",
              "   'first_name': 'matilda',\n",
              "   'phone_number': '03 05903135',\n",
              "   'postcode': '2470',\n",
              "   'soc_sec_id': '8276847',\n",
              "   'state': 'qld',\n",
              "   'street_number': '8',\n",
              "   'suburb': 'west perth',\n",
              "   'surname': 'struck'}),\n",
              " ('a9f5a761-83d6-452e-9f27-a452b3d06a4e',\n",
              "  {'address_1': 'ballard place',\n",
              "   'address_2': None,\n",
              "   'age': '32',\n",
              "   'date_of_birth': '10/02/61',\n",
              "   'first_name': 'matikda',\n",
              "   'phone_number': '03 05903135',\n",
              "   'postcode': '2407',\n",
              "   'soc_sec_id': '8276847',\n",
              "   'state': 'qld',\n",
              "   'street_number': '0',\n",
              "   'suburb': 'west perth',\n",
              "   'surname': 'strucl'}))"
            ]
          },
          "metadata": {},
          "execution_count": 16
        }
      ]
    },
    {
      "cell_type": "markdown",
      "metadata": {
        "id": "V5PUBiI39tVD"
      },
      "source": [
        "We can assemble our candidate pair ids into an indexed pandas dataframe for easier comparision with our known true links."
      ]
    },
    {
      "cell_type": "code",
      "metadata": {
        "id": "sWHj-0wH9tVD",
        "colab": {
          "base_uri": "https://localhost:8080/",
          "height": 220
        },
        "outputId": "ac7a78f8-a6a1-47d5-c0f3-ca18a99a91a4"
      },
      "source": [
        "df_candidate_links = pd.DataFrame(\n",
        "    [(x[0][0], x[1][0]) for x in candidate_pairs]\n",
        ").rename(columns={0 : \"person_id_A\", 1 : \"person_id_B\"}).set_index([\"person_id_A\", \"person_id_B\"])\n",
        "\n",
        "df_candidate_links.head()"
      ],
      "execution_count": 17,
      "outputs": [
        {
          "output_type": "execute_result",
          "data": {
            "text/html": [
              "<div>\n",
              "<style scoped>\n",
              "    .dataframe tbody tr th:only-of-type {\n",
              "        vertical-align: middle;\n",
              "    }\n",
              "\n",
              "    .dataframe tbody tr th {\n",
              "        vertical-align: top;\n",
              "    }\n",
              "\n",
              "    .dataframe thead th {\n",
              "        text-align: right;\n",
              "    }\n",
              "</style>\n",
              "<table border=\"1\" class=\"dataframe\">\n",
              "  <thead>\n",
              "    <tr style=\"text-align: right;\">\n",
              "      <th></th>\n",
              "      <th></th>\n",
              "    </tr>\n",
              "    <tr>\n",
              "      <th>person_id_A</th>\n",
              "      <th>person_id_B</th>\n",
              "    </tr>\n",
              "  </thead>\n",
              "  <tbody>\n",
              "    <tr>\n",
              "      <th>fbc4143d-15f9-4f27-b5f0-dedbadce6616</th>\n",
              "      <th>a9f5a761-83d6-452e-9f27-a452b3d06a4e</th>\n",
              "    </tr>\n",
              "    <tr>\n",
              "      <th>48a56cad-7ba6-45e1-97cd-517ba65bdab5</th>\n",
              "      <th>c77c2c04-4415-4c4d-b248-18dc28fd63d0</th>\n",
              "    </tr>\n",
              "    <tr>\n",
              "      <th>b1792d21-e4be-4b86-8dea-454ffa5194c5</th>\n",
              "      <th>043d063f-3f72-46ca-bb66-e7f610d4c2cd</th>\n",
              "    </tr>\n",
              "    <tr>\n",
              "      <th>41f038b8-77c0-45a5-9e1f-e62b8637ffd1</th>\n",
              "      <th>337aa0c5-4a0a-4bcd-89db-6fa998fa783c</th>\n",
              "    </tr>\n",
              "    <tr>\n",
              "      <th>7264bfb0-bbcb-4f68-b9bf-03619237cfb2</th>\n",
              "      <th>8e5d98b8-9611-480e-8c65-b0e56520307b</th>\n",
              "    </tr>\n",
              "  </tbody>\n",
              "</table>\n",
              "</div>"
            ],
            "text/plain": [
              "Empty DataFrame\n",
              "Columns: []\n",
              "Index: [(fbc4143d-15f9-4f27-b5f0-dedbadce6616, a9f5a761-83d6-452e-9f27-a452b3d06a4e), (48a56cad-7ba6-45e1-97cd-517ba65bdab5, c77c2c04-4415-4c4d-b248-18dc28fd63d0), (b1792d21-e4be-4b86-8dea-454ffa5194c5, 043d063f-3f72-46ca-bb66-e7f610d4c2cd), (41f038b8-77c0-45a5-9e1f-e62b8637ffd1, 337aa0c5-4a0a-4bcd-89db-6fa998fa783c), (7264bfb0-bbcb-4f68-b9bf-03619237cfb2, 8e5d98b8-9611-480e-8c65-b0e56520307b)]"
            ]
          },
          "metadata": {},
          "execution_count": 17
        }
      ]
    },
    {
      "cell_type": "markdown",
      "metadata": {
        "id": "BXaCwPsV9tVD"
      },
      "source": [
        "Now, let's take a look at our learned blocker performance."
      ]
    },
    {
      "cell_type": "code",
      "metadata": {
        "id": "fqtsBjun9tVE",
        "colab": {
          "base_uri": "https://localhost:8080/"
        },
        "outputId": "77d59688-17ac-4a52-a306-6cf5698cd6f5"
      },
      "source": [
        "max_candidate_pairs = df_A.shape[0]*df_B.shape[0]\n",
        "\n",
        "print(f\"{max_candidate_pairs:,} total possible pairs.\")\n",
        "\n",
        "# Calculate search space reduction.\n",
        "search_space_reduction = round(1 - len(candidate_pairs)/max_candidate_pairs, 6)\n",
        "print(f\"\\n{len(candidate_pairs):,} pairs after full blocking: {search_space_reduction}% search space reduction.\")\n",
        "\n",
        "# Calculate retained true links percentage.\n",
        "total_true_links = df_ground_truth.shape[0]\n",
        "true_links_after_blocking = pd.merge(\n",
        "    df_ground_truth,\n",
        "    df_candidate_links,\n",
        "    left_index=True,\n",
        "    right_index=True,\n",
        "    how=\"inner\"\n",
        ").shape[0]\n",
        "\n",
        "retained_true_link_percent = round((true_links_after_blocking/total_true_links) * 100, 2)\n",
        "print(f\"{retained_true_link_percent}% true links retained after blocking.\")"
      ],
      "execution_count": 18,
      "outputs": [
        {
          "output_type": "stream",
          "name": "stdout",
          "text": [
            "10,562,500 total possible pairs.\n",
            "\n",
            "1,395 pairs after full blocking: 0.999868% search space reduction.\n",
            "46.43% true links retained after blocking.\n"
          ]
        }
      ]
    },
    {
      "cell_type": "markdown",
      "metadata": {
        "id": "Pm6spACK9tVE"
      },
      "source": [
        "## Score Pairs and Examine Learned Classifier"
      ]
    },
    {
      "cell_type": "markdown",
      "metadata": {
        "id": "2M5mmKQi9tVE"
      },
      "source": [
        "After `dedupe` has trained blockers and a classification model based on our labeling session, we can link the records in our training dataset via the `.join` method."
      ]
    },
    {
      "cell_type": "code",
      "metadata": {
        "id": "EcbiPHZW9tVF",
        "colab": {
          "base_uri": "https://localhost:8080/"
        },
        "outputId": "4e55268e-fb40-402d-f11b-f9b88883b40c"
      },
      "source": [
        "%%time\n",
        "linked_records = linker.join(records_A, records_B, threshold=0.0, constraint=\"one-to-one\")"
      ],
      "execution_count": 19,
      "outputs": [
        {
          "output_type": "stream",
          "name": "stdout",
          "text": [
            "CPU times: user 1.02 s, sys: 104 ms, total: 1.12 s\n",
            "Wall time: 2.17 s\n"
          ]
        }
      ]
    },
    {
      "cell_type": "markdown",
      "metadata": {
        "id": "pry_uRo59tVF"
      },
      "source": [
        "`linker.join` will return the links, along with a model confidence."
      ]
    },
    {
      "cell_type": "code",
      "metadata": {
        "id": "ewbamEq29tVF",
        "colab": {
          "base_uri": "https://localhost:8080/"
        },
        "outputId": "3d7aa912-2347-4f6d-db05-d52b61736c60"
      },
      "source": [
        "linked_records[0:3]"
      ],
      "execution_count": 20,
      "outputs": [
        {
          "output_type": "execute_result",
          "data": {
            "text/plain": [
              "[(('fe7dcaf6-3a4d-456d-8ac1-2b81875158bc',\n",
              "   'eb827aae-7870-4a7a-8dc4-f5e755ae19b6'),\n",
              "  1.0),\n",
              " (('fc7ce04c-b9de-428b-83c2-80219ad8c4d3',\n",
              "   'd0e57003-6a0f-4e51-9cff-0e60927e0611'),\n",
              "  1.0),\n",
              " (('fc041887-b5b8-427b-ac8b-bd867d0c813f',\n",
              "   'f93ba54b-0c5c-400d-89e8-1fe6746bf928'),\n",
              "  1.0)]"
            ]
          },
          "metadata": {},
          "execution_count": 20
        }
      ]
    },
    {
      "cell_type": "markdown",
      "metadata": {
        "id": "IqINIxom9tVG"
      },
      "source": [
        "We'll format the `dedupe` linker predictions into a format that we can use with our existing evaluation functions."
      ]
    },
    {
      "cell_type": "code",
      "metadata": {
        "id": "qT_tizQ_9tVG",
        "colab": {
          "base_uri": "https://localhost:8080/",
          "height": 455
        },
        "outputId": "4ee6f42c-f4b7-4fcb-9275-5ff70ea3c63a"
      },
      "source": [
        "df_predictions = pd.DataFrame(\n",
        "    [ {\"person_id_A\" : x[0][0], \"person_id_B\" : x[0][1], \"model_score\" : x[1]} for x in linked_records]\n",
        ")\n",
        "\n",
        "df_predictions = df_predictions.set_index([\"person_id_A\", \"person_id_B\"])\n",
        "\n",
        "df_predictions = pd.merge(\n",
        "    df_predictions,\n",
        "    df_ground_truth,\n",
        "    left_index=True,\n",
        "    right_index=True,\n",
        "    how=\"left\",\n",
        ")\n",
        "\n",
        "df_predictions[\"ground_truth\"].fillna(False, inplace=True)\n",
        "df_predictions"
      ],
      "execution_count": 21,
      "outputs": [
        {
          "output_type": "execute_result",
          "data": {
            "text/html": [
              "<div>\n",
              "<style scoped>\n",
              "    .dataframe tbody tr th:only-of-type {\n",
              "        vertical-align: middle;\n",
              "    }\n",
              "\n",
              "    .dataframe tbody tr th {\n",
              "        vertical-align: top;\n",
              "    }\n",
              "\n",
              "    .dataframe thead th {\n",
              "        text-align: right;\n",
              "    }\n",
              "</style>\n",
              "<table border=\"1\" class=\"dataframe\">\n",
              "  <thead>\n",
              "    <tr style=\"text-align: right;\">\n",
              "      <th></th>\n",
              "      <th></th>\n",
              "      <th>model_score</th>\n",
              "      <th>ground_truth</th>\n",
              "    </tr>\n",
              "    <tr>\n",
              "      <th>person_id_A</th>\n",
              "      <th>person_id_B</th>\n",
              "      <th></th>\n",
              "      <th></th>\n",
              "    </tr>\n",
              "  </thead>\n",
              "  <tbody>\n",
              "    <tr>\n",
              "      <th>fe7dcaf6-3a4d-456d-8ac1-2b81875158bc</th>\n",
              "      <th>eb827aae-7870-4a7a-8dc4-f5e755ae19b6</th>\n",
              "      <td>1.000000</td>\n",
              "      <td>True</td>\n",
              "    </tr>\n",
              "    <tr>\n",
              "      <th>fc7ce04c-b9de-428b-83c2-80219ad8c4d3</th>\n",
              "      <th>d0e57003-6a0f-4e51-9cff-0e60927e0611</th>\n",
              "      <td>1.000000</td>\n",
              "      <td>True</td>\n",
              "    </tr>\n",
              "    <tr>\n",
              "      <th>fc041887-b5b8-427b-ac8b-bd867d0c813f</th>\n",
              "      <th>f93ba54b-0c5c-400d-89e8-1fe6746bf928</th>\n",
              "      <td>1.000000</td>\n",
              "      <td>True</td>\n",
              "    </tr>\n",
              "    <tr>\n",
              "      <th>faa1d9cd-3f7d-436d-b4f9-6f589a64735d</th>\n",
              "      <th>62824acf-42e5-40c1-bd53-12f0b33a7d2a</th>\n",
              "      <td>1.000000</td>\n",
              "      <td>True</td>\n",
              "    </tr>\n",
              "    <tr>\n",
              "      <th>ef330b40-c045-42de-8ef0-4be9fe1aa929</th>\n",
              "      <th>61e0179f-21fa-493e-81d1-e4282ace99f2</th>\n",
              "      <td>1.000000</td>\n",
              "      <td>True</td>\n",
              "    </tr>\n",
              "    <tr>\n",
              "      <th>...</th>\n",
              "      <th>...</th>\n",
              "      <td>...</td>\n",
              "      <td>...</td>\n",
              "    </tr>\n",
              "    <tr>\n",
              "      <th>ce337571-8ded-408e-81d0-4294aec0ce17</th>\n",
              "      <th>0e150356-f577-4617-82c7-f336e84e83f1</th>\n",
              "      <td>0.278125</td>\n",
              "      <td>True</td>\n",
              "    </tr>\n",
              "    <tr>\n",
              "      <th>c5deaa95-d521-4b12-868f-1c4d30d1f754</th>\n",
              "      <th>8f5c5a4e-9732-40cd-8605-9aa48a7d501d</th>\n",
              "      <td>0.246426</td>\n",
              "      <td>True</td>\n",
              "    </tr>\n",
              "    <tr>\n",
              "      <th>3b72f294-e4fa-4bba-b512-0030c5a4b3fc</th>\n",
              "      <th>d7bc4558-ce38-4c4d-877e-68f90b7ecc81</th>\n",
              "      <td>0.198989</td>\n",
              "      <td>True</td>\n",
              "    </tr>\n",
              "    <tr>\n",
              "      <th>fdcf5238-384c-44f3-99a4-3e8f049ff693</th>\n",
              "      <th>fe7fae1a-c83e-4ba9-b60b-9499965b6c0d</th>\n",
              "      <td>0.053640</td>\n",
              "      <td>True</td>\n",
              "    </tr>\n",
              "    <tr>\n",
              "      <th>11ee472c-64c9-4f1e-bb42-fd8c84eef085</th>\n",
              "      <th>87b4988c-cfc3-4d02-89ee-07ee49e00824</th>\n",
              "      <td>0.017220</td>\n",
              "      <td>True</td>\n",
              "    </tr>\n",
              "  </tbody>\n",
              "</table>\n",
              "<p>1393 rows × 2 columns</p>\n",
              "</div>"
            ],
            "text/plain": [
              "                                                                           model_score  ground_truth\n",
              "person_id_A                          person_id_B                                                    \n",
              "fe7dcaf6-3a4d-456d-8ac1-2b81875158bc eb827aae-7870-4a7a-8dc4-f5e755ae19b6     1.000000          True\n",
              "fc7ce04c-b9de-428b-83c2-80219ad8c4d3 d0e57003-6a0f-4e51-9cff-0e60927e0611     1.000000          True\n",
              "fc041887-b5b8-427b-ac8b-bd867d0c813f f93ba54b-0c5c-400d-89e8-1fe6746bf928     1.000000          True\n",
              "faa1d9cd-3f7d-436d-b4f9-6f589a64735d 62824acf-42e5-40c1-bd53-12f0b33a7d2a     1.000000          True\n",
              "ef330b40-c045-42de-8ef0-4be9fe1aa929 61e0179f-21fa-493e-81d1-e4282ace99f2     1.000000          True\n",
              "...                                                                                ...           ...\n",
              "ce337571-8ded-408e-81d0-4294aec0ce17 0e150356-f577-4617-82c7-f336e84e83f1     0.278125          True\n",
              "c5deaa95-d521-4b12-868f-1c4d30d1f754 8f5c5a4e-9732-40cd-8605-9aa48a7d501d     0.246426          True\n",
              "3b72f294-e4fa-4bba-b512-0030c5a4b3fc d7bc4558-ce38-4c4d-877e-68f90b7ecc81     0.198989          True\n",
              "fdcf5238-384c-44f3-99a4-3e8f049ff693 fe7fae1a-c83e-4ba9-b60b-9499965b6c0d     0.053640          True\n",
              "11ee472c-64c9-4f1e-bb42-fd8c84eef085 87b4988c-cfc3-4d02-89ee-07ee49e00824     0.017220          True\n",
              "\n",
              "[1393 rows x 2 columns]"
            ]
          },
          "metadata": {},
          "execution_count": 21
        }
      ]
    },
    {
      "cell_type": "markdown",
      "metadata": {
        "id": "vJUG0iht9tVH"
      },
      "source": [
        "## Choosing a Linking Model Score Threshold"
      ]
    },
    {
      "cell_type": "markdown",
      "metadata": {
        "id": "DN2fcb7U9tVH"
      },
      "source": [
        "The `dedupe` `.join` method that we used to score our training data directly incorporates the learned blockers. Thus, note that the scored pairs appearing on the distribution represent blocked pairs, and that our blockers *significantly* reduced the candidate pair search space."
      ]
    },
    {
      "cell_type": "markdown",
      "metadata": {
        "id": "Fl3jA9kB9tVI"
      },
      "source": [
        "### Model Score Distribution"
      ]
    },
    {
      "cell_type": "code",
      "metadata": {
        "id": "Aj4DygQN9tVI",
        "colab": {
          "base_uri": "https://localhost:8080/"
        },
        "outputId": "5fc46a80-4c5e-48c5-8f96-0c5e271f636b"
      },
      "source": [
        "df_predictions[\"ground_truth\"].value_counts()"
      ],
      "execution_count": 22,
      "outputs": [
        {
          "output_type": "execute_result",
          "data": {
            "text/plain": [
              "True     1392\n",
              "False       1\n",
              "Name: ground_truth, dtype: int64"
            ]
          },
          "metadata": {},
          "execution_count": 22
        }
      ]
    },
    {
      "cell_type": "code",
      "metadata": {
        "id": "_S4DsycA9tVJ",
        "colab": {
          "base_uri": "https://localhost:8080/",
          "height": 0
        },
        "outputId": "54dac8ea-8e50-4b93-97d4-f5cb9539f50f"
      },
      "source": [
        "tutorial.plot_model_score_distribution(df_predictions)"
      ],
      "execution_count": 23,
      "outputs": [
        {
          "output_type": "stream",
          "name": "stderr",
          "text": [
            "INFO:numexpr.utils:NumExpr defaulting to 2 threads.\n"
          ]
        },
        {
          "output_type": "execute_result",
          "data": {
            "text/plain": [
              "alt.Chart(...)"
            ],
            "text/html": [
              "\n",
              "<div id=\"altair-viz-4259b144358c4f4785f0905292e56137\"></div>\n",
              "<script type=\"text/javascript\">\n",
              "  (function(spec, embedOpt){\n",
              "    let outputDiv = document.currentScript.previousElementSibling;\n",
              "    if (outputDiv.id !== \"altair-viz-4259b144358c4f4785f0905292e56137\") {\n",
              "      outputDiv = document.getElementById(\"altair-viz-4259b144358c4f4785f0905292e56137\");\n",
              "    }\n",
              "    const paths = {\n",
              "      \"vega\": \"https://cdn.jsdelivr.net/npm//vega@5?noext\",\n",
              "      \"vega-lib\": \"https://cdn.jsdelivr.net/npm//vega-lib?noext\",\n",
              "      \"vega-lite\": \"https://cdn.jsdelivr.net/npm//vega-lite@4.8.1?noext\",\n",
              "      \"vega-embed\": \"https://cdn.jsdelivr.net/npm//vega-embed@6?noext\",\n",
              "    };\n",
              "\n",
              "    function loadScript(lib) {\n",
              "      return new Promise(function(resolve, reject) {\n",
              "        var s = document.createElement('script');\n",
              "        s.src = paths[lib];\n",
              "        s.async = true;\n",
              "        s.onload = () => resolve(paths[lib]);\n",
              "        s.onerror = () => reject(`Error loading script: ${paths[lib]}`);\n",
              "        document.getElementsByTagName(\"head\")[0].appendChild(s);\n",
              "      });\n",
              "    }\n",
              "\n",
              "    function showError(err) {\n",
              "      outputDiv.innerHTML = `<div class=\"error\" style=\"color:red;\">${err}</div>`;\n",
              "      throw err;\n",
              "    }\n",
              "\n",
              "    function displayChart(vegaEmbed) {\n",
              "      vegaEmbed(outputDiv, spec, embedOpt)\n",
              "        .catch(err => showError(`Javascript Error: ${err.message}<br>This usually means there's a typo in your chart specification. See the javascript console for the full traceback.`));\n",
              "    }\n",
              "\n",
              "    if(typeof define === \"function\" && define.amd) {\n",
              "      requirejs.config({paths});\n",
              "      require([\"vega-embed\"], displayChart, err => showError(`Error loading script: ${err.message}`));\n",
              "    } else if (typeof vegaEmbed === \"function\") {\n",
              "      displayChart(vegaEmbed);\n",
              "    } else {\n",
              "      loadScript(\"vega\")\n",
              "        .then(() => loadScript(\"vega-lite\"))\n",
              "        .then(() => loadScript(\"vega-embed\"))\n",
              "        .catch(showError)\n",
              "        .then(() => displayChart(vegaEmbed));\n",
              "    }\n",
              "  })({\"config\": {\"view\": {\"continuousWidth\": 400, \"continuousHeight\": 300}}, \"data\": {\"name\": \"data-fb1e066bb84a061f26c9f1d8fd3ed8d0\"}, \"mark\": {\"type\": \"bar\", \"binSpacing\": 0, \"opacity\": 0.7}, \"encoding\": {\"color\": {\"type\": \"nominal\", \"field\": \"ground_truth\", \"legend\": {\"title\": \"Ground Truth Label\"}, \"scale\": {\"domain\": [\"True Link\", \"Not a Link\"], \"scheme\": \"tableau10\"}}, \"opacity\": {\"condition\": {\"value\": 0.7, \"selection\": \"selector001\"}, \"value\": 0.2}, \"tooltip\": [{\"type\": \"quantitative\", \"field\": \"model_score\", \"title\": \"Model Score\"}, {\"type\": \"nominal\", \"field\": \"ground_truth\", \"title\": \"Ground Truth\"}, {\"type\": \"quantitative\", \"field\": \"count\", \"title\": \"Count of Links\"}], \"x\": {\"type\": \"quantitative\", \"axis\": {\"tickCount\": 5, \"title\": \"Model Score (Binned)\"}, \"bin\": {\"extent\": [0, 1], \"step\": 0.01}, \"field\": \"model_score\"}, \"y\": {\"type\": \"quantitative\", \"axis\": {\"title\": \"Count of Links\"}, \"field\": \"count\", \"stack\": null}}, \"height\": 400, \"selection\": {\"selector001\": {\"type\": \"multi\", \"fields\": [\"ground_truth\"], \"bind\": \"legend\"}, \"selector002\": {\"type\": \"interval\", \"bind\": \"scales\", \"encodings\": [\"x\", \"y\"]}}, \"title\": \"Model Score Distribution\", \"width\": 800, \"$schema\": \"https://vega.github.io/schema/vega-lite/v4.8.1.json\", \"datasets\": {\"data-fb1e066bb84a061f26c9f1d8fd3ed8d0\": [{\"model_score\": 0.02, \"ground_truth\": \"True Link\", \"count\": 1}, {\"model_score\": 0.05, \"ground_truth\": \"True Link\", \"count\": 1}, {\"model_score\": 0.2, \"ground_truth\": \"True Link\", \"count\": 1}, {\"model_score\": 0.25, \"ground_truth\": \"True Link\", \"count\": 1}, {\"model_score\": 0.28, \"ground_truth\": \"True Link\", \"count\": 1}, {\"model_score\": 0.29, \"ground_truth\": \"True Link\", \"count\": 2}, {\"model_score\": 0.32, \"ground_truth\": \"True Link\", \"count\": 1}, {\"model_score\": 0.33, \"ground_truth\": \"True Link\", \"count\": 1}, {\"model_score\": 0.39, \"ground_truth\": \"True Link\", \"count\": 1}, {\"model_score\": 0.41, \"ground_truth\": \"True Link\", \"count\": 1}, {\"model_score\": 0.46, \"ground_truth\": \"True Link\", \"count\": 1}, {\"model_score\": 0.49, \"ground_truth\": \"True Link\", \"count\": 1}, {\"model_score\": 0.52, \"ground_truth\": \"True Link\", \"count\": 2}, {\"model_score\": 0.54, \"ground_truth\": \"True Link\", \"count\": 1}, {\"model_score\": 0.61, \"ground_truth\": \"True Link\", \"count\": 2}, {\"model_score\": 0.64, \"ground_truth\": \"True Link\", \"count\": 1}, {\"model_score\": 0.66, \"ground_truth\": \"True Link\", \"count\": 2}, {\"model_score\": 0.68, \"ground_truth\": \"True Link\", \"count\": 3}, {\"model_score\": 0.69, \"ground_truth\": \"True Link\", \"count\": 5}, {\"model_score\": 0.7, \"ground_truth\": \"True Link\", \"count\": 2}, {\"model_score\": 0.72, \"ground_truth\": \"True Link\", \"count\": 1}, {\"model_score\": 0.73, \"ground_truth\": \"True Link\", \"count\": 2}, {\"model_score\": 0.74, \"ground_truth\": \"True Link\", \"count\": 1}, {\"model_score\": 0.75, \"ground_truth\": \"True Link\", \"count\": 1}, {\"model_score\": 0.76, \"ground_truth\": \"True Link\", \"count\": 3}, {\"model_score\": 0.77, \"ground_truth\": \"True Link\", \"count\": 2}, {\"model_score\": 0.78, \"ground_truth\": \"True Link\", \"count\": 4}, {\"model_score\": 0.79, \"ground_truth\": \"True Link\", \"count\": 4}, {\"model_score\": 0.8, \"ground_truth\": \"True Link\", \"count\": 3}, {\"model_score\": 0.81, \"ground_truth\": \"True Link\", \"count\": 1}, {\"model_score\": 0.82, \"ground_truth\": \"True Link\", \"count\": 5}, {\"model_score\": 0.83, \"ground_truth\": \"True Link\", \"count\": 3}, {\"model_score\": 0.84, \"ground_truth\": \"True Link\", \"count\": 3}, {\"model_score\": 0.85, \"ground_truth\": \"True Link\", \"count\": 10}, {\"model_score\": 0.86, \"ground_truth\": \"True Link\", \"count\": 1}, {\"model_score\": 0.87, \"ground_truth\": \"True Link\", \"count\": 4}, {\"model_score\": 0.88, \"ground_truth\": \"True Link\", \"count\": 6}, {\"model_score\": 0.89, \"ground_truth\": \"True Link\", \"count\": 4}, {\"model_score\": 0.9, \"ground_truth\": \"True Link\", \"count\": 7}, {\"model_score\": 0.91, \"ground_truth\": \"True Link\", \"count\": 13}, {\"model_score\": 0.92, \"ground_truth\": \"True Link\", \"count\": 9}, {\"model_score\": 0.93, \"ground_truth\": \"True Link\", \"count\": 17}, {\"model_score\": 0.94, \"ground_truth\": \"True Link\", \"count\": 9}, {\"model_score\": 0.95, \"ground_truth\": \"True Link\", \"count\": 28}, {\"model_score\": 0.96, \"ground_truth\": \"True Link\", \"count\": 34}, {\"model_score\": 0.97, \"ground_truth\": \"True Link\", \"count\": 38}, {\"model_score\": 0.98, \"ground_truth\": \"True Link\", \"count\": 62}, {\"model_score\": 0.99, \"ground_truth\": \"True Link\", \"count\": 232}, {\"model_score\": 1.0, \"ground_truth\": \"Not a Link\", \"count\": 1}, {\"model_score\": 1.0, \"ground_truth\": \"True Link\", \"count\": 854}]}}, {\"mode\": \"vega-lite\"});\n",
              "</script>"
            ]
          },
          "metadata": {},
          "execution_count": 23
        }
      ]
    },
    {
      "cell_type": "markdown",
      "metadata": {
        "id": "ZZuZLasJ9tVJ"
      },
      "source": [
        "### Precision and Recall vs. Model Score"
      ]
    },
    {
      "cell_type": "code",
      "metadata": {
        "id": "jSX7N6x59tVJ"
      },
      "source": [
        "df_eval = tutorial.evaluate_linking(\n",
        "    df=df_predictions\n",
        ")"
      ],
      "execution_count": 24,
      "outputs": []
    },
    {
      "cell_type": "code",
      "metadata": {
        "id": "28nOLnrs9tVK",
        "colab": {
          "base_uri": "https://localhost:8080/",
          "height": 0
        },
        "outputId": "027bebf2-9ec4-4b31-8c39-58d4dc7f172a"
      },
      "source": [
        "df_eval.head()"
      ],
      "execution_count": 25,
      "outputs": [
        {
          "output_type": "execute_result",
          "data": {
            "text/html": [
              "<div>\n",
              "<style scoped>\n",
              "    .dataframe tbody tr th:only-of-type {\n",
              "        vertical-align: middle;\n",
              "    }\n",
              "\n",
              "    .dataframe tbody tr th {\n",
              "        vertical-align: top;\n",
              "    }\n",
              "\n",
              "    .dataframe thead th {\n",
              "        text-align: right;\n",
              "    }\n",
              "</style>\n",
              "<table border=\"1\" class=\"dataframe\">\n",
              "  <thead>\n",
              "    <tr style=\"text-align: right;\">\n",
              "      <th></th>\n",
              "      <th>threshold</th>\n",
              "      <th>tp</th>\n",
              "      <th>fp</th>\n",
              "      <th>tn</th>\n",
              "      <th>fn</th>\n",
              "      <th>precision</th>\n",
              "      <th>recall</th>\n",
              "      <th>f1</th>\n",
              "    </tr>\n",
              "  </thead>\n",
              "  <tbody>\n",
              "    <tr>\n",
              "      <th>0</th>\n",
              "      <td>0.000000</td>\n",
              "      <td>1392</td>\n",
              "      <td>1</td>\n",
              "      <td>0</td>\n",
              "      <td>0</td>\n",
              "      <td>0.999282</td>\n",
              "      <td>1.000000</td>\n",
              "      <td>0.999641</td>\n",
              "    </tr>\n",
              "    <tr>\n",
              "      <th>1</th>\n",
              "      <td>0.020408</td>\n",
              "      <td>1391</td>\n",
              "      <td>1</td>\n",
              "      <td>0</td>\n",
              "      <td>1</td>\n",
              "      <td>0.999282</td>\n",
              "      <td>0.999282</td>\n",
              "      <td>0.999282</td>\n",
              "    </tr>\n",
              "    <tr>\n",
              "      <th>2</th>\n",
              "      <td>0.040816</td>\n",
              "      <td>1391</td>\n",
              "      <td>1</td>\n",
              "      <td>0</td>\n",
              "      <td>1</td>\n",
              "      <td>0.999282</td>\n",
              "      <td>0.999282</td>\n",
              "      <td>0.999282</td>\n",
              "    </tr>\n",
              "    <tr>\n",
              "      <th>3</th>\n",
              "      <td>0.061224</td>\n",
              "      <td>1390</td>\n",
              "      <td>1</td>\n",
              "      <td>0</td>\n",
              "      <td>2</td>\n",
              "      <td>0.999281</td>\n",
              "      <td>0.998563</td>\n",
              "      <td>0.998922</td>\n",
              "    </tr>\n",
              "    <tr>\n",
              "      <th>4</th>\n",
              "      <td>0.081633</td>\n",
              "      <td>1390</td>\n",
              "      <td>1</td>\n",
              "      <td>0</td>\n",
              "      <td>2</td>\n",
              "      <td>0.999281</td>\n",
              "      <td>0.998563</td>\n",
              "      <td>0.998922</td>\n",
              "    </tr>\n",
              "  </tbody>\n",
              "</table>\n",
              "</div>"
            ],
            "text/plain": [
              "   threshold    tp  fp  tn  fn  precision    recall        f1\n",
              "0   0.000000  1392   1   0   0   0.999282  1.000000  0.999641\n",
              "1   0.020408  1391   1   0   1   0.999282  0.999282  0.999282\n",
              "2   0.040816  1391   1   0   1   0.999282  0.999282  0.999282\n",
              "3   0.061224  1390   1   0   2   0.999281  0.998563  0.998922\n",
              "4   0.081633  1390   1   0   2   0.999281  0.998563  0.998922"
            ]
          },
          "metadata": {},
          "execution_count": 25
        }
      ]
    },
    {
      "cell_type": "code",
      "metadata": {
        "id": "-4VV6cT59tVK",
        "colab": {
          "base_uri": "https://localhost:8080/",
          "height": 0
        },
        "outputId": "8925c227-4874-4b9e-9bb7-03b21be89782"
      },
      "source": [
        "tutorial.plot_precision_recall_vs_threshold(df_eval)"
      ],
      "execution_count": 26,
      "outputs": [
        {
          "output_type": "execute_result",
          "data": {
            "text/plain": [
              "alt.LayerChart(...)"
            ],
            "text/html": [
              "\n",
              "<div id=\"altair-viz-9e9c85d143a34941bf8f73af48988bd6\"></div>\n",
              "<script type=\"text/javascript\">\n",
              "  (function(spec, embedOpt){\n",
              "    let outputDiv = document.currentScript.previousElementSibling;\n",
              "    if (outputDiv.id !== \"altair-viz-9e9c85d143a34941bf8f73af48988bd6\") {\n",
              "      outputDiv = document.getElementById(\"altair-viz-9e9c85d143a34941bf8f73af48988bd6\");\n",
              "    }\n",
              "    const paths = {\n",
              "      \"vega\": \"https://cdn.jsdelivr.net/npm//vega@5?noext\",\n",
              "      \"vega-lib\": \"https://cdn.jsdelivr.net/npm//vega-lib?noext\",\n",
              "      \"vega-lite\": \"https://cdn.jsdelivr.net/npm//vega-lite@4.8.1?noext\",\n",
              "      \"vega-embed\": \"https://cdn.jsdelivr.net/npm//vega-embed@6?noext\",\n",
              "    };\n",
              "\n",
              "    function loadScript(lib) {\n",
              "      return new Promise(function(resolve, reject) {\n",
              "        var s = document.createElement('script');\n",
              "        s.src = paths[lib];\n",
              "        s.async = true;\n",
              "        s.onload = () => resolve(paths[lib]);\n",
              "        s.onerror = () => reject(`Error loading script: ${paths[lib]}`);\n",
              "        document.getElementsByTagName(\"head\")[0].appendChild(s);\n",
              "      });\n",
              "    }\n",
              "\n",
              "    function showError(err) {\n",
              "      outputDiv.innerHTML = `<div class=\"error\" style=\"color:red;\">${err}</div>`;\n",
              "      throw err;\n",
              "    }\n",
              "\n",
              "    function displayChart(vegaEmbed) {\n",
              "      vegaEmbed(outputDiv, spec, embedOpt)\n",
              "        .catch(err => showError(`Javascript Error: ${err.message}<br>This usually means there's a typo in your chart specification. See the javascript console for the full traceback.`));\n",
              "    }\n",
              "\n",
              "    if(typeof define === \"function\" && define.amd) {\n",
              "      requirejs.config({paths});\n",
              "      require([\"vega-embed\"], displayChart, err => showError(`Error loading script: ${err.message}`));\n",
              "    } else if (typeof vegaEmbed === \"function\") {\n",
              "      displayChart(vegaEmbed);\n",
              "    } else {\n",
              "      loadScript(\"vega\")\n",
              "        .then(() => loadScript(\"vega-lite\"))\n",
              "        .then(() => loadScript(\"vega-embed\"))\n",
              "        .catch(showError)\n",
              "        .then(() => displayChart(vegaEmbed));\n",
              "    }\n",
              "  })({\"config\": {\"view\": {\"continuousWidth\": 400, \"continuousHeight\": 300}}, \"layer\": [{\"mark\": \"line\", \"encoding\": {\"color\": {\"type\": \"nominal\", \"field\": \"variable\", \"legend\": {\"title\": \"Variable\"}}, \"tooltip\": [{\"type\": \"nominal\", \"field\": \"variable\"}, {\"type\": \"quantitative\", \"field\": \"threshold\"}, {\"type\": \"quantitative\", \"field\": \"value\"}], \"x\": {\"type\": \"quantitative\", \"axis\": {\"title\": \"Model Threshold\"}, \"field\": \"threshold\"}, \"y\": {\"type\": \"quantitative\", \"axis\": {\"title\": \"Precision/Recall Value\"}, \"field\": \"value\", \"scale\": {\"domain\": [0, 1]}}}, \"selection\": {\"selector004\": {\"type\": \"interval\", \"bind\": \"scales\", \"encodings\": [\"x\", \"y\"]}}, \"title\": \"Precision and Recall v.s. Model Threshold\"}, {\"mark\": \"point\", \"encoding\": {\"opacity\": {\"value\": 0}, \"x\": {\"type\": \"quantitative\", \"field\": \"threshold\"}}, \"selection\": {\"selector003\": {\"type\": \"single\", \"nearest\": true, \"on\": \"mouseover\", \"fields\": [\"threshold\"], \"empty\": \"none\"}}}, {\"mark\": \"point\", \"encoding\": {\"color\": {\"type\": \"nominal\", \"field\": \"variable\", \"legend\": {\"title\": \"Variable\"}}, \"opacity\": {\"condition\": {\"value\": 1, \"selection\": \"selector003\"}, \"value\": 0}, \"tooltip\": [{\"type\": \"nominal\", \"field\": \"variable\"}, {\"type\": \"quantitative\", \"field\": \"threshold\"}, {\"type\": \"quantitative\", \"field\": \"value\"}], \"x\": {\"type\": \"quantitative\", \"axis\": {\"title\": \"Model Threshold\"}, \"field\": \"threshold\"}, \"y\": {\"type\": \"quantitative\", \"axis\": {\"title\": \"Precision/Recall Value\"}, \"field\": \"value\", \"scale\": {\"domain\": [0, 1]}}}, \"title\": \"Precision and Recall v.s. Model Threshold\"}, {\"mark\": {\"type\": \"rule\", \"color\": \"gray\"}, \"encoding\": {\"x\": {\"type\": \"quantitative\", \"field\": \"threshold\"}}, \"transform\": [{\"filter\": {\"selection\": \"selector003\"}}]}, {\"mark\": {\"type\": \"text\", \"align\": \"right\", \"dx\": -10, \"dy\": -5, \"fontWeight\": 300, \"lineBreak\": \"\\n\"}, \"encoding\": {\"color\": {\"type\": \"nominal\", \"field\": \"variable\", \"legend\": {\"title\": \"Variable\"}}, \"text\": {\"condition\": {\"type\": \"nominal\", \"field\": \"label\", \"selection\": \"selector003\"}, \"value\": \" \"}, \"tooltip\": [{\"type\": \"nominal\", \"field\": \"variable\"}, {\"type\": \"quantitative\", \"field\": \"threshold\"}, {\"type\": \"quantitative\", \"field\": \"value\"}], \"x\": {\"type\": \"quantitative\", \"axis\": {\"title\": \"Model Threshold\"}, \"field\": \"threshold\"}, \"y\": {\"type\": \"quantitative\", \"axis\": {\"title\": \"Precision/Recall Value\"}, \"field\": \"value\", \"scale\": {\"domain\": [0, 1]}}}, \"title\": \"Precision and Recall v.s. Model Threshold\"}], \"data\": {\"name\": \"data-05f2861eaa3ac70f0003c741c7b43929\"}, \"height\": 400, \"width\": 800, \"$schema\": \"https://vega.github.io/schema/vega-lite/v4.8.1.json\", \"datasets\": {\"data-05f2861eaa3ac70f0003c741c7b43929\": [{\"threshold\": 0.0, \"label\": \"threshold: 0.0\\nprecision: 0.999\\nrecall: 1.0\", \"variable\": \"recall\", \"value\": 1.0}, {\"threshold\": 0.02040816326530612, \"label\": \"threshold: 0.02\\nprecision: 0.999\\nrecall: 0.999\", \"variable\": \"recall\", \"value\": 0.9992816091954023}, {\"threshold\": 0.04081632653061224, \"label\": \"threshold: 0.041\\nprecision: 0.999\\nrecall: 0.999\", \"variable\": \"recall\", \"value\": 0.9992816091954023}, {\"threshold\": 0.061224489795918366, \"label\": \"threshold: 0.061\\nprecision: 0.999\\nrecall: 0.999\", \"variable\": \"recall\", \"value\": 0.9985632183908046}, {\"threshold\": 0.08163265306122448, \"label\": \"threshold: 0.082\\nprecision: 0.999\\nrecall: 0.999\", \"variable\": \"recall\", \"value\": 0.9985632183908046}, {\"threshold\": 0.1020408163265306, \"label\": \"threshold: 0.102\\nprecision: 0.999\\nrecall: 0.999\", \"variable\": \"recall\", \"value\": 0.9985632183908046}, {\"threshold\": 0.12244897959183673, \"label\": \"threshold: 0.122\\nprecision: 0.999\\nrecall: 0.999\", \"variable\": \"recall\", \"value\": 0.9985632183908046}, {\"threshold\": 0.14285714285714285, \"label\": \"threshold: 0.143\\nprecision: 0.999\\nrecall: 0.999\", \"variable\": \"recall\", \"value\": 0.9985632183908046}, {\"threshold\": 0.16326530612244897, \"label\": \"threshold: 0.163\\nprecision: 0.999\\nrecall: 0.999\", \"variable\": \"recall\", \"value\": 0.9985632183908046}, {\"threshold\": 0.18367346938775508, \"label\": \"threshold: 0.184\\nprecision: 0.999\\nrecall: 0.999\", \"variable\": \"recall\", \"value\": 0.9985632183908046}, {\"threshold\": 0.2040816326530612, \"label\": \"threshold: 0.204\\nprecision: 0.999\\nrecall: 0.998\", \"variable\": \"recall\", \"value\": 0.9978448275862069}, {\"threshold\": 0.22448979591836732, \"label\": \"threshold: 0.224\\nprecision: 0.999\\nrecall: 0.998\", \"variable\": \"recall\", \"value\": 0.9978448275862069}, {\"threshold\": 0.24489795918367346, \"label\": \"threshold: 0.245\\nprecision: 0.999\\nrecall: 0.998\", \"variable\": \"recall\", \"value\": 0.9978448275862069}, {\"threshold\": 0.26530612244897955, \"label\": \"threshold: 0.265\\nprecision: 0.999\\nrecall: 0.997\", \"variable\": \"recall\", \"value\": 0.9971264367816092}, {\"threshold\": 0.2857142857142857, \"label\": \"threshold: 0.286\\nprecision: 0.999\\nrecall: 0.996\", \"variable\": \"recall\", \"value\": 0.9964080459770115}, {\"threshold\": 0.3061224489795918, \"label\": \"threshold: 0.306\\nprecision: 0.999\\nrecall: 0.995\", \"variable\": \"recall\", \"value\": 0.9949712643678161}, {\"threshold\": 0.32653061224489793, \"label\": \"threshold: 0.327\\nprecision: 0.999\\nrecall: 0.994\", \"variable\": \"recall\", \"value\": 0.9942528735632183}, {\"threshold\": 0.3469387755102041, \"label\": \"threshold: 0.347\\nprecision: 0.999\\nrecall: 0.994\", \"variable\": \"recall\", \"value\": 0.9935344827586207}, {\"threshold\": 0.36734693877551017, \"label\": \"threshold: 0.367\\nprecision: 0.999\\nrecall: 0.994\", \"variable\": \"recall\", \"value\": 0.9935344827586207}, {\"threshold\": 0.3877551020408163, \"label\": \"threshold: 0.388\\nprecision: 0.999\\nrecall: 0.994\", \"variable\": \"recall\", \"value\": 0.9935344827586207}, {\"threshold\": 0.4081632653061224, \"label\": \"threshold: 0.408\\nprecision: 0.999\\nrecall: 0.992\", \"variable\": \"recall\", \"value\": 0.9920977011494253}, {\"threshold\": 0.42857142857142855, \"label\": \"threshold: 0.429\\nprecision: 0.999\\nrecall: 0.992\", \"variable\": \"recall\", \"value\": 0.9920977011494253}, {\"threshold\": 0.44897959183673464, \"label\": \"threshold: 0.449\\nprecision: 0.999\\nrecall: 0.992\", \"variable\": \"recall\", \"value\": 0.9920977011494253}, {\"threshold\": 0.4693877551020408, \"label\": \"threshold: 0.469\\nprecision: 0.999\\nrecall: 0.991\", \"variable\": \"recall\", \"value\": 0.9913793103448276}, {\"threshold\": 0.4897959183673469, \"label\": \"threshold: 0.49\\nprecision: 0.999\\nrecall: 0.991\", \"variable\": \"recall\", \"value\": 0.9913793103448276}, {\"threshold\": 0.5102040816326531, \"label\": \"threshold: 0.51\\nprecision: 0.999\\nrecall: 0.991\", \"variable\": \"recall\", \"value\": 0.9906609195402298}, {\"threshold\": 0.5306122448979591, \"label\": \"threshold: 0.531\\nprecision: 0.999\\nrecall: 0.989\", \"variable\": \"recall\", \"value\": 0.9892241379310345}, {\"threshold\": 0.5510204081632653, \"label\": \"threshold: 0.551\\nprecision: 0.999\\nrecall: 0.989\", \"variable\": \"recall\", \"value\": 0.9885057471264368}, {\"threshold\": 0.5714285714285714, \"label\": \"threshold: 0.571\\nprecision: 0.999\\nrecall: 0.989\", \"variable\": \"recall\", \"value\": 0.9885057471264368}, {\"threshold\": 0.5918367346938775, \"label\": \"threshold: 0.592\\nprecision: 0.999\\nrecall: 0.989\", \"variable\": \"recall\", \"value\": 0.9885057471264368}, {\"threshold\": 0.6122448979591836, \"label\": \"threshold: 0.612\\nprecision: 0.999\\nrecall: 0.988\", \"variable\": \"recall\", \"value\": 0.9877873563218391}, {\"threshold\": 0.6326530612244897, \"label\": \"threshold: 0.633\\nprecision: 0.999\\nrecall: 0.987\", \"variable\": \"recall\", \"value\": 0.9870689655172413}, {\"threshold\": 0.6530612244897959, \"label\": \"threshold: 0.653\\nprecision: 0.999\\nrecall: 0.986\", \"variable\": \"recall\", \"value\": 0.9863505747126436}, {\"threshold\": 0.673469387755102, \"label\": \"threshold: 0.673\\nprecision: 0.999\\nrecall: 0.985\", \"variable\": \"recall\", \"value\": 0.9849137931034483}, {\"threshold\": 0.6938775510204082, \"label\": \"threshold: 0.694\\nprecision: 0.999\\nrecall: 0.979\", \"variable\": \"recall\", \"value\": 0.9791666666666666}, {\"threshold\": 0.7142857142857142, \"label\": \"threshold: 0.714\\nprecision: 0.999\\nrecall: 0.978\", \"variable\": \"recall\", \"value\": 0.9777298850574713}, {\"threshold\": 0.7346938775510203, \"label\": \"threshold: 0.735\\nprecision: 0.999\\nrecall: 0.976\", \"variable\": \"recall\", \"value\": 0.9755747126436781}, {\"threshold\": 0.7551020408163265, \"label\": \"threshold: 0.755\\nprecision: 0.999\\nrecall: 0.973\", \"variable\": \"recall\", \"value\": 0.9734195402298851}, {\"threshold\": 0.7755102040816326, \"label\": \"threshold: 0.776\\nprecision: 0.999\\nrecall: 0.971\", \"variable\": \"recall\", \"value\": 0.9705459770114943}, {\"threshold\": 0.7959183673469387, \"label\": \"threshold: 0.796\\nprecision: 0.999\\nrecall: 0.965\", \"variable\": \"recall\", \"value\": 0.9647988505747126}, {\"threshold\": 0.8163265306122448, \"label\": \"threshold: 0.816\\nprecision: 0.999\\nrecall: 0.961\", \"variable\": \"recall\", \"value\": 0.9612068965517241}, {\"threshold\": 0.836734693877551, \"label\": \"threshold: 0.837\\nprecision: 0.999\\nrecall: 0.956\", \"variable\": \"recall\", \"value\": 0.9561781609195402}, {\"threshold\": 0.8571428571428571, \"label\": \"threshold: 0.857\\nprecision: 0.999\\nrecall: 0.947\", \"variable\": \"recall\", \"value\": 0.9468390804597702}, {\"threshold\": 0.8775510204081632, \"label\": \"threshold: 0.878\\nprecision: 0.999\\nrecall: 0.942\", \"variable\": \"recall\", \"value\": 0.9418103448275862}, {\"threshold\": 0.8979591836734693, \"label\": \"threshold: 0.898\\nprecision: 0.999\\nrecall: 0.933\", \"variable\": \"recall\", \"value\": 0.9331896551724138}, {\"threshold\": 0.9183673469387754, \"label\": \"threshold: 0.918\\nprecision: 0.999\\nrecall: 0.921\", \"variable\": \"recall\", \"value\": 0.9209770114942529}, {\"threshold\": 0.9387755102040816, \"label\": \"threshold: 0.939\\nprecision: 0.999\\nrecall: 0.902\", \"variable\": \"recall\", \"value\": 0.9015804597701149}, {\"threshold\": 0.9591836734693877, \"label\": \"threshold: 0.959\\nprecision: 0.999\\nrecall: 0.87\", \"variable\": \"recall\", \"value\": 0.8699712643678161}, {\"threshold\": 0.9795918367346939, \"label\": \"threshold: 0.98\\nprecision: 0.999\\nrecall: 0.804\", \"variable\": \"recall\", \"value\": 0.8038793103448276}, {\"threshold\": 1.0, \"label\": \"threshold: 1.0\\nprecision: 1.0\\nrecall: 0.011\", \"variable\": \"recall\", \"value\": 0.010775862068965518}, {\"threshold\": 0.0, \"label\": \"threshold: 0.0\\nprecision: 0.999\\nrecall: 1.0\", \"variable\": \"precision\", \"value\": 0.9992821249102656}, {\"threshold\": 0.02040816326530612, \"label\": \"threshold: 0.02\\nprecision: 0.999\\nrecall: 0.999\", \"variable\": \"precision\", \"value\": 0.9992816091954023}, {\"threshold\": 0.04081632653061224, \"label\": \"threshold: 0.041\\nprecision: 0.999\\nrecall: 0.999\", \"variable\": \"precision\", \"value\": 0.9992816091954023}, {\"threshold\": 0.061224489795918366, \"label\": \"threshold: 0.061\\nprecision: 0.999\\nrecall: 0.999\", \"variable\": \"precision\", \"value\": 0.9992810927390366}, {\"threshold\": 0.08163265306122448, \"label\": \"threshold: 0.082\\nprecision: 0.999\\nrecall: 0.999\", \"variable\": \"precision\", \"value\": 0.9992810927390366}, {\"threshold\": 0.1020408163265306, \"label\": \"threshold: 0.102\\nprecision: 0.999\\nrecall: 0.999\", \"variable\": \"precision\", \"value\": 0.9992810927390366}, {\"threshold\": 0.12244897959183673, \"label\": \"threshold: 0.122\\nprecision: 0.999\\nrecall: 0.999\", \"variable\": \"precision\", \"value\": 0.9992810927390366}, {\"threshold\": 0.14285714285714285, \"label\": \"threshold: 0.143\\nprecision: 0.999\\nrecall: 0.999\", \"variable\": \"precision\", \"value\": 0.9992810927390366}, {\"threshold\": 0.16326530612244897, \"label\": \"threshold: 0.163\\nprecision: 0.999\\nrecall: 0.999\", \"variable\": \"precision\", \"value\": 0.9992810927390366}, {\"threshold\": 0.18367346938775508, \"label\": \"threshold: 0.184\\nprecision: 0.999\\nrecall: 0.999\", \"variable\": \"precision\", \"value\": 0.9992810927390366}, {\"threshold\": 0.2040816326530612, \"label\": \"threshold: 0.204\\nprecision: 0.999\\nrecall: 0.998\", \"variable\": \"precision\", \"value\": 0.9992805755395684}, {\"threshold\": 0.22448979591836732, \"label\": \"threshold: 0.224\\nprecision: 0.999\\nrecall: 0.998\", \"variable\": \"precision\", \"value\": 0.9992805755395684}, {\"threshold\": 0.24489795918367346, \"label\": \"threshold: 0.245\\nprecision: 0.999\\nrecall: 0.998\", \"variable\": \"precision\", \"value\": 0.9992805755395684}, {\"threshold\": 0.26530612244897955, \"label\": \"threshold: 0.265\\nprecision: 0.999\\nrecall: 0.997\", \"variable\": \"precision\", \"value\": 0.9992800575953924}, {\"threshold\": 0.2857142857142857, \"label\": \"threshold: 0.286\\nprecision: 0.999\\nrecall: 0.996\", \"variable\": \"precision\", \"value\": 0.9992795389048992}, {\"threshold\": 0.3061224489795918, \"label\": \"threshold: 0.306\\nprecision: 0.999\\nrecall: 0.995\", \"variable\": \"precision\", \"value\": 0.9992784992784993}, {\"threshold\": 0.32653061224489793, \"label\": \"threshold: 0.327\\nprecision: 0.999\\nrecall: 0.994\", \"variable\": \"precision\", \"value\": 0.9992779783393502}, {\"threshold\": 0.3469387755102041, \"label\": \"threshold: 0.347\\nprecision: 0.999\\nrecall: 0.994\", \"variable\": \"precision\", \"value\": 0.9992774566473989}, {\"threshold\": 0.36734693877551017, \"label\": \"threshold: 0.367\\nprecision: 0.999\\nrecall: 0.994\", \"variable\": \"precision\", \"value\": 0.9992774566473989}, {\"threshold\": 0.3877551020408163, \"label\": \"threshold: 0.388\\nprecision: 0.999\\nrecall: 0.994\", \"variable\": \"precision\", \"value\": 0.9992774566473989}, {\"threshold\": 0.4081632653061224, \"label\": \"threshold: 0.408\\nprecision: 0.999\\nrecall: 0.992\", \"variable\": \"precision\", \"value\": 0.9992764109985528}, {\"threshold\": 0.42857142857142855, \"label\": \"threshold: 0.429\\nprecision: 0.999\\nrecall: 0.992\", \"variable\": \"precision\", \"value\": 0.9992764109985528}, {\"threshold\": 0.44897959183673464, \"label\": \"threshold: 0.449\\nprecision: 0.999\\nrecall: 0.992\", \"variable\": \"precision\", \"value\": 0.9992764109985528}, {\"threshold\": 0.4693877551020408, \"label\": \"threshold: 0.469\\nprecision: 0.999\\nrecall: 0.991\", \"variable\": \"precision\", \"value\": 0.999275887038378}, {\"threshold\": 0.4897959183673469, \"label\": \"threshold: 0.49\\nprecision: 0.999\\nrecall: 0.991\", \"variable\": \"precision\", \"value\": 0.999275887038378}, {\"threshold\": 0.5102040816326531, \"label\": \"threshold: 0.51\\nprecision: 0.999\\nrecall: 0.991\", \"variable\": \"precision\", \"value\": 0.9992753623188406}, {\"threshold\": 0.5306122448979591, \"label\": \"threshold: 0.531\\nprecision: 0.999\\nrecall: 0.989\", \"variable\": \"precision\", \"value\": 0.9992743105950653}, {\"threshold\": 0.5510204081632653, \"label\": \"threshold: 0.551\\nprecision: 0.999\\nrecall: 0.989\", \"variable\": \"precision\", \"value\": 0.9992737835875091}, {\"threshold\": 0.5714285714285714, \"label\": \"threshold: 0.571\\nprecision: 0.999\\nrecall: 0.989\", \"variable\": \"precision\", \"value\": 0.9992737835875091}, {\"threshold\": 0.5918367346938775, \"label\": \"threshold: 0.592\\nprecision: 0.999\\nrecall: 0.989\", \"variable\": \"precision\", \"value\": 0.9992737835875091}, {\"threshold\": 0.6122448979591836, \"label\": \"threshold: 0.612\\nprecision: 0.999\\nrecall: 0.988\", \"variable\": \"precision\", \"value\": 0.9992732558139535}, {\"threshold\": 0.6326530612244897, \"label\": \"threshold: 0.633\\nprecision: 0.999\\nrecall: 0.987\", \"variable\": \"precision\", \"value\": 0.9992727272727273}, {\"threshold\": 0.6530612244897959, \"label\": \"threshold: 0.653\\nprecision: 0.999\\nrecall: 0.986\", \"variable\": \"precision\", \"value\": 0.9992721979621543}, {\"threshold\": 0.673469387755102, \"label\": \"threshold: 0.673\\nprecision: 0.999\\nrecall: 0.985\", \"variable\": \"precision\", \"value\": 0.999271137026239}, {\"threshold\": 0.6938775510204082, \"label\": \"threshold: 0.694\\nprecision: 0.999\\nrecall: 0.979\", \"variable\": \"precision\", \"value\": 0.999266862170088}, {\"threshold\": 0.7142857142857142, \"label\": \"threshold: 0.714\\nprecision: 0.999\\nrecall: 0.978\", \"variable\": \"precision\", \"value\": 0.9992657856093979}, {\"threshold\": 0.7346938775510203, \"label\": \"threshold: 0.735\\nprecision: 0.999\\nrecall: 0.976\", \"variable\": \"precision\", \"value\": 0.9992641648270787}, {\"threshold\": 0.7551020408163265, \"label\": \"threshold: 0.755\\nprecision: 0.999\\nrecall: 0.973\", \"variable\": \"precision\", \"value\": 0.9992625368731564}, {\"threshold\": 0.7755102040816326, \"label\": \"threshold: 0.776\\nprecision: 0.999\\nrecall: 0.971\", \"variable\": \"precision\", \"value\": 0.9992603550295858}, {\"threshold\": 0.7959183673469387, \"label\": \"threshold: 0.796\\nprecision: 0.999\\nrecall: 0.965\", \"variable\": \"precision\", \"value\": 0.9992559523809523}, {\"threshold\": 0.8163265306122448, \"label\": \"threshold: 0.816\\nprecision: 0.999\\nrecall: 0.961\", \"variable\": \"precision\", \"value\": 0.9992531740104555}, {\"threshold\": 0.836734693877551, \"label\": \"threshold: 0.837\\nprecision: 0.999\\nrecall: 0.956\", \"variable\": \"precision\", \"value\": 0.9992492492492493}, {\"threshold\": 0.8571428571428571, \"label\": \"threshold: 0.857\\nprecision: 0.999\\nrecall: 0.947\", \"variable\": \"precision\", \"value\": 0.9992418498862775}, {\"threshold\": 0.8775510204081632, \"label\": \"threshold: 0.878\\nprecision: 0.999\\nrecall: 0.942\", \"variable\": \"precision\", \"value\": 0.9992378048780488}, {\"threshold\": 0.8979591836734693, \"label\": \"threshold: 0.898\\nprecision: 0.999\\nrecall: 0.933\", \"variable\": \"precision\", \"value\": 0.9992307692307693}, {\"threshold\": 0.9183673469387754, \"label\": \"threshold: 0.918\\nprecision: 0.999\\nrecall: 0.921\", \"variable\": \"precision\", \"value\": 0.9992205767731879}, {\"threshold\": 0.9387755102040816, \"label\": \"threshold: 0.939\\nprecision: 0.999\\nrecall: 0.902\", \"variable\": \"precision\", \"value\": 0.9992038216560509}, {\"threshold\": 0.9591836734693877, \"label\": \"threshold: 0.959\\nprecision: 0.999\\nrecall: 0.87\", \"variable\": \"precision\", \"value\": 0.9991749174917491}, {\"threshold\": 0.9795918367346939, \"label\": \"threshold: 0.98\\nprecision: 0.999\\nrecall: 0.804\", \"variable\": \"precision\", \"value\": 0.9991071428571429}, {\"threshold\": 1.0, \"label\": \"threshold: 1.0\\nprecision: 1.0\\nrecall: 0.011\", \"variable\": \"precision\", \"value\": 1.0}]}}, {\"mode\": \"vega-lite\"});\n",
              "</script>"
            ]
          },
          "metadata": {},
          "execution_count": 26
        }
      ]
    },
    {
      "cell_type": "markdown",
      "metadata": {
        "id": "X_WKsBCe9tVK"
      },
      "source": [
        "## Iterating with Active Learning"
      ]
    },
    {
      "cell_type": "markdown",
      "metadata": {
        "id": "-QxwIGRs9tVL"
      },
      "source": [
        "When using active learning, we iterate on our linking solution, and incorporate progressively more labeled training data. Perhaps we're not satisfied with the current performance of the blockers or classifier, and we'd like to create more labeled examples for dedupe to train on.\n",
        "\n",
        "Recall that earlier, we saved off our existing training data from the first labeling session. We can load this persisted data into a `dedupe` linker, and kick off another labeling session. Perhaps, after investigating the data during our first cycle, we don't think that dedupe should include `address_1` and `address2` in its comparators."
      ]
    },
    {
      "cell_type": "markdown",
      "metadata": {
        "id": "r6-P6pBZ9tVL"
      },
      "source": [
        "### Tweak the Linker and Use Existing Training Data"
      ]
    },
    {
      "cell_type": "code",
      "metadata": {
        "id": "VvMW9lv59tVL",
        "colab": {
          "base_uri": "https://localhost:8080/"
        },
        "outputId": "fce621a7-ebee-4711-b54c-a9419423d692"
      },
      "source": [
        "%%time\n",
        "\n",
        "fields = [\n",
        "    { \"field\" : \"first_name\", \"type\" : \"Name\" },\n",
        "    { \"field\" : \"surname\", \"type\" : \"Name\" },\n",
        "    { \"field\" : \"suburb\", \"type\" : \"ShortString\" },\n",
        "    { \"field\" : \"postcode\", \"type\" : \"Exact\" },\n",
        "    { \"field\" : \"state\", \"type\" : \"Exact\" },\n",
        "    { \"field\" : \"date_of_birth\", \"type\" : \"DateTime\" },\n",
        "    { \"field\" : \"soc_sec_id\", \"type\" : \"Exact\" },\n",
        "]\n",
        "\n",
        "linker2 = dedupe.RecordLink(fields)\n",
        "\n",
        "with open(TRAINING_FILE, \"r\") as fh:\n",
        "    linker2.prepare_training(records_A, records_B, training_file=fh)"
      ],
      "execution_count": 27,
      "outputs": [
        {
          "output_type": "stream",
          "name": "stderr",
          "text": [
            "INFO:dedupe.api:reading training from file\n",
            "INFO:dedupe.training:Final predicate set:\n",
            "INFO:dedupe.training:SimplePredicate: (wholeFieldPredicate, date_of_birth)\n",
            "INFO:dedupe.training:Final predicate set:\n",
            "INFO:dedupe.training:SimplePredicate: (wholeFieldPredicate, postcode)\n"
          ]
        },
        {
          "output_type": "stream",
          "name": "stdout",
          "text": [
            "CPU times: user 41 s, sys: 799 ms, total: 41.8 s\n",
            "Wall time: 41.2 s\n"
          ]
        }
      ]
    },
    {
      "cell_type": "markdown",
      "metadata": {
        "id": "NrRl0F589tVL"
      },
      "source": [
        "Now, we can kick off a second active learning/labeling session."
      ]
    },
    {
      "cell_type": "code",
      "metadata": {
        "id": "oo4Frecr9tVM",
        "colab": {
          "base_uri": "https://localhost:8080/"
        },
        "outputId": "3037b840-3b2a-4c7a-cbe3-3c46a750b17b"
      },
      "source": [
        "dedupe.console_label(linker2)"
      ],
      "execution_count": 28,
      "outputs": [
        {
          "output_type": "stream",
          "name": "stderr",
          "text": [
            "first_name : sophie\n",
            "surname : nan\n",
            "suburb : wahroonga\n",
            "postcode : 3189\n",
            "state : nsw\n",
            "date_of_birth : 07/08/31\n",
            "soc_sec_id : 7381703\n",
            "\n",
            "first_name : sophie\n",
            "surname : nan\n",
            "suburb : wahroonga\n",
            "postcode : 3198\n",
            "state : nsw\n",
            "date_of_birth : 07/08/31\n",
            "soc_sec_id : 7381703\n",
            "\n",
            "12/10 positive, 4/10 negative\n",
            "Do these records refer to the same thing?\n",
            "(y)es / (n)o / (u)nsure / (f)inished\n"
          ]
        },
        {
          "name": "stdout",
          "output_type": "stream",
          "text": [
            " y\n"
          ]
        },
        {
          "output_type": "stream",
          "name": "stderr",
          "text": [
            "(y)es / (n)o / (u)nsure / (f)inished\n"
          ]
        },
        {
          "name": "stdout",
          "output_type": "stream",
          "text": [
            "y\n"
          ]
        },
        {
          "output_type": "stream",
          "name": "stderr",
          "text": [
            "first_name : breana\n",
            "surname : wilson-haffenden\n",
            "suburb : warnbro\n",
            "postcode : 2303\n",
            "state : vic\n",
            "date_of_birth : 10/26/35\n",
            "soc_sec_id : 6126870\n",
            "\n",
            "first_name : breana\n",
            "surname : wilson-haffenden\n",
            "suburb : warnbro\n",
            "postcode : 2013\n",
            "state : vic\n",
            "date_of_birth : 10/26/35\n",
            "soc_sec_id : 6126870\n",
            "\n",
            "13/10 positive, 4/10 negative\n",
            "Do these records refer to the same thing?\n",
            "(y)es / (n)o / (u)nsure / (f)inished / (p)revious\n"
          ]
        },
        {
          "name": "stdout",
          "output_type": "stream",
          "text": [
            "y\n"
          ]
        },
        {
          "output_type": "stream",
          "name": "stderr",
          "text": [
            "INFO:dedupe.training:Final predicate set:\n",
            "INFO:dedupe.training:SimplePredicate: (wholeFieldPredicate, postcode)\n",
            "INFO:dedupe.training:SimplePredicate: (wholeFieldPredicate, date_of_birth)\n",
            "first_name : chelsea\n",
            "surname : stanley\n",
            "suburb : kingaroy\n",
            "postcode : 5008\n",
            "state : vic\n",
            "date_of_birth : 06/04/80\n",
            "soc_sec_id : 4846538\n",
            "\n",
            "first_name : chelsea\n",
            "surname : stanley\n",
            "suburb : kingaroy\n",
            "postcode : 5080\n",
            "state : vic\n",
            "date_of_birth : None\n",
            "soc_sec_id : 4840348\n",
            "\n",
            "14/10 positive, 4/10 negative\n",
            "Do these records refer to the same thing?\n",
            "(y)es / (n)o / (u)nsure / (f)inished / (p)revious\n"
          ]
        },
        {
          "name": "stdout",
          "output_type": "stream",
          "text": [
            "y\n"
          ]
        },
        {
          "output_type": "stream",
          "name": "stderr",
          "text": [
            "first_name : joshua\n",
            "surname : stanley\n",
            "suburb : hastings\n",
            "postcode : 4171\n",
            "state : nsw\n",
            "date_of_birth : None\n",
            "soc_sec_id : 8326533\n",
            "\n",
            "first_name : joshua\n",
            "surname : stanley\n",
            "suburb : hastings\n",
            "postcode : 4129\n",
            "state : nsw\n",
            "date_of_birth : None\n",
            "soc_sec_id : 8326533\n",
            "\n",
            "15/10 positive, 4/10 negative\n",
            "Do these records refer to the same thing?\n",
            "(y)es / (n)o / (u)nsure / (f)inished / (p)revious\n"
          ]
        },
        {
          "name": "stdout",
          "output_type": "stream",
          "text": [
            "y\n"
          ]
        },
        {
          "output_type": "stream",
          "name": "stderr",
          "text": [
            "INFO:dedupe.training:Final predicate set:\n",
            "INFO:dedupe.training:SimplePredicate: (wholeFieldPredicate, postcode)\n",
            "INFO:dedupe.training:SimplePredicate: (wholeFieldPredicate, suburb)\n",
            "first_name : chloe\n",
            "surname : goess\n",
            "suburb : ballarat\n",
            "postcode : 2315\n",
            "state : vic\n",
            "date_of_birth : 10/01/27\n",
            "soc_sec_id : 4357749\n",
            "\n",
            "first_name : chloe\n",
            "surname : goess\n",
            "suburb : ballarst\n",
            "postcode : 2316\n",
            "state : vic\n",
            "date_of_birth : 10/01/27\n",
            "soc_sec_id : 4357749\n",
            "\n",
            "16/10 positive, 4/10 negative\n",
            "Do these records refer to the same thing?\n",
            "(y)es / (n)o / (u)nsure / (f)inished / (p)revious\n"
          ]
        },
        {
          "name": "stdout",
          "output_type": "stream",
          "text": [
            "f\n"
          ]
        },
        {
          "output_type": "stream",
          "name": "stderr",
          "text": [
            "Finished labeling\n"
          ]
        }
      ]
    },
    {
      "cell_type": "markdown",
      "metadata": {
        "id": "g3av7qkk9tVM"
      },
      "source": [
        "### Retrain the Linker and Examine Blocking Performance"
      ]
    },
    {
      "cell_type": "markdown",
      "metadata": {
        "id": "Ik4KYjvU9tVM"
      },
      "source": [
        "Now, let's retrain, and examine blocker performance. Ideally, we see an improved true link retention following our second labeling session."
      ]
    },
    {
      "cell_type": "code",
      "metadata": {
        "id": "oWbsCKWr9tVM",
        "colab": {
          "base_uri": "https://localhost:8080/"
        },
        "outputId": "ed011c56-710c-4ef8-fe04-8ada3d7b0837"
      },
      "source": [
        "%%time\n",
        "linker2.train()"
      ],
      "execution_count": 29,
      "outputs": [
        {
          "output_type": "stream",
          "name": "stderr",
          "text": [
            "INFO:rlr.crossvalidation:using cross validation to find optimum alpha...\n",
            "/usr/local/lib/python3.7/dist-packages/rlr/crossvalidation.py:122: RuntimeWarning: invalid value encountered in double_scalars\n",
            "  * (true_distinct + false_distinct)))\n",
            "INFO:rlr.crossvalidation:optimum alpha: 0.000100, score 0.3868986130697193\n",
            "INFO:dedupe.training:Final predicate set:\n",
            "INFO:dedupe.training:(SimplePredicate: (sameFiveCharStartPredicate, suburb), SimplePredicate: (metaphoneToken, first_name), SimplePredicate: (yearPredicate, date_of_birth))\n",
            "INFO:dedupe.training:(SimplePredicate: (commonSixGram, surname), SimplePredicate: (commonSixGram, first_name), PartialIndexLevenshteinSearchPredicate: (4, surname, Surname))\n",
            "INFO:dedupe.training:(SimplePredicate: (commonTwoTokens, surname), LevenshteinSearchPredicate: (4, suburb))\n",
            "INFO:dedupe.training:(PartialPredicate: (sameThreeCharStartPredicate, surname, CorporationName), SimplePredicate: (monthPredicate, date_of_birth), SimplePredicate: (sameSevenCharStartPredicate, first_name))\n"
          ]
        },
        {
          "output_type": "stream",
          "name": "stdout",
          "text": [
            "CPU times: user 5.92 s, sys: 563 ms, total: 6.48 s\n",
            "Wall time: 6.1 s\n"
          ]
        }
      ]
    },
    {
      "cell_type": "code",
      "metadata": {
        "id": "P5EBEmWQ9tVM",
        "colab": {
          "base_uri": "https://localhost:8080/"
        },
        "outputId": "2e739db2-3bda-494d-a466-a467a01f3bef"
      },
      "source": [
        "candidate_pairs = [x for x in linker2.pairs(records_A, records_B)]\n",
        "print(f\"{len(candidate_pairs):,} candidate pairs generated from blocking.\")\n",
        "\n",
        "df_candidate_links = pd.DataFrame(\n",
        "    [(x[0][0], x[1][0]) for x in candidate_pairs]\n",
        ").rename(columns={0 : \"person_id_A\", 1 : \"person_id_B\"}).set_index([\"person_id_A\", \"person_id_B\"])\n",
        "\n",
        "max_candidate_pairs = df_A.shape[0]*df_B.shape[0]\n",
        "\n",
        "print(f\"{max_candidate_pairs:,} total possible pairs.\")\n",
        "\n",
        "# Calculate search space reduction.\n",
        "search_space_reduction = round(1 - len(candidate_pairs)/max_candidate_pairs, 6)\n",
        "print(f\"\\n{len(candidate_pairs):,} pairs after full blocking: {search_space_reduction}% search space reduction.\")\n",
        "\n",
        "# Calculate retained true links percentage.\n",
        "total_true_links = df_ground_truth.shape[0]\n",
        "true_links_after_blocking = pd.merge(\n",
        "    df_ground_truth,\n",
        "    df_candidate_links,\n",
        "    left_index=True,\n",
        "    right_index=True,\n",
        "    how=\"inner\"\n",
        ").shape[0]\n",
        "\n",
        "retained_true_link_percent = round((true_links_after_blocking/total_true_links) * 100, 2)\n",
        "print(f\"{retained_true_link_percent}% true links retained after blocking.\")"
      ],
      "execution_count": 30,
      "outputs": [
        {
          "output_type": "stream",
          "name": "stdout",
          "text": [
            "1,394 candidate pairs generated from blocking.\n",
            "10,562,500 total possible pairs.\n",
            "\n",
            "1,394 pairs after full blocking: 0.999868% search space reduction.\n",
            "45.67% true links retained after blocking.\n"
          ]
        }
      ]
    },
    {
      "cell_type": "markdown",
      "metadata": {
        "id": "gZX756BT9tVN"
      },
      "source": [
        "### Evaluate Classification Performance"
      ]
    },
    {
      "cell_type": "code",
      "metadata": {
        "id": "-CJoOKk19tVN",
        "colab": {
          "base_uri": "https://localhost:8080/"
        },
        "outputId": "90170181-aabe-4fa2-fe03-3ae666b90f22"
      },
      "source": [
        "%%time\n",
        "linked_records = linker2.join(records_A, records_B, threshold=0.0, constraint=\"one-to-one\")"
      ],
      "execution_count": 31,
      "outputs": [
        {
          "output_type": "stream",
          "name": "stdout",
          "text": [
            "CPU times: user 7.59 s, sys: 234 ms, total: 7.83 s\n",
            "Wall time: 9.08 s\n"
          ]
        }
      ]
    },
    {
      "cell_type": "code",
      "metadata": {
        "id": "vqHQgG6X9tVO",
        "colab": {
          "base_uri": "https://localhost:8080/",
          "height": 455
        },
        "outputId": "dbb779ba-acec-4044-ede3-8eb40b113d54"
      },
      "source": [
        "df_predictions = pd.DataFrame(\n",
        "    [ {\"person_id_A\" : x[0][0], \"person_id_B\" : x[0][1], \"model_score\" : x[1]} for x in linked_records]\n",
        ")\n",
        "\n",
        "df_predictions = df_predictions.set_index([\"person_id_A\", \"person_id_B\"])\n",
        "\n",
        "df_predictions = pd.merge(\n",
        "    df_predictions,\n",
        "    df_ground_truth,\n",
        "    left_index=True,\n",
        "    right_index=True,\n",
        "    how=\"left\",\n",
        ")\n",
        "\n",
        "df_predictions[\"ground_truth\"].fillna(False, inplace=True)\n",
        "df_predictions"
      ],
      "execution_count": 32,
      "outputs": [
        {
          "output_type": "execute_result",
          "data": {
            "text/html": [
              "<div>\n",
              "<style scoped>\n",
              "    .dataframe tbody tr th:only-of-type {\n",
              "        vertical-align: middle;\n",
              "    }\n",
              "\n",
              "    .dataframe tbody tr th {\n",
              "        vertical-align: top;\n",
              "    }\n",
              "\n",
              "    .dataframe thead th {\n",
              "        text-align: right;\n",
              "    }\n",
              "</style>\n",
              "<table border=\"1\" class=\"dataframe\">\n",
              "  <thead>\n",
              "    <tr style=\"text-align: right;\">\n",
              "      <th></th>\n",
              "      <th></th>\n",
              "      <th>model_score</th>\n",
              "      <th>ground_truth</th>\n",
              "    </tr>\n",
              "    <tr>\n",
              "      <th>person_id_A</th>\n",
              "      <th>person_id_B</th>\n",
              "      <th></th>\n",
              "      <th></th>\n",
              "    </tr>\n",
              "  </thead>\n",
              "  <tbody>\n",
              "    <tr>\n",
              "      <th>fff044ab-8dca-4946-bfa4-1675ee7d56b5</th>\n",
              "      <th>99060a0c-e1bf-4869-bf08-2e15389193b6</th>\n",
              "      <td>1.000000</td>\n",
              "      <td>True</td>\n",
              "    </tr>\n",
              "    <tr>\n",
              "      <th>fcb0aaf9-24b0-4831-9086-2c2449d75b3b</th>\n",
              "      <th>548bdbbb-2528-4705-8b2e-76e99d3def77</th>\n",
              "      <td>1.000000</td>\n",
              "      <td>True</td>\n",
              "    </tr>\n",
              "    <tr>\n",
              "      <th>ef309234-8a00-44b1-b557-edab66f06d6b</th>\n",
              "      <th>aea39e9c-be88-401a-9547-ec3fa9435dba</th>\n",
              "      <td>1.000000</td>\n",
              "      <td>True</td>\n",
              "    </tr>\n",
              "    <tr>\n",
              "      <th>eb2933fc-4fec-4f00-8a6b-b7f6c8152086</th>\n",
              "      <th>d19b7654-1f80-4527-b73c-56e6232e69cb</th>\n",
              "      <td>1.000000</td>\n",
              "      <td>True</td>\n",
              "    </tr>\n",
              "    <tr>\n",
              "      <th>e4d6ec3f-5182-47c5-ad5f-05144b736e02</th>\n",
              "      <th>cef12e2c-57c1-4b6b-9103-faee51892589</th>\n",
              "      <td>1.000000</td>\n",
              "      <td>True</td>\n",
              "    </tr>\n",
              "    <tr>\n",
              "      <th>...</th>\n",
              "      <th>...</th>\n",
              "      <td>...</td>\n",
              "      <td>...</td>\n",
              "    </tr>\n",
              "    <tr>\n",
              "      <th>d596b917-7f8f-4c6b-b8b2-326a71c46ad4</th>\n",
              "      <th>83b083d5-928c-4524-b198-67d426546b5e</th>\n",
              "      <td>0.139982</td>\n",
              "      <td>True</td>\n",
              "    </tr>\n",
              "    <tr>\n",
              "      <th>62393125-2205-4842-a165-e4f924c0fcd1</th>\n",
              "      <th>6146bafc-5745-4355-a562-161e8e7cf5b3</th>\n",
              "      <td>0.057441</td>\n",
              "      <td>True</td>\n",
              "    </tr>\n",
              "    <tr>\n",
              "      <th>d3910de0-bf8b-49dc-9835-9e5ed936548e</th>\n",
              "      <th>cd1066e8-0fdd-4d90-873e-e237e79cdb96</th>\n",
              "      <td>0.050284</td>\n",
              "      <td>True</td>\n",
              "    </tr>\n",
              "    <tr>\n",
              "      <th>5f6363c3-56e5-467d-aafe-516a6a6238f2</th>\n",
              "      <th>f5c23104-6c17-4796-8b2e-0d0a249d5fa6</th>\n",
              "      <td>0.045375</td>\n",
              "      <td>True</td>\n",
              "    </tr>\n",
              "    <tr>\n",
              "      <th>fc8bd23d-afdf-4a67-81d8-31fafe560c76</th>\n",
              "      <th>241eb6d8-c988-4838-96e3-1fff5e778bd4</th>\n",
              "      <td>0.023046</td>\n",
              "      <td>True</td>\n",
              "    </tr>\n",
              "  </tbody>\n",
              "</table>\n",
              "<p>1372 rows × 2 columns</p>\n",
              "</div>"
            ],
            "text/plain": [
              "                                                                           model_score  ground_truth\n",
              "person_id_A                          person_id_B                                                    \n",
              "fff044ab-8dca-4946-bfa4-1675ee7d56b5 99060a0c-e1bf-4869-bf08-2e15389193b6     1.000000          True\n",
              "fcb0aaf9-24b0-4831-9086-2c2449d75b3b 548bdbbb-2528-4705-8b2e-76e99d3def77     1.000000          True\n",
              "ef309234-8a00-44b1-b557-edab66f06d6b aea39e9c-be88-401a-9547-ec3fa9435dba     1.000000          True\n",
              "eb2933fc-4fec-4f00-8a6b-b7f6c8152086 d19b7654-1f80-4527-b73c-56e6232e69cb     1.000000          True\n",
              "e4d6ec3f-5182-47c5-ad5f-05144b736e02 cef12e2c-57c1-4b6b-9103-faee51892589     1.000000          True\n",
              "...                                                                                ...           ...\n",
              "d596b917-7f8f-4c6b-b8b2-326a71c46ad4 83b083d5-928c-4524-b198-67d426546b5e     0.139982          True\n",
              "62393125-2205-4842-a165-e4f924c0fcd1 6146bafc-5745-4355-a562-161e8e7cf5b3     0.057441          True\n",
              "d3910de0-bf8b-49dc-9835-9e5ed936548e cd1066e8-0fdd-4d90-873e-e237e79cdb96     0.050284          True\n",
              "5f6363c3-56e5-467d-aafe-516a6a6238f2 f5c23104-6c17-4796-8b2e-0d0a249d5fa6     0.045375          True\n",
              "fc8bd23d-afdf-4a67-81d8-31fafe560c76 241eb6d8-c988-4838-96e3-1fff5e778bd4     0.023046          True\n",
              "\n",
              "[1372 rows x 2 columns]"
            ]
          },
          "metadata": {},
          "execution_count": 32
        }
      ]
    },
    {
      "cell_type": "code",
      "metadata": {
        "id": "fn0F6_eE9tVO",
        "colab": {
          "base_uri": "https://localhost:8080/"
        },
        "outputId": "94c343dd-cbe3-4f70-a9ce-0eb6806b5247"
      },
      "source": [
        "df_predictions[\"ground_truth\"].value_counts()"
      ],
      "execution_count": 33,
      "outputs": [
        {
          "output_type": "execute_result",
          "data": {
            "text/plain": [
              "True     1369\n",
              "False       3\n",
              "Name: ground_truth, dtype: int64"
            ]
          },
          "metadata": {},
          "execution_count": 33
        }
      ]
    },
    {
      "cell_type": "code",
      "metadata": {
        "id": "cuJ1XYdl9tVP",
        "colab": {
          "base_uri": "https://localhost:8080/",
          "height": 485
        },
        "outputId": "b8aa5705-17ee-493f-f86c-81bb5a5b00d7"
      },
      "source": [
        "tutorial.plot_model_score_distribution(df_predictions)"
      ],
      "execution_count": 34,
      "outputs": [
        {
          "output_type": "execute_result",
          "data": {
            "text/plain": [
              "alt.Chart(...)"
            ],
            "text/html": [
              "\n",
              "<div id=\"altair-viz-9ec6324d23ce4b76ab53a30431b19b68\"></div>\n",
              "<script type=\"text/javascript\">\n",
              "  (function(spec, embedOpt){\n",
              "    let outputDiv = document.currentScript.previousElementSibling;\n",
              "    if (outputDiv.id !== \"altair-viz-9ec6324d23ce4b76ab53a30431b19b68\") {\n",
              "      outputDiv = document.getElementById(\"altair-viz-9ec6324d23ce4b76ab53a30431b19b68\");\n",
              "    }\n",
              "    const paths = {\n",
              "      \"vega\": \"https://cdn.jsdelivr.net/npm//vega@5?noext\",\n",
              "      \"vega-lib\": \"https://cdn.jsdelivr.net/npm//vega-lib?noext\",\n",
              "      \"vega-lite\": \"https://cdn.jsdelivr.net/npm//vega-lite@4.8.1?noext\",\n",
              "      \"vega-embed\": \"https://cdn.jsdelivr.net/npm//vega-embed@6?noext\",\n",
              "    };\n",
              "\n",
              "    function loadScript(lib) {\n",
              "      return new Promise(function(resolve, reject) {\n",
              "        var s = document.createElement('script');\n",
              "        s.src = paths[lib];\n",
              "        s.async = true;\n",
              "        s.onload = () => resolve(paths[lib]);\n",
              "        s.onerror = () => reject(`Error loading script: ${paths[lib]}`);\n",
              "        document.getElementsByTagName(\"head\")[0].appendChild(s);\n",
              "      });\n",
              "    }\n",
              "\n",
              "    function showError(err) {\n",
              "      outputDiv.innerHTML = `<div class=\"error\" style=\"color:red;\">${err}</div>`;\n",
              "      throw err;\n",
              "    }\n",
              "\n",
              "    function displayChart(vegaEmbed) {\n",
              "      vegaEmbed(outputDiv, spec, embedOpt)\n",
              "        .catch(err => showError(`Javascript Error: ${err.message}<br>This usually means there's a typo in your chart specification. See the javascript console for the full traceback.`));\n",
              "    }\n",
              "\n",
              "    if(typeof define === \"function\" && define.amd) {\n",
              "      requirejs.config({paths});\n",
              "      require([\"vega-embed\"], displayChart, err => showError(`Error loading script: ${err.message}`));\n",
              "    } else if (typeof vegaEmbed === \"function\") {\n",
              "      displayChart(vegaEmbed);\n",
              "    } else {\n",
              "      loadScript(\"vega\")\n",
              "        .then(() => loadScript(\"vega-lite\"))\n",
              "        .then(() => loadScript(\"vega-embed\"))\n",
              "        .catch(showError)\n",
              "        .then(() => displayChart(vegaEmbed));\n",
              "    }\n",
              "  })({\"config\": {\"view\": {\"continuousWidth\": 400, \"continuousHeight\": 300}}, \"data\": {\"name\": \"data-6ec38ea92d0d712a6932d609f131d07a\"}, \"mark\": {\"type\": \"bar\", \"binSpacing\": 0, \"opacity\": 0.7}, \"encoding\": {\"color\": {\"type\": \"nominal\", \"field\": \"ground_truth\", \"legend\": {\"title\": \"Ground Truth Label\"}, \"scale\": {\"domain\": [\"True Link\", \"Not a Link\"], \"scheme\": \"tableau10\"}}, \"opacity\": {\"condition\": {\"value\": 0.7, \"selection\": \"selector005\"}, \"value\": 0.2}, \"tooltip\": [{\"type\": \"quantitative\", \"field\": \"model_score\", \"title\": \"Model Score\"}, {\"type\": \"nominal\", \"field\": \"ground_truth\", \"title\": \"Ground Truth\"}, {\"type\": \"quantitative\", \"field\": \"count\", \"title\": \"Count of Links\"}], \"x\": {\"type\": \"quantitative\", \"axis\": {\"tickCount\": 5, \"title\": \"Model Score (Binned)\"}, \"bin\": {\"extent\": [0, 1], \"step\": 0.01}, \"field\": \"model_score\"}, \"y\": {\"type\": \"quantitative\", \"axis\": {\"title\": \"Count of Links\"}, \"field\": \"count\", \"stack\": null}}, \"height\": 400, \"selection\": {\"selector005\": {\"type\": \"multi\", \"fields\": [\"ground_truth\"], \"bind\": \"legend\"}, \"selector006\": {\"type\": \"interval\", \"bind\": \"scales\", \"encodings\": [\"x\", \"y\"]}}, \"title\": \"Model Score Distribution\", \"width\": 800, \"$schema\": \"https://vega.github.io/schema/vega-lite/v4.8.1.json\", \"datasets\": {\"data-6ec38ea92d0d712a6932d609f131d07a\": [{\"model_score\": 0.02, \"ground_truth\": \"True Link\", \"count\": 1}, {\"model_score\": 0.05, \"ground_truth\": \"True Link\", \"count\": 2}, {\"model_score\": 0.06, \"ground_truth\": \"True Link\", \"count\": 1}, {\"model_score\": 0.14, \"ground_truth\": \"True Link\", \"count\": 1}, {\"model_score\": 0.21, \"ground_truth\": \"True Link\", \"count\": 1}, {\"model_score\": 0.23, \"ground_truth\": \"True Link\", \"count\": 1}, {\"model_score\": 0.33, \"ground_truth\": \"True Link\", \"count\": 1}, {\"model_score\": 0.41, \"ground_truth\": \"Not a Link\", \"count\": 1}, {\"model_score\": 0.42, \"ground_truth\": \"True Link\", \"count\": 1}, {\"model_score\": 0.56, \"ground_truth\": \"True Link\", \"count\": 2}, {\"model_score\": 0.63, \"ground_truth\": \"True Link\", \"count\": 3}, {\"model_score\": 0.66, \"ground_truth\": \"True Link\", \"count\": 2}, {\"model_score\": 0.69, \"ground_truth\": \"True Link\", \"count\": 5}, {\"model_score\": 0.7, \"ground_truth\": \"True Link\", \"count\": 1}, {\"model_score\": 0.73, \"ground_truth\": \"True Link\", \"count\": 1}, {\"model_score\": 0.74, \"ground_truth\": \"True Link\", \"count\": 1}, {\"model_score\": 0.77, \"ground_truth\": \"True Link\", \"count\": 1}, {\"model_score\": 0.78, \"ground_truth\": \"True Link\", \"count\": 2}, {\"model_score\": 0.8, \"ground_truth\": \"True Link\", \"count\": 1}, {\"model_score\": 0.83, \"ground_truth\": \"True Link\", \"count\": 1}, {\"model_score\": 0.88, \"ground_truth\": \"True Link\", \"count\": 1}, {\"model_score\": 0.89, \"ground_truth\": \"True Link\", \"count\": 2}, {\"model_score\": 0.92, \"ground_truth\": \"True Link\", \"count\": 3}, {\"model_score\": 0.93, \"ground_truth\": \"True Link\", \"count\": 4}, {\"model_score\": 0.94, \"ground_truth\": \"True Link\", \"count\": 6}, {\"model_score\": 0.95, \"ground_truth\": \"True Link\", \"count\": 6}, {\"model_score\": 0.96, \"ground_truth\": \"True Link\", \"count\": 7}, {\"model_score\": 0.97, \"ground_truth\": \"True Link\", \"count\": 11}, {\"model_score\": 0.98, \"ground_truth\": \"True Link\", \"count\": 18}, {\"model_score\": 0.99, \"ground_truth\": \"True Link\", \"count\": 55}, {\"model_score\": 1.0, \"ground_truth\": \"Not a Link\", \"count\": 2}, {\"model_score\": 1.0, \"ground_truth\": \"True Link\", \"count\": 1227}]}}, {\"mode\": \"vega-lite\"});\n",
              "</script>"
            ]
          },
          "metadata": {},
          "execution_count": 34
        }
      ]
    },
    {
      "cell_type": "code",
      "metadata": {
        "id": "AvMiSw_q9tVQ",
        "colab": {
          "base_uri": "https://localhost:8080/",
          "height": 485
        },
        "outputId": "5f6a4808-3111-4449-a951-c3451c620c8a"
      },
      "source": [
        "df_eval = tutorial.evaluate_linking(\n",
        "    df=df_predictions\n",
        ")\n",
        "\n",
        "tutorial.plot_precision_recall_vs_threshold(df_eval)"
      ],
      "execution_count": 35,
      "outputs": [
        {
          "output_type": "execute_result",
          "data": {
            "text/plain": [
              "alt.LayerChart(...)"
            ],
            "text/html": [
              "\n",
              "<div id=\"altair-viz-4c357970182447dd97a3b2b730395870\"></div>\n",
              "<script type=\"text/javascript\">\n",
              "  (function(spec, embedOpt){\n",
              "    let outputDiv = document.currentScript.previousElementSibling;\n",
              "    if (outputDiv.id !== \"altair-viz-4c357970182447dd97a3b2b730395870\") {\n",
              "      outputDiv = document.getElementById(\"altair-viz-4c357970182447dd97a3b2b730395870\");\n",
              "    }\n",
              "    const paths = {\n",
              "      \"vega\": \"https://cdn.jsdelivr.net/npm//vega@5?noext\",\n",
              "      \"vega-lib\": \"https://cdn.jsdelivr.net/npm//vega-lib?noext\",\n",
              "      \"vega-lite\": \"https://cdn.jsdelivr.net/npm//vega-lite@4.8.1?noext\",\n",
              "      \"vega-embed\": \"https://cdn.jsdelivr.net/npm//vega-embed@6?noext\",\n",
              "    };\n",
              "\n",
              "    function loadScript(lib) {\n",
              "      return new Promise(function(resolve, reject) {\n",
              "        var s = document.createElement('script');\n",
              "        s.src = paths[lib];\n",
              "        s.async = true;\n",
              "        s.onload = () => resolve(paths[lib]);\n",
              "        s.onerror = () => reject(`Error loading script: ${paths[lib]}`);\n",
              "        document.getElementsByTagName(\"head\")[0].appendChild(s);\n",
              "      });\n",
              "    }\n",
              "\n",
              "    function showError(err) {\n",
              "      outputDiv.innerHTML = `<div class=\"error\" style=\"color:red;\">${err}</div>`;\n",
              "      throw err;\n",
              "    }\n",
              "\n",
              "    function displayChart(vegaEmbed) {\n",
              "      vegaEmbed(outputDiv, spec, embedOpt)\n",
              "        .catch(err => showError(`Javascript Error: ${err.message}<br>This usually means there's a typo in your chart specification. See the javascript console for the full traceback.`));\n",
              "    }\n",
              "\n",
              "    if(typeof define === \"function\" && define.amd) {\n",
              "      requirejs.config({paths});\n",
              "      require([\"vega-embed\"], displayChart, err => showError(`Error loading script: ${err.message}`));\n",
              "    } else if (typeof vegaEmbed === \"function\") {\n",
              "      displayChart(vegaEmbed);\n",
              "    } else {\n",
              "      loadScript(\"vega\")\n",
              "        .then(() => loadScript(\"vega-lite\"))\n",
              "        .then(() => loadScript(\"vega-embed\"))\n",
              "        .catch(showError)\n",
              "        .then(() => displayChart(vegaEmbed));\n",
              "    }\n",
              "  })({\"config\": {\"view\": {\"continuousWidth\": 400, \"continuousHeight\": 300}}, \"layer\": [{\"mark\": \"line\", \"encoding\": {\"color\": {\"type\": \"nominal\", \"field\": \"variable\", \"legend\": {\"title\": \"Variable\"}}, \"tooltip\": [{\"type\": \"nominal\", \"field\": \"variable\"}, {\"type\": \"quantitative\", \"field\": \"threshold\"}, {\"type\": \"quantitative\", \"field\": \"value\"}], \"x\": {\"type\": \"quantitative\", \"axis\": {\"title\": \"Model Threshold\"}, \"field\": \"threshold\"}, \"y\": {\"type\": \"quantitative\", \"axis\": {\"title\": \"Precision/Recall Value\"}, \"field\": \"value\", \"scale\": {\"domain\": [0, 1]}}}, \"selection\": {\"selector008\": {\"type\": \"interval\", \"bind\": \"scales\", \"encodings\": [\"x\", \"y\"]}}, \"title\": \"Precision and Recall v.s. Model Threshold\"}, {\"mark\": \"point\", \"encoding\": {\"opacity\": {\"value\": 0}, \"x\": {\"type\": \"quantitative\", \"field\": \"threshold\"}}, \"selection\": {\"selector007\": {\"type\": \"single\", \"nearest\": true, \"on\": \"mouseover\", \"fields\": [\"threshold\"], \"empty\": \"none\"}}}, {\"mark\": \"point\", \"encoding\": {\"color\": {\"type\": \"nominal\", \"field\": \"variable\", \"legend\": {\"title\": \"Variable\"}}, \"opacity\": {\"condition\": {\"value\": 1, \"selection\": \"selector007\"}, \"value\": 0}, \"tooltip\": [{\"type\": \"nominal\", \"field\": \"variable\"}, {\"type\": \"quantitative\", \"field\": \"threshold\"}, {\"type\": \"quantitative\", \"field\": \"value\"}], \"x\": {\"type\": \"quantitative\", \"axis\": {\"title\": \"Model Threshold\"}, \"field\": \"threshold\"}, \"y\": {\"type\": \"quantitative\", \"axis\": {\"title\": \"Precision/Recall Value\"}, \"field\": \"value\", \"scale\": {\"domain\": [0, 1]}}}, \"title\": \"Precision and Recall v.s. Model Threshold\"}, {\"mark\": {\"type\": \"rule\", \"color\": \"gray\"}, \"encoding\": {\"x\": {\"type\": \"quantitative\", \"field\": \"threshold\"}}, \"transform\": [{\"filter\": {\"selection\": \"selector007\"}}]}, {\"mark\": {\"type\": \"text\", \"align\": \"right\", \"dx\": -10, \"dy\": -5, \"fontWeight\": 300, \"lineBreak\": \"\\n\"}, \"encoding\": {\"color\": {\"type\": \"nominal\", \"field\": \"variable\", \"legend\": {\"title\": \"Variable\"}}, \"text\": {\"condition\": {\"type\": \"nominal\", \"field\": \"label\", \"selection\": \"selector007\"}, \"value\": \" \"}, \"tooltip\": [{\"type\": \"nominal\", \"field\": \"variable\"}, {\"type\": \"quantitative\", \"field\": \"threshold\"}, {\"type\": \"quantitative\", \"field\": \"value\"}], \"x\": {\"type\": \"quantitative\", \"axis\": {\"title\": \"Model Threshold\"}, \"field\": \"threshold\"}, \"y\": {\"type\": \"quantitative\", \"axis\": {\"title\": \"Precision/Recall Value\"}, \"field\": \"value\", \"scale\": {\"domain\": [0, 1]}}}, \"title\": \"Precision and Recall v.s. Model Threshold\"}], \"data\": {\"name\": \"data-f797c3cb4352c8c3dfbfd3911d00d8ed\"}, \"height\": 400, \"width\": 800, \"$schema\": \"https://vega.github.io/schema/vega-lite/v4.8.1.json\", \"datasets\": {\"data-f797c3cb4352c8c3dfbfd3911d00d8ed\": [{\"threshold\": 0.0, \"label\": \"threshold: 0.0\\nprecision: 0.998\\nrecall: 1.0\", \"variable\": \"recall\", \"value\": 1.0}, {\"threshold\": 0.02040816326530612, \"label\": \"threshold: 0.02\\nprecision: 0.998\\nrecall: 1.0\", \"variable\": \"recall\", \"value\": 1.0}, {\"threshold\": 0.04081632653061224, \"label\": \"threshold: 0.041\\nprecision: 0.998\\nrecall: 0.999\", \"variable\": \"recall\", \"value\": 0.9992695398100804}, {\"threshold\": 0.061224489795918366, \"label\": \"threshold: 0.061\\nprecision: 0.998\\nrecall: 0.997\", \"variable\": \"recall\", \"value\": 0.9970781592403214}, {\"threshold\": 0.08163265306122448, \"label\": \"threshold: 0.082\\nprecision: 0.998\\nrecall: 0.997\", \"variable\": \"recall\", \"value\": 0.9970781592403214}, {\"threshold\": 0.1020408163265306, \"label\": \"threshold: 0.102\\nprecision: 0.998\\nrecall: 0.997\", \"variable\": \"recall\", \"value\": 0.9970781592403214}, {\"threshold\": 0.12244897959183673, \"label\": \"threshold: 0.122\\nprecision: 0.998\\nrecall: 0.997\", \"variable\": \"recall\", \"value\": 0.9970781592403214}, {\"threshold\": 0.14285714285714285, \"label\": \"threshold: 0.143\\nprecision: 0.998\\nrecall: 0.996\", \"variable\": \"recall\", \"value\": 0.9963476990504018}, {\"threshold\": 0.16326530612244897, \"label\": \"threshold: 0.163\\nprecision: 0.998\\nrecall: 0.996\", \"variable\": \"recall\", \"value\": 0.9963476990504018}, {\"threshold\": 0.18367346938775508, \"label\": \"threshold: 0.184\\nprecision: 0.998\\nrecall: 0.996\", \"variable\": \"recall\", \"value\": 0.9963476990504018}, {\"threshold\": 0.2040816326530612, \"label\": \"threshold: 0.204\\nprecision: 0.998\\nrecall: 0.996\", \"variable\": \"recall\", \"value\": 0.9963476990504018}, {\"threshold\": 0.22448979591836732, \"label\": \"threshold: 0.224\\nprecision: 0.998\\nrecall: 0.996\", \"variable\": \"recall\", \"value\": 0.9956172388604821}, {\"threshold\": 0.24489795918367346, \"label\": \"threshold: 0.245\\nprecision: 0.998\\nrecall: 0.995\", \"variable\": \"recall\", \"value\": 0.9948867786705624}, {\"threshold\": 0.26530612244897955, \"label\": \"threshold: 0.265\\nprecision: 0.998\\nrecall: 0.995\", \"variable\": \"recall\", \"value\": 0.9948867786705624}, {\"threshold\": 0.2857142857142857, \"label\": \"threshold: 0.286\\nprecision: 0.998\\nrecall: 0.995\", \"variable\": \"recall\", \"value\": 0.9948867786705624}, {\"threshold\": 0.3061224489795918, \"label\": \"threshold: 0.306\\nprecision: 0.998\\nrecall: 0.995\", \"variable\": \"recall\", \"value\": 0.9948867786705624}, {\"threshold\": 0.32653061224489793, \"label\": \"threshold: 0.327\\nprecision: 0.998\\nrecall: 0.995\", \"variable\": \"recall\", \"value\": 0.9948867786705624}, {\"threshold\": 0.3469387755102041, \"label\": \"threshold: 0.347\\nprecision: 0.998\\nrecall: 0.994\", \"variable\": \"recall\", \"value\": 0.9941563184806428}, {\"threshold\": 0.36734693877551017, \"label\": \"threshold: 0.367\\nprecision: 0.998\\nrecall: 0.994\", \"variable\": \"recall\", \"value\": 0.9941563184806428}, {\"threshold\": 0.3877551020408163, \"label\": \"threshold: 0.388\\nprecision: 0.998\\nrecall: 0.994\", \"variable\": \"recall\", \"value\": 0.9941563184806428}, {\"threshold\": 0.4081632653061224, \"label\": \"threshold: 0.408\\nprecision: 0.999\\nrecall: 0.994\", \"variable\": \"recall\", \"value\": 0.9941563184806428}, {\"threshold\": 0.42857142857142855, \"label\": \"threshold: 0.429\\nprecision: 0.999\\nrecall: 0.993\", \"variable\": \"recall\", \"value\": 0.9934258582907232}, {\"threshold\": 0.44897959183673464, \"label\": \"threshold: 0.449\\nprecision: 0.999\\nrecall: 0.993\", \"variable\": \"recall\", \"value\": 0.9934258582907232}, {\"threshold\": 0.4693877551020408, \"label\": \"threshold: 0.469\\nprecision: 0.999\\nrecall: 0.993\", \"variable\": \"recall\", \"value\": 0.9934258582907232}, {\"threshold\": 0.4897959183673469, \"label\": \"threshold: 0.49\\nprecision: 0.999\\nrecall: 0.993\", \"variable\": \"recall\", \"value\": 0.9934258582907232}, {\"threshold\": 0.5102040816326531, \"label\": \"threshold: 0.51\\nprecision: 0.999\\nrecall: 0.993\", \"variable\": \"recall\", \"value\": 0.9934258582907232}, {\"threshold\": 0.5306122448979591, \"label\": \"threshold: 0.531\\nprecision: 0.999\\nrecall: 0.993\", \"variable\": \"recall\", \"value\": 0.9934258582907232}, {\"threshold\": 0.5510204081632653, \"label\": \"threshold: 0.551\\nprecision: 0.999\\nrecall: 0.993\", \"variable\": \"recall\", \"value\": 0.9934258582907232}, {\"threshold\": 0.5714285714285714, \"label\": \"threshold: 0.571\\nprecision: 0.999\\nrecall: 0.992\", \"variable\": \"recall\", \"value\": 0.9919649379108838}, {\"threshold\": 0.5918367346938775, \"label\": \"threshold: 0.592\\nprecision: 0.999\\nrecall: 0.992\", \"variable\": \"recall\", \"value\": 0.9919649379108838}, {\"threshold\": 0.6122448979591836, \"label\": \"threshold: 0.612\\nprecision: 0.999\\nrecall: 0.992\", \"variable\": \"recall\", \"value\": 0.9919649379108838}, {\"threshold\": 0.6326530612244897, \"label\": \"threshold: 0.633\\nprecision: 0.999\\nrecall: 0.99\", \"variable\": \"recall\", \"value\": 0.9897735573411249}, {\"threshold\": 0.6530612244897959, \"label\": \"threshold: 0.653\\nprecision: 0.999\\nrecall: 0.99\", \"variable\": \"recall\", \"value\": 0.9897735573411249}, {\"threshold\": 0.673469387755102, \"label\": \"threshold: 0.673\\nprecision: 0.999\\nrecall: 0.988\", \"variable\": \"recall\", \"value\": 0.9883126369612856}, {\"threshold\": 0.6938775510204082, \"label\": \"threshold: 0.694\\nprecision: 0.999\\nrecall: 0.985\", \"variable\": \"recall\", \"value\": 0.985390796201607}, {\"threshold\": 0.7142857142857142, \"label\": \"threshold: 0.714\\nprecision: 0.999\\nrecall: 0.984\", \"variable\": \"recall\", \"value\": 0.9839298758217677}, {\"threshold\": 0.7346938775510203, \"label\": \"threshold: 0.735\\nprecision: 0.999\\nrecall: 0.983\", \"variable\": \"recall\", \"value\": 0.9831994156318481}, {\"threshold\": 0.7551020408163265, \"label\": \"threshold: 0.755\\nprecision: 0.999\\nrecall: 0.982\", \"variable\": \"recall\", \"value\": 0.9824689554419284}, {\"threshold\": 0.7755102040816326, \"label\": \"threshold: 0.776\\nprecision: 0.999\\nrecall: 0.982\", \"variable\": \"recall\", \"value\": 0.9817384952520087}, {\"threshold\": 0.7959183673469387, \"label\": \"threshold: 0.796\\nprecision: 0.999\\nrecall: 0.98\", \"variable\": \"recall\", \"value\": 0.9802775748721695}, {\"threshold\": 0.8163265306122448, \"label\": \"threshold: 0.816\\nprecision: 0.999\\nrecall: 0.98\", \"variable\": \"recall\", \"value\": 0.9795471146822499}, {\"threshold\": 0.836734693877551, \"label\": \"threshold: 0.837\\nprecision: 0.999\\nrecall: 0.979\", \"variable\": \"recall\", \"value\": 0.9788166544923301}, {\"threshold\": 0.8571428571428571, \"label\": \"threshold: 0.857\\nprecision: 0.999\\nrecall: 0.979\", \"variable\": \"recall\", \"value\": 0.9788166544923301}, {\"threshold\": 0.8775510204081632, \"label\": \"threshold: 0.878\\nprecision: 0.999\\nrecall: 0.979\", \"variable\": \"recall\", \"value\": 0.9788166544923301}, {\"threshold\": 0.8979591836734693, \"label\": \"threshold: 0.898\\nprecision: 0.999\\nrecall: 0.977\", \"variable\": \"recall\", \"value\": 0.9766252739225713}, {\"threshold\": 0.9183673469387754, \"label\": \"threshold: 0.918\\nprecision: 0.999\\nrecall: 0.977\", \"variable\": \"recall\", \"value\": 0.9766252739225713}, {\"threshold\": 0.9387755102040816, \"label\": \"threshold: 0.939\\nprecision: 0.998\\nrecall: 0.969\", \"variable\": \"recall\", \"value\": 0.9693206720233747}, {\"threshold\": 0.9591836734693877, \"label\": \"threshold: 0.959\\nprecision: 0.998\\nrecall: 0.962\", \"variable\": \"recall\", \"value\": 0.9620160701241782}, {\"threshold\": 0.9795918367346939, \"label\": \"threshold: 0.98\\nprecision: 0.998\\nrecall: 0.944\", \"variable\": \"recall\", \"value\": 0.9444850255661067}, {\"threshold\": 1.0, \"label\": \"threshold: 1.0\\nprecision: 1.0\\nrecall: 0.045\", \"variable\": \"recall\", \"value\": 0.04455807158509861}, {\"threshold\": 0.0, \"label\": \"threshold: 0.0\\nprecision: 0.998\\nrecall: 1.0\", \"variable\": \"precision\", \"value\": 0.9978134110787172}, {\"threshold\": 0.02040816326530612, \"label\": \"threshold: 0.02\\nprecision: 0.998\\nrecall: 1.0\", \"variable\": \"precision\", \"value\": 0.9978134110787172}, {\"threshold\": 0.04081632653061224, \"label\": \"threshold: 0.041\\nprecision: 0.998\\nrecall: 0.999\", \"variable\": \"precision\", \"value\": 0.9978118161925602}, {\"threshold\": 0.061224489795918366, \"label\": \"threshold: 0.061\\nprecision: 0.998\\nrecall: 0.997\", \"variable\": \"precision\", \"value\": 0.9978070175438597}, {\"threshold\": 0.08163265306122448, \"label\": \"threshold: 0.082\\nprecision: 0.998\\nrecall: 0.997\", \"variable\": \"precision\", \"value\": 0.9978070175438597}, {\"threshold\": 0.1020408163265306, \"label\": \"threshold: 0.102\\nprecision: 0.998\\nrecall: 0.997\", \"variable\": \"precision\", \"value\": 0.9978070175438597}, {\"threshold\": 0.12244897959183673, \"label\": \"threshold: 0.122\\nprecision: 0.998\\nrecall: 0.997\", \"variable\": \"precision\", \"value\": 0.9978070175438597}, {\"threshold\": 0.14285714285714285, \"label\": \"threshold: 0.143\\nprecision: 0.998\\nrecall: 0.996\", \"variable\": \"precision\", \"value\": 0.9978054133138259}, {\"threshold\": 0.16326530612244897, \"label\": \"threshold: 0.163\\nprecision: 0.998\\nrecall: 0.996\", \"variable\": \"precision\", \"value\": 0.9978054133138259}, {\"threshold\": 0.18367346938775508, \"label\": \"threshold: 0.184\\nprecision: 0.998\\nrecall: 0.996\", \"variable\": \"precision\", \"value\": 0.9978054133138259}, {\"threshold\": 0.2040816326530612, \"label\": \"threshold: 0.204\\nprecision: 0.998\\nrecall: 0.996\", \"variable\": \"precision\", \"value\": 0.9978054133138259}, {\"threshold\": 0.22448979591836732, \"label\": \"threshold: 0.224\\nprecision: 0.998\\nrecall: 0.996\", \"variable\": \"precision\", \"value\": 0.9978038067349927}, {\"threshold\": 0.24489795918367346, \"label\": \"threshold: 0.245\\nprecision: 0.998\\nrecall: 0.995\", \"variable\": \"precision\", \"value\": 0.9978021978021978}, {\"threshold\": 0.26530612244897955, \"label\": \"threshold: 0.265\\nprecision: 0.998\\nrecall: 0.995\", \"variable\": \"precision\", \"value\": 0.9978021978021978}, {\"threshold\": 0.2857142857142857, \"label\": \"threshold: 0.286\\nprecision: 0.998\\nrecall: 0.995\", \"variable\": \"precision\", \"value\": 0.9978021978021978}, {\"threshold\": 0.3061224489795918, \"label\": \"threshold: 0.306\\nprecision: 0.998\\nrecall: 0.995\", \"variable\": \"precision\", \"value\": 0.9978021978021978}, {\"threshold\": 0.32653061224489793, \"label\": \"threshold: 0.327\\nprecision: 0.998\\nrecall: 0.995\", \"variable\": \"precision\", \"value\": 0.9978021978021978}, {\"threshold\": 0.3469387755102041, \"label\": \"threshold: 0.347\\nprecision: 0.998\\nrecall: 0.994\", \"variable\": \"precision\", \"value\": 0.9978005865102639}, {\"threshold\": 0.36734693877551017, \"label\": \"threshold: 0.367\\nprecision: 0.998\\nrecall: 0.994\", \"variable\": \"precision\", \"value\": 0.9978005865102639}, {\"threshold\": 0.3877551020408163, \"label\": \"threshold: 0.388\\nprecision: 0.998\\nrecall: 0.994\", \"variable\": \"precision\", \"value\": 0.9978005865102639}, {\"threshold\": 0.4081632653061224, \"label\": \"threshold: 0.408\\nprecision: 0.999\\nrecall: 0.994\", \"variable\": \"precision\", \"value\": 0.9985326485693323}, {\"threshold\": 0.42857142857142855, \"label\": \"threshold: 0.429\\nprecision: 0.999\\nrecall: 0.993\", \"variable\": \"precision\", \"value\": 0.9985315712187959}, {\"threshold\": 0.44897959183673464, \"label\": \"threshold: 0.449\\nprecision: 0.999\\nrecall: 0.993\", \"variable\": \"precision\", \"value\": 0.9985315712187959}, {\"threshold\": 0.4693877551020408, \"label\": \"threshold: 0.469\\nprecision: 0.999\\nrecall: 0.993\", \"variable\": \"precision\", \"value\": 0.9985315712187959}, {\"threshold\": 0.4897959183673469, \"label\": \"threshold: 0.49\\nprecision: 0.999\\nrecall: 0.993\", \"variable\": \"precision\", \"value\": 0.9985315712187959}, {\"threshold\": 0.5102040816326531, \"label\": \"threshold: 0.51\\nprecision: 0.999\\nrecall: 0.993\", \"variable\": \"precision\", \"value\": 0.9985315712187959}, {\"threshold\": 0.5306122448979591, \"label\": \"threshold: 0.531\\nprecision: 0.999\\nrecall: 0.993\", \"variable\": \"precision\", \"value\": 0.9985315712187959}, {\"threshold\": 0.5510204081632653, \"label\": \"threshold: 0.551\\nprecision: 0.999\\nrecall: 0.993\", \"variable\": \"precision\", \"value\": 0.9985315712187959}, {\"threshold\": 0.5714285714285714, \"label\": \"threshold: 0.571\\nprecision: 0.999\\nrecall: 0.992\", \"variable\": \"precision\", \"value\": 0.9985294117647059}, {\"threshold\": 0.5918367346938775, \"label\": \"threshold: 0.592\\nprecision: 0.999\\nrecall: 0.992\", \"variable\": \"precision\", \"value\": 0.9985294117647059}, {\"threshold\": 0.6122448979591836, \"label\": \"threshold: 0.612\\nprecision: 0.999\\nrecall: 0.992\", \"variable\": \"precision\", \"value\": 0.9985294117647059}, {\"threshold\": 0.6326530612244897, \"label\": \"threshold: 0.633\\nprecision: 0.999\\nrecall: 0.99\", \"variable\": \"precision\", \"value\": 0.9985261606484893}, {\"threshold\": 0.6530612244897959, \"label\": \"threshold: 0.653\\nprecision: 0.999\\nrecall: 0.99\", \"variable\": \"precision\", \"value\": 0.9985261606484893}, {\"threshold\": 0.673469387755102, \"label\": \"threshold: 0.673\\nprecision: 0.999\\nrecall: 0.988\", \"variable\": \"precision\", \"value\": 0.9985239852398524}, {\"threshold\": 0.6938775510204082, \"label\": \"threshold: 0.694\\nprecision: 0.999\\nrecall: 0.985\", \"variable\": \"precision\", \"value\": 0.9985196150999259}, {\"threshold\": 0.7142857142857142, \"label\": \"threshold: 0.714\\nprecision: 0.999\\nrecall: 0.984\", \"variable\": \"precision\", \"value\": 0.9985174203113417}, {\"threshold\": 0.7346938775510203, \"label\": \"threshold: 0.735\\nprecision: 0.999\\nrecall: 0.983\", \"variable\": \"precision\", \"value\": 0.9985163204747775}, {\"threshold\": 0.7551020408163265, \"label\": \"threshold: 0.755\\nprecision: 0.999\\nrecall: 0.982\", \"variable\": \"precision\", \"value\": 0.9985152190051967}, {\"threshold\": 0.7755102040816326, \"label\": \"threshold: 0.776\\nprecision: 0.999\\nrecall: 0.982\", \"variable\": \"precision\", \"value\": 0.9985141158989599}, {\"threshold\": 0.7959183673469387, \"label\": \"threshold: 0.796\\nprecision: 0.999\\nrecall: 0.98\", \"variable\": \"precision\", \"value\": 0.9985119047619048}, {\"threshold\": 0.8163265306122448, \"label\": \"threshold: 0.816\\nprecision: 0.999\\nrecall: 0.98\", \"variable\": \"precision\", \"value\": 0.9985107967237528}, {\"threshold\": 0.836734693877551, \"label\": \"threshold: 0.837\\nprecision: 0.999\\nrecall: 0.979\", \"variable\": \"precision\", \"value\": 0.9985096870342772}, {\"threshold\": 0.8571428571428571, \"label\": \"threshold: 0.857\\nprecision: 0.999\\nrecall: 0.979\", \"variable\": \"precision\", \"value\": 0.9985096870342772}, {\"threshold\": 0.8775510204081632, \"label\": \"threshold: 0.878\\nprecision: 0.999\\nrecall: 0.979\", \"variable\": \"precision\", \"value\": 0.9985096870342772}, {\"threshold\": 0.8979591836734693, \"label\": \"threshold: 0.898\\nprecision: 0.999\\nrecall: 0.977\", \"variable\": \"precision\", \"value\": 0.9985063480209111}, {\"threshold\": 0.9183673469387754, \"label\": \"threshold: 0.918\\nprecision: 0.999\\nrecall: 0.977\", \"variable\": \"precision\", \"value\": 0.9985063480209111}, {\"threshold\": 0.9387755102040816, \"label\": \"threshold: 0.939\\nprecision: 0.998\\nrecall: 0.969\", \"variable\": \"precision\", \"value\": 0.9984951091045899}, {\"threshold\": 0.9591836734693877, \"label\": \"threshold: 0.959\\nprecision: 0.998\\nrecall: 0.962\", \"variable\": \"precision\", \"value\": 0.9984836997725549}, {\"threshold\": 0.9795918367346939, \"label\": \"threshold: 0.98\\nprecision: 0.998\\nrecall: 0.944\", \"variable\": \"precision\", \"value\": 0.9984555984555985}, {\"threshold\": 1.0, \"label\": \"threshold: 1.0\\nprecision: 1.0\\nrecall: 0.045\", \"variable\": \"precision\", \"value\": 1.0}]}}, {\"mode\": \"vega-lite\"});\n",
              "</script>"
            ]
          },
          "metadata": {},
          "execution_count": 35
        }
      ]
    },
    {
      "cell_type": "code",
      "metadata": {
        "id": "WKebr2ye9tVQ"
      },
      "source": [
        ""
      ],
      "execution_count": 35,
      "outputs": []
    }
  ]
}