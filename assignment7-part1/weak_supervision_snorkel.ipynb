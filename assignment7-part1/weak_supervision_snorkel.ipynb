{
  "nbformat": 4,
  "nbformat_minor": 0,
  "metadata": {
    "colab": {
      "name": "weak supervision-snorkel.ipynb",
      "provenance": [],
      "collapsed_sections": []
    },
    "kernelspec": {
      "display_name": "Python 3",
      "language": "python",
      "name": "python3"
    },
    "language_info": {
      "codemirror_mode": {
        "name": "ipython",
        "version": 3
      },
      "file_extension": ".py",
      "mimetype": "text/x-python",
      "name": "python",
      "nbconvert_exporter": "python",
      "pygments_lexer": "ipython3",
      "version": "3.6.13"
    },
    "accelerator": "GPU"
  },
  "cells": [
    {
      "cell_type": "markdown",
      "metadata": {
        "id": "Ad4C2w9FHEAp"
      },
      "source": [
        "This notebook explore using Snorkel to weak supervised learning. We use labeling functions generated labels for unlabeled data. \n",
        "\n",
        "By Bharath Gunasekaran\n"
      ]
    },
    {
      "cell_type": "markdown",
      "metadata": {
        "id": "kBRUuq_poB7u"
      },
      "source": [
        "\n",
        "\n",
        "\n",
        "## Installing Dependencies"
      ]
    },
    {
      "cell_type": "code",
      "metadata": {
        "ExecuteTime": {
          "end_time": "2021-04-03T11:08:02.749394Z",
          "start_time": "2021-04-03T11:07:43.179631Z"
        },
        "colab": {
          "base_uri": "https://localhost:8080/"
        },
        "id": "1TqgrfwYNlbQ",
        "scrolled": false,
        "outputId": "421cb2c2-e58e-4a06-913d-2ad4833a8810"
      },
      "source": [
        "# To install only the requirements of this notebook, uncomment the lines below and run this cell\n",
        "\n",
        "# ===========================\n",
        "\n",
        "!pip install numpy==1.19.5\n",
        "!pip install pandas==1.1.5\n",
        "!pip install wget==3.2\n",
        "!pip install matplotlib==3.2.2\n",
        "!pip install utils==1.0.1\n",
        "!pip install snorkel==0.9.6\n",
        "!pip install scikit-learn==0.21.3\n",
        "!pip install textblob==0.15.3\n",
        "!pip install treedlib==0.1.3\n",
        "!pip install numbskull==0.1.1\n",
        "!pip install spacy==2.2.4\n",
        "\n",
        "# ==========================="
      ],
      "execution_count": null,
      "outputs": [
        {
          "output_type": "stream",
          "name": "stdout",
          "text": [
            "Requirement already satisfied: numpy==1.19.5 in /usr/local/lib/python3.7/dist-packages (1.19.5)\n",
            "Requirement already satisfied: pandas==1.1.5 in /usr/local/lib/python3.7/dist-packages (1.1.5)\n",
            "Requirement already satisfied: pytz>=2017.2 in /usr/local/lib/python3.7/dist-packages (from pandas==1.1.5) (2018.9)\n",
            "Requirement already satisfied: numpy>=1.15.4 in /usr/local/lib/python3.7/dist-packages (from pandas==1.1.5) (1.19.5)\n",
            "Requirement already satisfied: python-dateutil>=2.7.3 in /usr/local/lib/python3.7/dist-packages (from pandas==1.1.5) (2.8.2)\n",
            "Requirement already satisfied: six>=1.5 in /usr/local/lib/python3.7/dist-packages (from python-dateutil>=2.7.3->pandas==1.1.5) (1.15.0)\n",
            "Collecting wget==3.2\n",
            "  Downloading wget-3.2.zip (10 kB)\n",
            "Building wheels for collected packages: wget\n",
            "  Building wheel for wget (setup.py) ... \u001b[?25l\u001b[?25hdone\n",
            "  Created wheel for wget: filename=wget-3.2-py3-none-any.whl size=9672 sha256=8d8237eb2adfc373e7d289b0eb2278cc8ddfe78069d49234264ca1777ad35cf8\n",
            "  Stored in directory: /root/.cache/pip/wheels/a1/b6/7c/0e63e34eb06634181c63adacca38b79ff8f35c37e3c13e3c02\n",
            "Successfully built wget\n",
            "Installing collected packages: wget\n",
            "Successfully installed wget-3.2\n",
            "Requirement already satisfied: matplotlib==3.2.2 in /usr/local/lib/python3.7/dist-packages (3.2.2)\n",
            "Requirement already satisfied: python-dateutil>=2.1 in /usr/local/lib/python3.7/dist-packages (from matplotlib==3.2.2) (2.8.2)\n",
            "Requirement already satisfied: numpy>=1.11 in /usr/local/lib/python3.7/dist-packages (from matplotlib==3.2.2) (1.19.5)\n",
            "Requirement already satisfied: kiwisolver>=1.0.1 in /usr/local/lib/python3.7/dist-packages (from matplotlib==3.2.2) (1.3.2)\n",
            "Requirement already satisfied: cycler>=0.10 in /usr/local/lib/python3.7/dist-packages (from matplotlib==3.2.2) (0.11.0)\n",
            "Requirement already satisfied: pyparsing!=2.0.4,!=2.1.2,!=2.1.6,>=2.0.1 in /usr/local/lib/python3.7/dist-packages (from matplotlib==3.2.2) (3.0.6)\n",
            "Requirement already satisfied: six>=1.5 in /usr/local/lib/python3.7/dist-packages (from python-dateutil>=2.1->matplotlib==3.2.2) (1.15.0)\n",
            "Collecting utils==1.0.1\n",
            "  Downloading utils-1.0.1-py2.py3-none-any.whl (21 kB)\n",
            "Installing collected packages: utils\n",
            "Successfully installed utils-1.0.1\n",
            "Collecting snorkel==0.9.6\n",
            "  Downloading snorkel-0.9.6-py3-none-any.whl (144 kB)\n",
            "\u001b[K     |████████████████████████████████| 144 kB 5.1 MB/s \n",
            "\u001b[?25hCollecting scikit-learn<0.22.0,>=0.20.2\n",
            "  Downloading scikit_learn-0.21.3-cp37-cp37m-manylinux1_x86_64.whl (6.7 MB)\n",
            "\u001b[K     |████████████████████████████████| 6.7 MB 30.9 MB/s \n",
            "\u001b[?25hRequirement already satisfied: tqdm<5.0.0,>=4.33.0 in /usr/local/lib/python3.7/dist-packages (from snorkel==0.9.6) (4.62.3)\n",
            "Requirement already satisfied: pandas<2.0.0,>=0.25.0 in /usr/local/lib/python3.7/dist-packages (from snorkel==0.9.6) (1.1.5)\n",
            "Requirement already satisfied: numpy<2.0.0,>=1.16.0 in /usr/local/lib/python3.7/dist-packages (from snorkel==0.9.6) (1.19.5)\n",
            "Requirement already satisfied: scipy<2.0.0,>=1.2.0 in /usr/local/lib/python3.7/dist-packages (from snorkel==0.9.6) (1.4.1)\n",
            "Collecting tensorboard<2.0.0,>=1.14.0\n",
            "  Downloading tensorboard-1.15.0-py3-none-any.whl (3.8 MB)\n",
            "\u001b[K     |████████████████████████████████| 3.8 MB 54.5 MB/s \n",
            "\u001b[?25hCollecting networkx<2.4,>=2.2\n",
            "  Downloading networkx-2.3.zip (1.7 MB)\n",
            "\u001b[K     |████████████████████████████████| 1.7 MB 71.2 MB/s \n",
            "\u001b[?25hCollecting munkres>=1.0.6\n",
            "  Downloading munkres-1.1.4-py2.py3-none-any.whl (7.0 kB)\n",
            "Requirement already satisfied: torch<2.0.0,>=1.2.0 in /usr/local/lib/python3.7/dist-packages (from snorkel==0.9.6) (1.10.0+cu111)\n",
            "Requirement already satisfied: decorator>=4.3.0 in /usr/local/lib/python3.7/dist-packages (from networkx<2.4,>=2.2->snorkel==0.9.6) (4.4.2)\n",
            "Requirement already satisfied: pytz>=2017.2 in /usr/local/lib/python3.7/dist-packages (from pandas<2.0.0,>=0.25.0->snorkel==0.9.6) (2018.9)\n",
            "Requirement already satisfied: python-dateutil>=2.7.3 in /usr/local/lib/python3.7/dist-packages (from pandas<2.0.0,>=0.25.0->snorkel==0.9.6) (2.8.2)\n",
            "Requirement already satisfied: six>=1.5 in /usr/local/lib/python3.7/dist-packages (from python-dateutil>=2.7.3->pandas<2.0.0,>=0.25.0->snorkel==0.9.6) (1.15.0)\n",
            "Requirement already satisfied: joblib>=0.11 in /usr/local/lib/python3.7/dist-packages (from scikit-learn<0.22.0,>=0.20.2->snorkel==0.9.6) (1.1.0)\n",
            "Requirement already satisfied: werkzeug>=0.11.15 in /usr/local/lib/python3.7/dist-packages (from tensorboard<2.0.0,>=1.14.0->snorkel==0.9.6) (1.0.1)\n",
            "Requirement already satisfied: protobuf>=3.6.0 in /usr/local/lib/python3.7/dist-packages (from tensorboard<2.0.0,>=1.14.0->snorkel==0.9.6) (3.17.3)\n",
            "Requirement already satisfied: absl-py>=0.4 in /usr/local/lib/python3.7/dist-packages (from tensorboard<2.0.0,>=1.14.0->snorkel==0.9.6) (0.12.0)\n",
            "Requirement already satisfied: wheel>=0.26 in /usr/local/lib/python3.7/dist-packages (from tensorboard<2.0.0,>=1.14.0->snorkel==0.9.6) (0.37.0)\n",
            "Requirement already satisfied: setuptools>=41.0.0 in /usr/local/lib/python3.7/dist-packages (from tensorboard<2.0.0,>=1.14.0->snorkel==0.9.6) (57.4.0)\n",
            "Requirement already satisfied: grpcio>=1.6.3 in /usr/local/lib/python3.7/dist-packages (from tensorboard<2.0.0,>=1.14.0->snorkel==0.9.6) (1.42.0)\n",
            "Requirement already satisfied: markdown>=2.6.8 in /usr/local/lib/python3.7/dist-packages (from tensorboard<2.0.0,>=1.14.0->snorkel==0.9.6) (3.3.6)\n",
            "Requirement already satisfied: importlib-metadata>=4.4 in /usr/local/lib/python3.7/dist-packages (from markdown>=2.6.8->tensorboard<2.0.0,>=1.14.0->snorkel==0.9.6) (4.8.2)\n",
            "Requirement already satisfied: typing-extensions>=3.6.4 in /usr/local/lib/python3.7/dist-packages (from importlib-metadata>=4.4->markdown>=2.6.8->tensorboard<2.0.0,>=1.14.0->snorkel==0.9.6) (3.10.0.2)\n",
            "Requirement already satisfied: zipp>=0.5 in /usr/local/lib/python3.7/dist-packages (from importlib-metadata>=4.4->markdown>=2.6.8->tensorboard<2.0.0,>=1.14.0->snorkel==0.9.6) (3.6.0)\n",
            "Building wheels for collected packages: networkx\n",
            "  Building wheel for networkx (setup.py) ... \u001b[?25l\u001b[?25hdone\n",
            "  Created wheel for networkx: filename=networkx-2.3-py2.py3-none-any.whl size=1556009 sha256=6375daa0a9743f95a9a172072460d855e2a5ba2f326a60139b1950c993d928ce\n",
            "  Stored in directory: /root/.cache/pip/wheels/44/e6/b8/4efaab31158e9e9ca9ed80b11f6b11130bac9a9672b3cbbeaf\n",
            "Successfully built networkx\n",
            "Installing collected packages: tensorboard, scikit-learn, networkx, munkres, snorkel\n",
            "  Attempting uninstall: tensorboard\n",
            "    Found existing installation: tensorboard 2.7.0\n",
            "    Uninstalling tensorboard-2.7.0:\n",
            "      Successfully uninstalled tensorboard-2.7.0\n",
            "  Attempting uninstall: scikit-learn\n",
            "    Found existing installation: scikit-learn 1.0.1\n",
            "    Uninstalling scikit-learn-1.0.1:\n",
            "      Successfully uninstalled scikit-learn-1.0.1\n",
            "  Attempting uninstall: networkx\n",
            "    Found existing installation: networkx 2.6.3\n",
            "    Uninstalling networkx-2.6.3:\n",
            "      Successfully uninstalled networkx-2.6.3\n",
            "\u001b[31mERROR: pip's dependency resolver does not currently take into account all the packages that are installed. This behaviour is the source of the following dependency conflicts.\n",
            "tensorflow 2.7.0 requires tensorboard~=2.6, but you have tensorboard 1.15.0 which is incompatible.\n",
            "imbalanced-learn 0.8.1 requires scikit-learn>=0.24, but you have scikit-learn 0.21.3 which is incompatible.\n",
            "albumentations 0.1.12 requires imgaug<0.2.7,>=0.2.5, but you have imgaug 0.2.9 which is incompatible.\u001b[0m\n",
            "Successfully installed munkres-1.1.4 networkx-2.3 scikit-learn-0.21.3 snorkel-0.9.6 tensorboard-1.15.0\n",
            "Requirement already satisfied: scikit-learn==0.21.3 in /usr/local/lib/python3.7/dist-packages (0.21.3)\n",
            "Requirement already satisfied: numpy>=1.11.0 in /usr/local/lib/python3.7/dist-packages (from scikit-learn==0.21.3) (1.19.5)\n",
            "Requirement already satisfied: joblib>=0.11 in /usr/local/lib/python3.7/dist-packages (from scikit-learn==0.21.3) (1.1.0)\n",
            "Requirement already satisfied: scipy>=0.17.0 in /usr/local/lib/python3.7/dist-packages (from scikit-learn==0.21.3) (1.4.1)\n",
            "Requirement already satisfied: textblob==0.15.3 in /usr/local/lib/python3.7/dist-packages (0.15.3)\n",
            "Requirement already satisfied: nltk>=3.1 in /usr/local/lib/python3.7/dist-packages (from textblob==0.15.3) (3.2.5)\n",
            "Requirement already satisfied: six in /usr/local/lib/python3.7/dist-packages (from nltk>=3.1->textblob==0.15.3) (1.15.0)\n",
            "Collecting treedlib==0.1.3\n",
            "  Downloading treedlib-0.1.3-py3-none-any.whl (12 kB)\n",
            "Requirement already satisfied: lxml in /usr/local/lib/python3.7/dist-packages (from treedlib==0.1.3) (4.2.6)\n",
            "Installing collected packages: treedlib\n",
            "Successfully installed treedlib-0.1.3\n",
            "Collecting numbskull==0.1.1\n",
            "  Downloading numbskull-0.1.1-py3-none-any.whl (18 kB)\n",
            "Requirement already satisfied: future in /usr/local/lib/python3.7/dist-packages (from numbskull==0.1.1) (0.16.0)\n",
            "Installing collected packages: numbskull\n",
            "Successfully installed numbskull-0.1.1\n",
            "Requirement already satisfied: spacy==2.2.4 in /usr/local/lib/python3.7/dist-packages (2.2.4)\n",
            "Requirement already satisfied: plac<1.2.0,>=0.9.6 in /usr/local/lib/python3.7/dist-packages (from spacy==2.2.4) (1.1.3)\n",
            "Requirement already satisfied: wasabi<1.1.0,>=0.4.0 in /usr/local/lib/python3.7/dist-packages (from spacy==2.2.4) (0.8.2)\n",
            "Requirement already satisfied: setuptools in /usr/local/lib/python3.7/dist-packages (from spacy==2.2.4) (57.4.0)\n",
            "Requirement already satisfied: requests<3.0.0,>=2.13.0 in /usr/local/lib/python3.7/dist-packages (from spacy==2.2.4) (2.23.0)\n",
            "Requirement already satisfied: preshed<3.1.0,>=3.0.2 in /usr/local/lib/python3.7/dist-packages (from spacy==2.2.4) (3.0.6)\n",
            "Requirement already satisfied: catalogue<1.1.0,>=0.0.7 in /usr/local/lib/python3.7/dist-packages (from spacy==2.2.4) (1.0.0)\n",
            "Requirement already satisfied: murmurhash<1.1.0,>=0.28.0 in /usr/local/lib/python3.7/dist-packages (from spacy==2.2.4) (1.0.6)\n",
            "Requirement already satisfied: tqdm<5.0.0,>=4.38.0 in /usr/local/lib/python3.7/dist-packages (from spacy==2.2.4) (4.62.3)\n",
            "Requirement already satisfied: blis<0.5.0,>=0.4.0 in /usr/local/lib/python3.7/dist-packages (from spacy==2.2.4) (0.4.1)\n",
            "Requirement already satisfied: numpy>=1.15.0 in /usr/local/lib/python3.7/dist-packages (from spacy==2.2.4) (1.19.5)\n",
            "Requirement already satisfied: srsly<1.1.0,>=1.0.2 in /usr/local/lib/python3.7/dist-packages (from spacy==2.2.4) (1.0.5)\n",
            "Requirement already satisfied: cymem<2.1.0,>=2.0.2 in /usr/local/lib/python3.7/dist-packages (from spacy==2.2.4) (2.0.6)\n",
            "Requirement already satisfied: thinc==7.4.0 in /usr/local/lib/python3.7/dist-packages (from spacy==2.2.4) (7.4.0)\n",
            "Requirement already satisfied: importlib-metadata>=0.20 in /usr/local/lib/python3.7/dist-packages (from catalogue<1.1.0,>=0.0.7->spacy==2.2.4) (4.8.2)\n",
            "Requirement already satisfied: zipp>=0.5 in /usr/local/lib/python3.7/dist-packages (from importlib-metadata>=0.20->catalogue<1.1.0,>=0.0.7->spacy==2.2.4) (3.6.0)\n",
            "Requirement already satisfied: typing-extensions>=3.6.4 in /usr/local/lib/python3.7/dist-packages (from importlib-metadata>=0.20->catalogue<1.1.0,>=0.0.7->spacy==2.2.4) (3.10.0.2)\n",
            "Requirement already satisfied: chardet<4,>=3.0.2 in /usr/local/lib/python3.7/dist-packages (from requests<3.0.0,>=2.13.0->spacy==2.2.4) (3.0.4)\n",
            "Requirement already satisfied: idna<3,>=2.5 in /usr/local/lib/python3.7/dist-packages (from requests<3.0.0,>=2.13.0->spacy==2.2.4) (2.10)\n",
            "Requirement already satisfied: certifi>=2017.4.17 in /usr/local/lib/python3.7/dist-packages (from requests<3.0.0,>=2.13.0->spacy==2.2.4) (2021.10.8)\n",
            "Requirement already satisfied: urllib3!=1.25.0,!=1.25.1,<1.26,>=1.21.1 in /usr/local/lib/python3.7/dist-packages (from requests<3.0.0,>=2.13.0->spacy==2.2.4) (1.24.3)\n"
          ]
        }
      ]
    },
    {
      "cell_type": "code",
      "metadata": {
        "id": "rwJse1GvWbAZ",
        "colab": {
          "base_uri": "https://localhost:8080/"
        },
        "outputId": "03e8b2bf-832b-46e5-9465-d76005217ae7"
      },
      "source": [
        "# To install the requirements for the entire chapter, uncomment the lines below and run this cell\n",
        "\n",
        "# ===========================\n",
        "\n",
        "try :\n",
        "    import google.colab\n",
        "    !curl https://raw.githubusercontent.com/practical-nlp/practical-nlp/master/Ch2/ch2-requirements.txt | xargs -n 1 -L 1 pip install\n",
        "except ModuleNotFoundError :\n",
        "    !pip install -r \"ch2-requirements.txt\"\n",
        "\n",
        "# ==========================="
      ],
      "execution_count": null,
      "outputs": [
        {
          "output_type": "stream",
          "name": "stdout",
          "text": [
            "  % Total    % Received % Xferd  Average Speed   Time    Time     Time  Current\n",
            "                                 Dload  Upload   Total   Spent    Left  Speed\n",
            "\r  0     0    0     0    0     0      0      0 --:--:-- --:--:-- --:--:--     0\r100   304  100   304    0     0   2140      0 --:--:-- --:--:-- --:--:--  2140\n",
            "Requirement already satisfied: numpy==1.19.5 in /usr/local/lib/python3.7/dist-packages (1.19.5)\n",
            "Requirement already satisfied: pandas==1.1.5 in /usr/local/lib/python3.7/dist-packages (1.1.5)\n",
            "Requirement already satisfied: numpy>=1.15.4 in /usr/local/lib/python3.7/dist-packages (from pandas==1.1.5) (1.19.5)\n",
            "Requirement already satisfied: pytz>=2017.2 in /usr/local/lib/python3.7/dist-packages (from pandas==1.1.5) (2018.9)\n",
            "Requirement already satisfied: python-dateutil>=2.7.3 in /usr/local/lib/python3.7/dist-packages (from pandas==1.1.5) (2.8.2)\n",
            "Requirement already satisfied: six>=1.5 in /usr/local/lib/python3.7/dist-packages (from python-dateutil>=2.7.3->pandas==1.1.5) (1.15.0)\n",
            "Requirement already satisfied: beautifulsoup4==4.6.3 in /usr/local/lib/python3.7/dist-packages (4.6.3)\n",
            "Collecting pytesseract==0.3.7\n",
            "  Downloading pytesseract-0.3.7.tar.gz (13 kB)\n",
            "Requirement already satisfied: Pillow in /usr/local/lib/python3.7/dist-packages (from pytesseract==0.3.7) (7.1.2)\n",
            "Building wheels for collected packages: pytesseract\n",
            "  Building wheel for pytesseract (setup.py) ... \u001b[?25l\u001b[?25hdone\n",
            "  Created wheel for pytesseract: filename=pytesseract-0.3.7-py2.py3-none-any.whl size=13954 sha256=5c91ef8550fa46180d9140c0f1f6c5dfc36939243cb17d85e78c07f68623a554\n",
            "  Stored in directory: /root/.cache/pip/wheels/67/71/6c/7a8c5ca2e699752506999ae7baeb692e2b4fc6488c2cddcb22\n",
            "Successfully built pytesseract\n",
            "Installing collected packages: pytesseract\n",
            "Successfully installed pytesseract-0.3.7\n",
            "Requirement already satisfied: spacy==2.2.4 in /usr/local/lib/python3.7/dist-packages (2.2.4)\n",
            "Requirement already satisfied: requests<3.0.0,>=2.13.0 in /usr/local/lib/python3.7/dist-packages (from spacy==2.2.4) (2.23.0)\n",
            "Requirement already satisfied: setuptools in /usr/local/lib/python3.7/dist-packages (from spacy==2.2.4) (57.4.0)\n",
            "Requirement already satisfied: numpy>=1.15.0 in /usr/local/lib/python3.7/dist-packages (from spacy==2.2.4) (1.19.5)\n",
            "Requirement already satisfied: catalogue<1.1.0,>=0.0.7 in /usr/local/lib/python3.7/dist-packages (from spacy==2.2.4) (1.0.0)\n",
            "Requirement already satisfied: preshed<3.1.0,>=3.0.2 in /usr/local/lib/python3.7/dist-packages (from spacy==2.2.4) (3.0.6)\n",
            "Requirement already satisfied: blis<0.5.0,>=0.4.0 in /usr/local/lib/python3.7/dist-packages (from spacy==2.2.4) (0.4.1)\n",
            "Requirement already satisfied: cymem<2.1.0,>=2.0.2 in /usr/local/lib/python3.7/dist-packages (from spacy==2.2.4) (2.0.6)\n",
            "Requirement already satisfied: murmurhash<1.1.0,>=0.28.0 in /usr/local/lib/python3.7/dist-packages (from spacy==2.2.4) (1.0.6)\n",
            "Requirement already satisfied: thinc==7.4.0 in /usr/local/lib/python3.7/dist-packages (from spacy==2.2.4) (7.4.0)\n",
            "Requirement already satisfied: plac<1.2.0,>=0.9.6 in /usr/local/lib/python3.7/dist-packages (from spacy==2.2.4) (1.1.3)\n",
            "Requirement already satisfied: srsly<1.1.0,>=1.0.2 in /usr/local/lib/python3.7/dist-packages (from spacy==2.2.4) (1.0.5)\n",
            "Requirement already satisfied: tqdm<5.0.0,>=4.38.0 in /usr/local/lib/python3.7/dist-packages (from spacy==2.2.4) (4.62.3)\n",
            "Requirement already satisfied: wasabi<1.1.0,>=0.4.0 in /usr/local/lib/python3.7/dist-packages (from spacy==2.2.4) (0.8.2)\n",
            "Requirement already satisfied: importlib-metadata>=0.20 in /usr/local/lib/python3.7/dist-packages (from catalogue<1.1.0,>=0.0.7->spacy==2.2.4) (4.8.2)\n",
            "Requirement already satisfied: typing-extensions>=3.6.4 in /usr/local/lib/python3.7/dist-packages (from importlib-metadata>=0.20->catalogue<1.1.0,>=0.0.7->spacy==2.2.4) (3.10.0.2)\n",
            "Requirement already satisfied: zipp>=0.5 in /usr/local/lib/python3.7/dist-packages (from importlib-metadata>=0.20->catalogue<1.1.0,>=0.0.7->spacy==2.2.4) (3.6.0)\n",
            "Requirement already satisfied: idna<3,>=2.5 in /usr/local/lib/python3.7/dist-packages (from requests<3.0.0,>=2.13.0->spacy==2.2.4) (2.10)\n",
            "Requirement already satisfied: chardet<4,>=3.0.2 in /usr/local/lib/python3.7/dist-packages (from requests<3.0.0,>=2.13.0->spacy==2.2.4) (3.0.4)\n",
            "Requirement already satisfied: certifi>=2017.4.17 in /usr/local/lib/python3.7/dist-packages (from requests<3.0.0,>=2.13.0->spacy==2.2.4) (2021.10.8)\n",
            "Requirement already satisfied: urllib3!=1.25.0,!=1.25.1,<1.26,>=1.21.1 in /usr/local/lib/python3.7/dist-packages (from requests<3.0.0,>=2.13.0->spacy==2.2.4) (1.24.3)\n",
            "Requirement already satisfied: scikit-learn==0.21.3 in /usr/local/lib/python3.7/dist-packages (0.21.3)\n",
            "Requirement already satisfied: scipy>=0.17.0 in /usr/local/lib/python3.7/dist-packages (from scikit-learn==0.21.3) (1.4.1)\n",
            "Requirement already satisfied: numpy>=1.11.0 in /usr/local/lib/python3.7/dist-packages (from scikit-learn==0.21.3) (1.19.5)\n",
            "Requirement already satisfied: joblib>=0.11 in /usr/local/lib/python3.7/dist-packages (from scikit-learn==0.21.3) (1.1.0)\n",
            "Collecting nlpaug==0.0.14\n",
            "  Downloading nlpaug-0.0.14-py3-none-any.whl (101 kB)\n",
            "\u001b[K     |████████████████████████████████| 101 kB 2.5 MB/s \n",
            "\u001b[?25hInstalling collected packages: nlpaug\n",
            "Successfully installed nlpaug-0.0.14\n",
            "Requirement already satisfied: snorkel==0.9.6 in /usr/local/lib/python3.7/dist-packages (0.9.6)\n",
            "Requirement already satisfied: networkx<2.4,>=2.2 in /usr/local/lib/python3.7/dist-packages (from snorkel==0.9.6) (2.3)\n",
            "Requirement already satisfied: scipy<2.0.0,>=1.2.0 in /usr/local/lib/python3.7/dist-packages (from snorkel==0.9.6) (1.4.1)\n",
            "Requirement already satisfied: munkres>=1.0.6 in /usr/local/lib/python3.7/dist-packages (from snorkel==0.9.6) (1.1.4)\n",
            "Requirement already satisfied: numpy<2.0.0,>=1.16.0 in /usr/local/lib/python3.7/dist-packages (from snorkel==0.9.6) (1.19.5)\n",
            "Requirement already satisfied: tensorboard<2.0.0,>=1.14.0 in /usr/local/lib/python3.7/dist-packages (from snorkel==0.9.6) (1.15.0)\n",
            "Requirement already satisfied: scikit-learn<0.22.0,>=0.20.2 in /usr/local/lib/python3.7/dist-packages (from snorkel==0.9.6) (0.21.3)\n",
            "Requirement already satisfied: tqdm<5.0.0,>=4.33.0 in /usr/local/lib/python3.7/dist-packages (from snorkel==0.9.6) (4.62.3)\n",
            "Requirement already satisfied: torch<2.0.0,>=1.2.0 in /usr/local/lib/python3.7/dist-packages (from snorkel==0.9.6) (1.10.0+cu111)\n",
            "Requirement already satisfied: pandas<2.0.0,>=0.25.0 in /usr/local/lib/python3.7/dist-packages (from snorkel==0.9.6) (1.1.5)\n",
            "Requirement already satisfied: decorator>=4.3.0 in /usr/local/lib/python3.7/dist-packages (from networkx<2.4,>=2.2->snorkel==0.9.6) (4.4.2)\n",
            "Requirement already satisfied: pytz>=2017.2 in /usr/local/lib/python3.7/dist-packages (from pandas<2.0.0,>=0.25.0->snorkel==0.9.6) (2018.9)\n",
            "Requirement already satisfied: python-dateutil>=2.7.3 in /usr/local/lib/python3.7/dist-packages (from pandas<2.0.0,>=0.25.0->snorkel==0.9.6) (2.8.2)\n",
            "Requirement already satisfied: six>=1.5 in /usr/local/lib/python3.7/dist-packages (from python-dateutil>=2.7.3->pandas<2.0.0,>=0.25.0->snorkel==0.9.6) (1.15.0)\n",
            "Requirement already satisfied: joblib>=0.11 in /usr/local/lib/python3.7/dist-packages (from scikit-learn<0.22.0,>=0.20.2->snorkel==0.9.6) (1.1.0)\n",
            "Requirement already satisfied: grpcio>=1.6.3 in /usr/local/lib/python3.7/dist-packages (from tensorboard<2.0.0,>=1.14.0->snorkel==0.9.6) (1.42.0)\n",
            "Requirement already satisfied: protobuf>=3.6.0 in /usr/local/lib/python3.7/dist-packages (from tensorboard<2.0.0,>=1.14.0->snorkel==0.9.6) (3.17.3)\n",
            "Requirement already satisfied: werkzeug>=0.11.15 in /usr/local/lib/python3.7/dist-packages (from tensorboard<2.0.0,>=1.14.0->snorkel==0.9.6) (1.0.1)\n",
            "Requirement already satisfied: setuptools>=41.0.0 in /usr/local/lib/python3.7/dist-packages (from tensorboard<2.0.0,>=1.14.0->snorkel==0.9.6) (57.4.0)\n",
            "Requirement already satisfied: absl-py>=0.4 in /usr/local/lib/python3.7/dist-packages (from tensorboard<2.0.0,>=1.14.0->snorkel==0.9.6) (0.12.0)\n",
            "Requirement already satisfied: wheel>=0.26 in /usr/local/lib/python3.7/dist-packages (from tensorboard<2.0.0,>=1.14.0->snorkel==0.9.6) (0.37.0)\n",
            "Requirement already satisfied: markdown>=2.6.8 in /usr/local/lib/python3.7/dist-packages (from tensorboard<2.0.0,>=1.14.0->snorkel==0.9.6) (3.3.6)\n",
            "Requirement already satisfied: importlib-metadata>=4.4 in /usr/local/lib/python3.7/dist-packages (from markdown>=2.6.8->tensorboard<2.0.0,>=1.14.0->snorkel==0.9.6) (4.8.2)\n",
            "Requirement already satisfied: zipp>=0.5 in /usr/local/lib/python3.7/dist-packages (from importlib-metadata>=4.4->markdown>=2.6.8->tensorboard<2.0.0,>=1.14.0->snorkel==0.9.6) (3.6.0)\n",
            "Requirement already satisfied: typing-extensions>=3.6.4 in /usr/local/lib/python3.7/dist-packages (from importlib-metadata>=4.4->markdown>=2.6.8->tensorboard<2.0.0,>=1.14.0->snorkel==0.9.6) (3.10.0.2)\n",
            "Requirement already satisfied: treedlib==0.1.3 in /usr/local/lib/python3.7/dist-packages (0.1.3)\n",
            "Requirement already satisfied: lxml in /usr/local/lib/python3.7/dist-packages (from treedlib==0.1.3) (4.2.6)\n",
            "Requirement already satisfied: numbskull==0.1.1 in /usr/local/lib/python3.7/dist-packages (0.1.1)\n",
            "Requirement already satisfied: future in /usr/local/lib/python3.7/dist-packages (from numbskull==0.1.1) (0.16.0)\n",
            "Collecting tensorflow==1.15\n",
            "  Downloading tensorflow-1.15.0-cp37-cp37m-manylinux2010_x86_64.whl (412.3 MB)\n",
            "\u001b[K     |████████████████████████████████| 412.3 MB 24 kB/s \n",
            "\u001b[?25hRequirement already satisfied: keras-preprocessing>=1.0.5 in /usr/local/lib/python3.7/dist-packages (from tensorflow==1.15) (1.1.2)\n",
            "Requirement already satisfied: astor>=0.6.0 in /usr/local/lib/python3.7/dist-packages (from tensorflow==1.15) (0.8.1)\n",
            "Collecting keras-applications>=1.0.8\n",
            "  Downloading Keras_Applications-1.0.8-py3-none-any.whl (50 kB)\n",
            "\u001b[K     |████████████████████████████████| 50 kB 8.8 MB/s \n",
            "\u001b[?25hCollecting gast==0.2.2\n",
            "  Downloading gast-0.2.2.tar.gz (10 kB)\n",
            "Requirement already satisfied: opt-einsum>=2.3.2 in /usr/local/lib/python3.7/dist-packages (from tensorflow==1.15) (3.3.0)\n",
            "Requirement already satisfied: grpcio>=1.8.6 in /usr/local/lib/python3.7/dist-packages (from tensorflow==1.15) (1.42.0)\n",
            "Requirement already satisfied: six>=1.10.0 in /usr/local/lib/python3.7/dist-packages (from tensorflow==1.15) (1.15.0)\n",
            "Requirement already satisfied: google-pasta>=0.1.6 in /usr/local/lib/python3.7/dist-packages (from tensorflow==1.15) (0.2.0)\n",
            "Requirement already satisfied: tensorboard<1.16.0,>=1.15.0 in /usr/local/lib/python3.7/dist-packages (from tensorflow==1.15) (1.15.0)\n",
            "Requirement already satisfied: wheel>=0.26 in /usr/local/lib/python3.7/dist-packages (from tensorflow==1.15) (0.37.0)\n",
            "Requirement already satisfied: absl-py>=0.7.0 in /usr/local/lib/python3.7/dist-packages (from tensorflow==1.15) (0.12.0)\n",
            "Requirement already satisfied: wrapt>=1.11.1 in /usr/local/lib/python3.7/dist-packages (from tensorflow==1.15) (1.13.3)\n",
            "Requirement already satisfied: protobuf>=3.6.1 in /usr/local/lib/python3.7/dist-packages (from tensorflow==1.15) (3.17.3)\n",
            "Requirement already satisfied: numpy<2.0,>=1.16.0 in /usr/local/lib/python3.7/dist-packages (from tensorflow==1.15) (1.19.5)\n",
            "Collecting tensorflow-estimator==1.15.1\n",
            "  Downloading tensorflow_estimator-1.15.1-py2.py3-none-any.whl (503 kB)\n",
            "\u001b[K     |████████████████████████████████| 503 kB 57.8 MB/s \n",
            "\u001b[?25hRequirement already satisfied: termcolor>=1.1.0 in /usr/local/lib/python3.7/dist-packages (from tensorflow==1.15) (1.1.0)\n",
            "Requirement already satisfied: h5py in /usr/local/lib/python3.7/dist-packages (from keras-applications>=1.0.8->tensorflow==1.15) (3.1.0)\n",
            "Requirement already satisfied: setuptools>=41.0.0 in /usr/local/lib/python3.7/dist-packages (from tensorboard<1.16.0,>=1.15.0->tensorflow==1.15) (57.4.0)\n",
            "Requirement already satisfied: markdown>=2.6.8 in /usr/local/lib/python3.7/dist-packages (from tensorboard<1.16.0,>=1.15.0->tensorflow==1.15) (3.3.6)\n",
            "Requirement already satisfied: werkzeug>=0.11.15 in /usr/local/lib/python3.7/dist-packages (from tensorboard<1.16.0,>=1.15.0->tensorflow==1.15) (1.0.1)\n",
            "Requirement already satisfied: importlib-metadata>=4.4 in /usr/local/lib/python3.7/dist-packages (from markdown>=2.6.8->tensorboard<1.16.0,>=1.15.0->tensorflow==1.15) (4.8.2)\n",
            "Requirement already satisfied: zipp>=0.5 in /usr/local/lib/python3.7/dist-packages (from importlib-metadata>=4.4->markdown>=2.6.8->tensorboard<1.16.0,>=1.15.0->tensorflow==1.15) (3.6.0)\n",
            "Requirement already satisfied: typing-extensions>=3.6.4 in /usr/local/lib/python3.7/dist-packages (from importlib-metadata>=4.4->markdown>=2.6.8->tensorboard<1.16.0,>=1.15.0->tensorflow==1.15) (3.10.0.2)\n",
            "Requirement already satisfied: cached-property in /usr/local/lib/python3.7/dist-packages (from h5py->keras-applications>=1.0.8->tensorflow==1.15) (1.5.2)\n",
            "Building wheels for collected packages: gast\n",
            "  Building wheel for gast (setup.py) ... \u001b[?25l\u001b[?25hdone\n",
            "  Created wheel for gast: filename=gast-0.2.2-py3-none-any.whl size=7554 sha256=9ecf4cc76970d94e26199ef3e0675e545724d39c9817bf4a8279aa1fc3709f6b\n",
            "  Stored in directory: /root/.cache/pip/wheels/21/7f/02/420f32a803f7d0967b48dd823da3f558c5166991bfd204eef3\n",
            "Successfully built gast\n",
            "Installing collected packages: tensorflow-estimator, keras-applications, gast, tensorflow\n",
            "  Attempting uninstall: tensorflow-estimator\n",
            "    Found existing installation: tensorflow-estimator 2.7.0\n",
            "    Uninstalling tensorflow-estimator-2.7.0:\n",
            "      Successfully uninstalled tensorflow-estimator-2.7.0\n",
            "  Attempting uninstall: gast\n",
            "    Found existing installation: gast 0.4.0\n",
            "    Uninstalling gast-0.4.0:\n",
            "      Successfully uninstalled gast-0.4.0\n",
            "  Attempting uninstall: tensorflow\n",
            "    Found existing installation: tensorflow 2.7.0\n",
            "    Uninstalling tensorflow-2.7.0:\n",
            "      Successfully uninstalled tensorflow-2.7.0\n",
            "\u001b[31mERROR: pip's dependency resolver does not currently take into account all the packages that are installed. This behaviour is the source of the following dependency conflicts.\n",
            "tensorflow-probability 0.15.0 requires gast>=0.3.2, but you have gast 0.2.2 which is incompatible.\n",
            "kapre 0.3.6 requires tensorflow>=2.0.0, but you have tensorflow 1.15.0 which is incompatible.\u001b[0m\n",
            "Successfully installed gast-0.2.2 keras-applications-1.0.8 tensorflow-1.15.0 tensorflow-estimator-1.15.1\n",
            "Requirement already satisfied: tensorboard==1.15 in /usr/local/lib/python3.7/dist-packages (1.15.0)\n",
            "Requirement already satisfied: numpy>=1.12.0 in /usr/local/lib/python3.7/dist-packages (from tensorboard==1.15) (1.19.5)\n",
            "Requirement already satisfied: wheel>=0.26 in /usr/local/lib/python3.7/dist-packages (from tensorboard==1.15) (0.37.0)\n",
            "Requirement already satisfied: setuptools>=41.0.0 in /usr/local/lib/python3.7/dist-packages (from tensorboard==1.15) (57.4.0)\n",
            "Requirement already satisfied: markdown>=2.6.8 in /usr/local/lib/python3.7/dist-packages (from tensorboard==1.15) (3.3.6)\n",
            "Requirement already satisfied: absl-py>=0.4 in /usr/local/lib/python3.7/dist-packages (from tensorboard==1.15) (0.12.0)\n",
            "Requirement already satisfied: grpcio>=1.6.3 in /usr/local/lib/python3.7/dist-packages (from tensorboard==1.15) (1.42.0)\n",
            "Requirement already satisfied: protobuf>=3.6.0 in /usr/local/lib/python3.7/dist-packages (from tensorboard==1.15) (3.17.3)\n",
            "Requirement already satisfied: six>=1.10.0 in /usr/local/lib/python3.7/dist-packages (from tensorboard==1.15) (1.15.0)\n",
            "Requirement already satisfied: werkzeug>=0.11.15 in /usr/local/lib/python3.7/dist-packages (from tensorboard==1.15) (1.0.1)\n",
            "Requirement already satisfied: importlib-metadata>=4.4 in /usr/local/lib/python3.7/dist-packages (from markdown>=2.6.8->tensorboard==1.15) (4.8.2)\n",
            "Requirement already satisfied: typing-extensions>=3.6.4 in /usr/local/lib/python3.7/dist-packages (from importlib-metadata>=4.4->markdown>=2.6.8->tensorboard==1.15) (3.10.0.2)\n",
            "Requirement already satisfied: zipp>=0.5 in /usr/local/lib/python3.7/dist-packages (from importlib-metadata>=4.4->markdown>=2.6.8->tensorboard==1.15) (3.6.0)\n",
            "Requirement already satisfied: nltk==3.2.5 in /usr/local/lib/python3.7/dist-packages (3.2.5)\n",
            "Requirement already satisfied: six in /usr/local/lib/python3.7/dist-packages (from nltk==3.2.5) (1.15.0)\n",
            "Requirement already satisfied: matplotlib==3.2.2 in /usr/local/lib/python3.7/dist-packages (3.2.2)\n",
            "Requirement already satisfied: cycler>=0.10 in /usr/local/lib/python3.7/dist-packages (from matplotlib==3.2.2) (0.11.0)\n",
            "Requirement already satisfied: pyparsing!=2.0.4,!=2.1.2,!=2.1.6,>=2.0.1 in /usr/local/lib/python3.7/dist-packages (from matplotlib==3.2.2) (3.0.6)\n",
            "Requirement already satisfied: kiwisolver>=1.0.1 in /usr/local/lib/python3.7/dist-packages (from matplotlib==3.2.2) (1.3.2)\n",
            "Requirement already satisfied: python-dateutil>=2.1 in /usr/local/lib/python3.7/dist-packages (from matplotlib==3.2.2) (2.8.2)\n",
            "Requirement already satisfied: numpy>=1.11 in /usr/local/lib/python3.7/dist-packages (from matplotlib==3.2.2) (1.19.5)\n",
            "Requirement already satisfied: six>=1.5 in /usr/local/lib/python3.7/dist-packages (from python-dateutil>=2.1->matplotlib==3.2.2) (1.15.0)\n",
            "Requirement already satisfied: wget==3.2 in /usr/local/lib/python3.7/dist-packages (3.2)\n",
            "Requirement already satisfied: utils==1.0.1 in /usr/local/lib/python3.7/dist-packages (1.0.1)\n",
            "Requirement already satisfied: textblob==0.15.3 in /usr/local/lib/python3.7/dist-packages (0.15.3)\n",
            "Requirement already satisfied: nltk>=3.1 in /usr/local/lib/python3.7/dist-packages (from textblob==0.15.3) (3.2.5)\n",
            "Requirement already satisfied: six in /usr/local/lib/python3.7/dist-packages (from nltk>=3.1->textblob==0.15.3) (1.15.0)\n",
            "Requirement already satisfied: requests==2.23.0 in /usr/local/lib/python3.7/dist-packages (2.23.0)\n",
            "Requirement already satisfied: certifi>=2017.4.17 in /usr/local/lib/python3.7/dist-packages (from requests==2.23.0) (2021.10.8)\n",
            "Requirement already satisfied: urllib3!=1.25.0,!=1.25.1,<1.26,>=1.21.1 in /usr/local/lib/python3.7/dist-packages (from requests==2.23.0) (1.24.3)\n",
            "Requirement already satisfied: chardet<4,>=3.0.2 in /usr/local/lib/python3.7/dist-packages (from requests==2.23.0) (3.0.4)\n",
            "Requirement already satisfied: idna<3,>=2.5 in /usr/local/lib/python3.7/dist-packages (from requests==2.23.0) (2.10)\n"
          ]
        }
      ]
    },
    {
      "cell_type": "code",
      "metadata": {
        "id": "DDsk49gcWbAa",
        "colab": {
          "base_uri": "https://localhost:8080/"
        },
        "outputId": "3f8f0064-bcd7-4eec-be73-c7014982eb5d"
      },
      "source": [
        "!pip install tensorflow==1.15\n",
        "!pip install tensorboard==1.15\n",
        "!python -m spacy download en_core_web_sm"
      ],
      "execution_count": null,
      "outputs": [
        {
          "output_type": "stream",
          "name": "stdout",
          "text": [
            "Requirement already satisfied: tensorflow==1.15 in /usr/local/lib/python3.7/dist-packages (1.15.0)\n",
            "Requirement already satisfied: wheel>=0.26 in /usr/local/lib/python3.7/dist-packages (from tensorflow==1.15) (0.37.0)\n",
            "Requirement already satisfied: keras-applications>=1.0.8 in /usr/local/lib/python3.7/dist-packages (from tensorflow==1.15) (1.0.8)\n",
            "Requirement already satisfied: termcolor>=1.1.0 in /usr/local/lib/python3.7/dist-packages (from tensorflow==1.15) (1.1.0)\n",
            "Requirement already satisfied: tensorboard<1.16.0,>=1.15.0 in /usr/local/lib/python3.7/dist-packages (from tensorflow==1.15) (1.15.0)\n",
            "Requirement already satisfied: protobuf>=3.6.1 in /usr/local/lib/python3.7/dist-packages (from tensorflow==1.15) (3.17.3)\n",
            "Requirement already satisfied: six>=1.10.0 in /usr/local/lib/python3.7/dist-packages (from tensorflow==1.15) (1.15.0)\n",
            "Requirement already satisfied: gast==0.2.2 in /usr/local/lib/python3.7/dist-packages (from tensorflow==1.15) (0.2.2)\n",
            "Requirement already satisfied: keras-preprocessing>=1.0.5 in /usr/local/lib/python3.7/dist-packages (from tensorflow==1.15) (1.1.2)\n",
            "Requirement already satisfied: numpy<2.0,>=1.16.0 in /usr/local/lib/python3.7/dist-packages (from tensorflow==1.15) (1.19.5)\n",
            "Requirement already satisfied: absl-py>=0.7.0 in /usr/local/lib/python3.7/dist-packages (from tensorflow==1.15) (0.12.0)\n",
            "Requirement already satisfied: wrapt>=1.11.1 in /usr/local/lib/python3.7/dist-packages (from tensorflow==1.15) (1.13.3)\n",
            "Requirement already satisfied: astor>=0.6.0 in /usr/local/lib/python3.7/dist-packages (from tensorflow==1.15) (0.8.1)\n",
            "Requirement already satisfied: google-pasta>=0.1.6 in /usr/local/lib/python3.7/dist-packages (from tensorflow==1.15) (0.2.0)\n",
            "Requirement already satisfied: opt-einsum>=2.3.2 in /usr/local/lib/python3.7/dist-packages (from tensorflow==1.15) (3.3.0)\n",
            "Requirement already satisfied: tensorflow-estimator==1.15.1 in /usr/local/lib/python3.7/dist-packages (from tensorflow==1.15) (1.15.1)\n",
            "Requirement already satisfied: grpcio>=1.8.6 in /usr/local/lib/python3.7/dist-packages (from tensorflow==1.15) (1.42.0)\n",
            "Requirement already satisfied: h5py in /usr/local/lib/python3.7/dist-packages (from keras-applications>=1.0.8->tensorflow==1.15) (3.1.0)\n",
            "Requirement already satisfied: markdown>=2.6.8 in /usr/local/lib/python3.7/dist-packages (from tensorboard<1.16.0,>=1.15.0->tensorflow==1.15) (3.3.6)\n",
            "Requirement already satisfied: setuptools>=41.0.0 in /usr/local/lib/python3.7/dist-packages (from tensorboard<1.16.0,>=1.15.0->tensorflow==1.15) (57.4.0)\n",
            "Requirement already satisfied: werkzeug>=0.11.15 in /usr/local/lib/python3.7/dist-packages (from tensorboard<1.16.0,>=1.15.0->tensorflow==1.15) (1.0.1)\n",
            "Requirement already satisfied: importlib-metadata>=4.4 in /usr/local/lib/python3.7/dist-packages (from markdown>=2.6.8->tensorboard<1.16.0,>=1.15.0->tensorflow==1.15) (4.8.2)\n",
            "Requirement already satisfied: zipp>=0.5 in /usr/local/lib/python3.7/dist-packages (from importlib-metadata>=4.4->markdown>=2.6.8->tensorboard<1.16.0,>=1.15.0->tensorflow==1.15) (3.6.0)\n",
            "Requirement already satisfied: typing-extensions>=3.6.4 in /usr/local/lib/python3.7/dist-packages (from importlib-metadata>=4.4->markdown>=2.6.8->tensorboard<1.16.0,>=1.15.0->tensorflow==1.15) (3.10.0.2)\n",
            "Requirement already satisfied: cached-property in /usr/local/lib/python3.7/dist-packages (from h5py->keras-applications>=1.0.8->tensorflow==1.15) (1.5.2)\n",
            "Requirement already satisfied: tensorboard==1.15 in /usr/local/lib/python3.7/dist-packages (1.15.0)\n",
            "Requirement already satisfied: numpy>=1.12.0 in /usr/local/lib/python3.7/dist-packages (from tensorboard==1.15) (1.19.5)\n",
            "Requirement already satisfied: setuptools>=41.0.0 in /usr/local/lib/python3.7/dist-packages (from tensorboard==1.15) (57.4.0)\n",
            "Requirement already satisfied: grpcio>=1.6.3 in /usr/local/lib/python3.7/dist-packages (from tensorboard==1.15) (1.42.0)\n",
            "Requirement already satisfied: werkzeug>=0.11.15 in /usr/local/lib/python3.7/dist-packages (from tensorboard==1.15) (1.0.1)\n",
            "Requirement already satisfied: absl-py>=0.4 in /usr/local/lib/python3.7/dist-packages (from tensorboard==1.15) (0.12.0)\n",
            "Requirement already satisfied: six>=1.10.0 in /usr/local/lib/python3.7/dist-packages (from tensorboard==1.15) (1.15.0)\n",
            "Requirement already satisfied: protobuf>=3.6.0 in /usr/local/lib/python3.7/dist-packages (from tensorboard==1.15) (3.17.3)\n",
            "Requirement already satisfied: wheel>=0.26 in /usr/local/lib/python3.7/dist-packages (from tensorboard==1.15) (0.37.0)\n",
            "Requirement already satisfied: markdown>=2.6.8 in /usr/local/lib/python3.7/dist-packages (from tensorboard==1.15) (3.3.6)\n",
            "Requirement already satisfied: importlib-metadata>=4.4 in /usr/local/lib/python3.7/dist-packages (from markdown>=2.6.8->tensorboard==1.15) (4.8.2)\n",
            "Requirement already satisfied: typing-extensions>=3.6.4 in /usr/local/lib/python3.7/dist-packages (from importlib-metadata>=4.4->markdown>=2.6.8->tensorboard==1.15) (3.10.0.2)\n",
            "Requirement already satisfied: zipp>=0.5 in /usr/local/lib/python3.7/dist-packages (from importlib-metadata>=4.4->markdown>=2.6.8->tensorboard==1.15) (3.6.0)\n",
            "Collecting en_core_web_sm==2.2.5\n",
            "  Downloading https://github.com/explosion/spacy-models/releases/download/en_core_web_sm-2.2.5/en_core_web_sm-2.2.5.tar.gz (12.0 MB)\n",
            "\u001b[K     |████████████████████████████████| 12.0 MB 5.0 MB/s \n",
            "\u001b[?25hRequirement already satisfied: spacy>=2.2.2 in /usr/local/lib/python3.7/dist-packages (from en_core_web_sm==2.2.5) (2.2.4)\n",
            "Requirement already satisfied: cymem<2.1.0,>=2.0.2 in /usr/local/lib/python3.7/dist-packages (from spacy>=2.2.2->en_core_web_sm==2.2.5) (2.0.6)\n",
            "Requirement already satisfied: blis<0.5.0,>=0.4.0 in /usr/local/lib/python3.7/dist-packages (from spacy>=2.2.2->en_core_web_sm==2.2.5) (0.4.1)\n",
            "Requirement already satisfied: thinc==7.4.0 in /usr/local/lib/python3.7/dist-packages (from spacy>=2.2.2->en_core_web_sm==2.2.5) (7.4.0)\n",
            "Requirement already satisfied: murmurhash<1.1.0,>=0.28.0 in /usr/local/lib/python3.7/dist-packages (from spacy>=2.2.2->en_core_web_sm==2.2.5) (1.0.6)\n",
            "Requirement already satisfied: tqdm<5.0.0,>=4.38.0 in /usr/local/lib/python3.7/dist-packages (from spacy>=2.2.2->en_core_web_sm==2.2.5) (4.62.3)\n",
            "Requirement already satisfied: wasabi<1.1.0,>=0.4.0 in /usr/local/lib/python3.7/dist-packages (from spacy>=2.2.2->en_core_web_sm==2.2.5) (0.8.2)\n",
            "Requirement already satisfied: setuptools in /usr/local/lib/python3.7/dist-packages (from spacy>=2.2.2->en_core_web_sm==2.2.5) (57.4.0)\n",
            "Requirement already satisfied: plac<1.2.0,>=0.9.6 in /usr/local/lib/python3.7/dist-packages (from spacy>=2.2.2->en_core_web_sm==2.2.5) (1.1.3)\n",
            "Requirement already satisfied: preshed<3.1.0,>=3.0.2 in /usr/local/lib/python3.7/dist-packages (from spacy>=2.2.2->en_core_web_sm==2.2.5) (3.0.6)\n",
            "Requirement already satisfied: numpy>=1.15.0 in /usr/local/lib/python3.7/dist-packages (from spacy>=2.2.2->en_core_web_sm==2.2.5) (1.19.5)\n",
            "Requirement already satisfied: srsly<1.1.0,>=1.0.2 in /usr/local/lib/python3.7/dist-packages (from spacy>=2.2.2->en_core_web_sm==2.2.5) (1.0.5)\n",
            "Requirement already satisfied: requests<3.0.0,>=2.13.0 in /usr/local/lib/python3.7/dist-packages (from spacy>=2.2.2->en_core_web_sm==2.2.5) (2.23.0)\n",
            "Requirement already satisfied: catalogue<1.1.0,>=0.0.7 in /usr/local/lib/python3.7/dist-packages (from spacy>=2.2.2->en_core_web_sm==2.2.5) (1.0.0)\n",
            "Requirement already satisfied: importlib-metadata>=0.20 in /usr/local/lib/python3.7/dist-packages (from catalogue<1.1.0,>=0.0.7->spacy>=2.2.2->en_core_web_sm==2.2.5) (4.8.2)\n",
            "Requirement already satisfied: typing-extensions>=3.6.4 in /usr/local/lib/python3.7/dist-packages (from importlib-metadata>=0.20->catalogue<1.1.0,>=0.0.7->spacy>=2.2.2->en_core_web_sm==2.2.5) (3.10.0.2)\n",
            "Requirement already satisfied: zipp>=0.5 in /usr/local/lib/python3.7/dist-packages (from importlib-metadata>=0.20->catalogue<1.1.0,>=0.0.7->spacy>=2.2.2->en_core_web_sm==2.2.5) (3.6.0)\n",
            "Requirement already satisfied: idna<3,>=2.5 in /usr/local/lib/python3.7/dist-packages (from requests<3.0.0,>=2.13.0->spacy>=2.2.2->en_core_web_sm==2.2.5) (2.10)\n",
            "Requirement already satisfied: chardet<4,>=3.0.2 in /usr/local/lib/python3.7/dist-packages (from requests<3.0.0,>=2.13.0->spacy>=2.2.2->en_core_web_sm==2.2.5) (3.0.4)\n",
            "Requirement already satisfied: urllib3!=1.25.0,!=1.25.1,<1.26,>=1.21.1 in /usr/local/lib/python3.7/dist-packages (from requests<3.0.0,>=2.13.0->spacy>=2.2.2->en_core_web_sm==2.2.5) (1.24.3)\n",
            "Requirement already satisfied: certifi>=2017.4.17 in /usr/local/lib/python3.7/dist-packages (from requests<3.0.0,>=2.13.0->spacy>=2.2.2->en_core_web_sm==2.2.5) (2021.10.8)\n",
            "\u001b[38;5;2m✔ Download and installation successful\u001b[0m\n",
            "You can now load the model via spacy.load('en_core_web_sm')\n"
          ]
        }
      ]
    },
    {
      "cell_type": "code",
      "metadata": {
        "ExecuteTime": {
          "end_time": "2021-04-03T11:08:02.765409Z",
          "start_time": "2021-04-03T11:08:02.750395Z"
        },
        "id": "1_TfLGPSr3OQ"
      },
      "source": [
        "import warnings\n",
        "warnings.filterwarnings('ignore')"
      ],
      "execution_count": null,
      "outputs": []
    },
    {
      "cell_type": "markdown",
      "metadata": {
        "id": "fYsYe4tOomEM"
      },
      "source": [
        "## Dataset\n",
        "Let's get the Youtube spam classification dataset from the UCI ML Repository archive. The link for the dataset can be found [here](http://archive.ics.uci.edu/ml/machine-learning-databases/00380/YouTube-Spam-Collection-v1.zip)."
      ]
    },
    {
      "cell_type": "code",
      "metadata": {
        "ExecuteTime": {
          "end_time": "2021-04-03T11:08:04.193561Z",
          "start_time": "2021-04-03T11:08:02.766409Z"
        },
        "colab": {
          "base_uri": "https://localhost:8080/"
        },
        "id": "1hO0ncklr3OR",
        "outputId": "ee67b65b-4f9e-4e74-8cc0-615ffbf8aa75"
      },
      "source": [
        "import os\n",
        "import wget\n",
        "\n",
        "import zipfile\n",
        "import shutil\n",
        "\n",
        "file_link = \"http://archive.ics.uci.edu/ml/machine-learning-databases/00380/YouTube-Spam-Collection-v1.zip\"\n",
        "\n",
        "os.makedirs(\"content\", exist_ok= True)\n",
        "if not os.path.exists(\"content/YouTube-Spam-Collection-v1.zip\"):\n",
        "    wget.download(file_link, out=\"content/\")\n",
        "else:\n",
        "    print(\"File already exists\")\n",
        "\n",
        "with zipfile.ZipFile(\"content/YouTube-Spam-Collection-v1.zip\", 'r') as zip_ref:\n",
        "    zip_ref.extractall(\"content/\")\n",
        "\n",
        "shutil.rmtree(\"content/__MACOSX\")\n",
        "os.remove(\"content/YouTube-Spam-Collection-v1.zip\")\n",
        "os.listdir(\"content\")"
      ],
      "execution_count": null,
      "outputs": [
        {
          "output_type": "execute_result",
          "data": {
            "text/plain": [
              "['Youtube04-Eminem.csv',\n",
              " 'Youtube02-KatyPerry.csv',\n",
              " 'Youtube01-Psy.csv',\n",
              " 'Youtube05-Shakira.csv',\n",
              " 'Youtube03-LMFAO.csv']"
            ]
          },
          "metadata": {},
          "execution_count": 5
        }
      ]
    },
    {
      "cell_type": "markdown",
      "metadata": {
        "id": "H2msvroyoZ5W"
      },
      "source": [
        "Let's clone the necessary repos."
      ]
    },
    {
      "cell_type": "code",
      "metadata": {
        "ExecuteTime": {
          "end_time": "2021-04-03T11:08:06.477747Z",
          "start_time": "2021-04-03T11:08:04.194562Z"
        },
        "colab": {
          "base_uri": "https://localhost:8080/"
        },
        "id": "F2MGdPXm7IvY",
        "outputId": "253751ce-06f6-4ee4-b62a-6f34de7a8e62"
      },
      "source": [
        "!git clone https://github.com/snorkel-team/snorkel-tutorials.git\n",
        "\n",
        "source = \"content/\"\n",
        "destination = \"snorkel-tutorials/spam/data/\"\n",
        "\n",
        "os.makedirs(destination, exist_ok= True)\n",
        "\n",
        "files = os.listdir(source)\n",
        "\n",
        "for file in files:\n",
        "    new_path = shutil.move(f\"{source}/{file}\", destination)\n",
        "\n",
        "os.chdir(\"snorkel-tutorials/spam\")"
      ],
      "execution_count": null,
      "outputs": [
        {
          "output_type": "stream",
          "name": "stdout",
          "text": [
            "Cloning into 'snorkel-tutorials'...\n",
            "remote: Enumerating objects: 1104, done.\u001b[K\n",
            "remote: Counting objects: 100% (45/45), done.\u001b[K\n",
            "remote: Compressing objects: 100% (37/37), done.\u001b[K\n",
            "remote: Total 1104 (delta 14), reused 18 (delta 8), pack-reused 1059\u001b[K\n",
            "Receiving objects: 100% (1104/1104), 3.53 MiB | 18.92 MiB/s, done.\n",
            "Resolving deltas: 100% (729/729), done.\n"
          ]
        }
      ]
    },
    {
      "cell_type": "markdown",
      "metadata": {
        "id": "XM6JWmh6oxtv"
      },
      "source": [
        "## Making the necessary imports"
      ]
    },
    {
      "cell_type": "code",
      "metadata": {
        "ExecuteTime": {
          "end_time": "2021-04-03T11:08:10.334905Z",
          "start_time": "2021-04-03T11:08:06.478745Z"
        },
        "id": "h-vgmzc7B0PM",
        "scrolled": true
      },
      "source": [
        "import re\n",
        "import glob\n",
        "\n",
        "import utils\n",
        "\n",
        "from snorkel.analysis import get_label_buckets\n",
        "\n",
        "from snorkel.labeling import labeling_function\n",
        "from snorkel.labeling import LFAnalysis\n",
        "from snorkel.labeling import PandasLFApplier\n",
        "from snorkel.labeling import LabelingFunction\n",
        "from snorkel.labeling.model import MajorityLabelVoter\n",
        "from snorkel.labeling.model import LabelModel\n",
        "from snorkel.labeling import filter_unlabeled_dataframe\n",
        "from snorkel.labeling.lf.nlp import nlp_labeling_function\n",
        "\n",
        "from snorkel.preprocess import preprocessor\n",
        "from snorkel.preprocess.nlp import SpacyPreprocessor\n",
        "\n",
        "from snorkel.utils import probs_to_preds\n",
        "\n",
        "from textblob import TextBlob\n",
        "\n",
        "import pandas as pd\n",
        "import numpy as np\n",
        "\n",
        "from sklearn.feature_extraction.text import CountVectorizer\n",
        "from sklearn.linear_model import LogisticRegression\n",
        "from sklearn.model_selection import train_test_split\n",
        "\n",
        "import matplotlib.pyplot as plt\n",
        "%matplotlib inline"
      ],
      "execution_count": null,
      "outputs": []
    },
    {
      "cell_type": "code",
      "metadata": {
        "ExecuteTime": {
          "end_time": "2021-04-03T11:08:10.350918Z",
          "start_time": "2021-04-03T11:08:10.335905Z"
        },
        "id": "0Lp8IEfZr3OT"
      },
      "source": [
        "def load_spam_dataset(load_train_labels: bool = False, split_dev_valid: bool = False):\n",
        "    filenames = sorted(glob.glob(\"data/Youtube*.csv\"))\n",
        "    dfs = []\n",
        "    for i, filename in enumerate(filenames, start=1):\n",
        "        df = pd.read_csv(filename)\n",
        "        # Lowercase column names\n",
        "        df.columns = map(str.lower, df.columns)\n",
        "        # Remove comment_id field\n",
        "        df = df.drop(\"comment_id\", axis=1)\n",
        "        # Add field indicating source video\n",
        "        df[\"video\"] = [i] * len(df)\n",
        "        # Rename fields\n",
        "        df = df.rename(columns={\"class\": \"label\", \"content\": \"text\"})\n",
        "        # Shuffle order\n",
        "        df = df.sample(frac=1, random_state=123).reset_index(drop=True)\n",
        "        dfs.append(df)\n",
        "\n",
        "    df_train = pd.concat(dfs[:4])\n",
        "    df_dev = df_train.sample(100, random_state=123)\n",
        "\n",
        "    if not load_train_labels:\n",
        "        df_train[\"label\"] = np.ones(len(df_train[\"label\"])) * -1\n",
        "    df_valid_test = dfs[4]\n",
        "    df_valid, df_test = train_test_split(\n",
        "        df_valid_test, test_size=250, random_state=123, stratify=df_valid_test.label\n",
        "    )\n",
        "\n",
        "    if split_dev_valid:\n",
        "        return df_train, df_dev, df_valid, df_test\n",
        "    else:\n",
        "        return df_train, df_test"
      ],
      "execution_count": null,
      "outputs": []
    },
    {
      "cell_type": "code",
      "metadata": {
        "ExecuteTime": {
          "end_time": "2021-04-03T11:08:10.446005Z",
          "start_time": "2021-04-03T11:08:10.351920Z"
        },
        "colab": {
          "base_uri": "https://localhost:8080/",
          "height": 430
        },
        "id": "PQ_a_pkV3tdR",
        "scrolled": false,
        "outputId": "9c222766-1602-4880-ae7a-31be427d68c5"
      },
      "source": [
        "df_train, df_test = load_spam_dataset()\n",
        "print(\"Train\")\n",
        "display(df_train.head())\n",
        "print('Test')\n",
        "df_test.head()"
      ],
      "execution_count": null,
      "outputs": [
        {
          "output_type": "stream",
          "name": "stdout",
          "text": [
            "Train\n"
          ]
        },
        {
          "output_type": "display_data",
          "data": {
            "text/html": [
              "<div>\n",
              "<style scoped>\n",
              "    .dataframe tbody tr th:only-of-type {\n",
              "        vertical-align: middle;\n",
              "    }\n",
              "\n",
              "    .dataframe tbody tr th {\n",
              "        vertical-align: top;\n",
              "    }\n",
              "\n",
              "    .dataframe thead th {\n",
              "        text-align: right;\n",
              "    }\n",
              "</style>\n",
              "<table border=\"1\" class=\"dataframe\">\n",
              "  <thead>\n",
              "    <tr style=\"text-align: right;\">\n",
              "      <th></th>\n",
              "      <th>author</th>\n",
              "      <th>date</th>\n",
              "      <th>text</th>\n",
              "      <th>label</th>\n",
              "      <th>video</th>\n",
              "    </tr>\n",
              "  </thead>\n",
              "  <tbody>\n",
              "    <tr>\n",
              "      <th>0</th>\n",
              "      <td>Alessandro leite</td>\n",
              "      <td>2014-11-05T22:21:36</td>\n",
              "      <td>pls http://www10.vakinha.com.br/VaquinhaE.aspx...</td>\n",
              "      <td>-1.0</td>\n",
              "      <td>1</td>\n",
              "    </tr>\n",
              "    <tr>\n",
              "      <th>1</th>\n",
              "      <td>Salim Tayara</td>\n",
              "      <td>2014-11-02T14:33:30</td>\n",
              "      <td>if your like drones, plz subscribe to Kamal Ta...</td>\n",
              "      <td>-1.0</td>\n",
              "      <td>1</td>\n",
              "    </tr>\n",
              "    <tr>\n",
              "      <th>2</th>\n",
              "      <td>Phuc Ly</td>\n",
              "      <td>2014-01-20T15:27:47</td>\n",
              "      <td>go here to check the views :3﻿</td>\n",
              "      <td>-1.0</td>\n",
              "      <td>1</td>\n",
              "    </tr>\n",
              "    <tr>\n",
              "      <th>3</th>\n",
              "      <td>DropShotSk8r</td>\n",
              "      <td>2014-01-19T04:27:18</td>\n",
              "      <td>Came here to check the views, goodbye.﻿</td>\n",
              "      <td>-1.0</td>\n",
              "      <td>1</td>\n",
              "    </tr>\n",
              "    <tr>\n",
              "      <th>4</th>\n",
              "      <td>css403</td>\n",
              "      <td>2014-11-07T14:25:48</td>\n",
              "      <td>i am 2,126,492,636 viewer :D﻿</td>\n",
              "      <td>-1.0</td>\n",
              "      <td>1</td>\n",
              "    </tr>\n",
              "  </tbody>\n",
              "</table>\n",
              "</div>"
            ],
            "text/plain": [
              "             author                 date  ... label  video\n",
              "0  Alessandro leite  2014-11-05T22:21:36  ...  -1.0      1\n",
              "1      Salim Tayara  2014-11-02T14:33:30  ...  -1.0      1\n",
              "2           Phuc Ly  2014-01-20T15:27:47  ...  -1.0      1\n",
              "3      DropShotSk8r  2014-01-19T04:27:18  ...  -1.0      1\n",
              "4            css403  2014-11-07T14:25:48  ...  -1.0      1\n",
              "\n",
              "[5 rows x 5 columns]"
            ]
          },
          "metadata": {}
        },
        {
          "output_type": "stream",
          "name": "stdout",
          "text": [
            "Test\n"
          ]
        },
        {
          "output_type": "execute_result",
          "data": {
            "text/html": [
              "<div>\n",
              "<style scoped>\n",
              "    .dataframe tbody tr th:only-of-type {\n",
              "        vertical-align: middle;\n",
              "    }\n",
              "\n",
              "    .dataframe tbody tr th {\n",
              "        vertical-align: top;\n",
              "    }\n",
              "\n",
              "    .dataframe thead th {\n",
              "        text-align: right;\n",
              "    }\n",
              "</style>\n",
              "<table border=\"1\" class=\"dataframe\">\n",
              "  <thead>\n",
              "    <tr style=\"text-align: right;\">\n",
              "      <th></th>\n",
              "      <th>author</th>\n",
              "      <th>date</th>\n",
              "      <th>text</th>\n",
              "      <th>label</th>\n",
              "      <th>video</th>\n",
              "    </tr>\n",
              "  </thead>\n",
              "  <tbody>\n",
              "    <tr>\n",
              "      <th>27</th>\n",
              "      <td>‫حلم الشباب‬‎</td>\n",
              "      <td>2015-05-25T23:42:49.533000</td>\n",
              "      <td>Check out this video on YouTube:﻿</td>\n",
              "      <td>1</td>\n",
              "      <td>5</td>\n",
              "    </tr>\n",
              "    <tr>\n",
              "      <th>194</th>\n",
              "      <td>MOHAMED THASLEEM</td>\n",
              "      <td>2015-05-24T07:03:59.488000</td>\n",
              "      <td>super music﻿</td>\n",
              "      <td>0</td>\n",
              "      <td>5</td>\n",
              "    </tr>\n",
              "    <tr>\n",
              "      <th>277</th>\n",
              "      <td>AlabaGames</td>\n",
              "      <td>2015-05-22T00:31:43.922000</td>\n",
              "      <td>Subscribe my channel  I RECORDING FIFA 15 GOAL...</td>\n",
              "      <td>1</td>\n",
              "      <td>5</td>\n",
              "    </tr>\n",
              "    <tr>\n",
              "      <th>132</th>\n",
              "      <td>Manish Ray</td>\n",
              "      <td>2015-05-23T08:55:07.512000</td>\n",
              "      <td>This song is so beauty</td>\n",
              "      <td>0</td>\n",
              "      <td>5</td>\n",
              "    </tr>\n",
              "    <tr>\n",
              "      <th>163</th>\n",
              "      <td>Sudheer Yadav</td>\n",
              "      <td>2015-05-28T10:28:25.133000</td>\n",
              "      <td>SEE SOME MORE SONG OPEN GOOGLE AND TYPE Shakir...</td>\n",
              "      <td>1</td>\n",
              "      <td>5</td>\n",
              "    </tr>\n",
              "  </tbody>\n",
              "</table>\n",
              "</div>"
            ],
            "text/plain": [
              "               author                        date  ... label  video\n",
              "27      ‫حلم الشباب‬‎  2015-05-25T23:42:49.533000  ...     1      5\n",
              "194  MOHAMED THASLEEM  2015-05-24T07:03:59.488000  ...     0      5\n",
              "277        AlabaGames  2015-05-22T00:31:43.922000  ...     1      5\n",
              "132        Manish Ray  2015-05-23T08:55:07.512000  ...     0      5\n",
              "163     Sudheer Yadav  2015-05-28T10:28:25.133000  ...     1      5\n",
              "\n",
              "[5 rows x 5 columns]"
            ]
          },
          "metadata": {},
          "execution_count": 9
        }
      ]
    },
    {
      "cell_type": "code",
      "metadata": {
        "ExecuteTime": {
          "end_time": "2021-04-03T11:08:10.462021Z",
          "start_time": "2021-04-03T11:08:10.448007Z"
        },
        "colab": {
          "base_uri": "https://localhost:8080/"
        },
        "id": "sYk70EPO4sk3",
        "outputId": "02acd4b6-49b2-4c74-efff-57624f5b6936"
      },
      "source": [
        "Y_test = df_test.label.values\n",
        "Y_test[:5]"
      ],
      "execution_count": null,
      "outputs": [
        {
          "output_type": "execute_result",
          "data": {
            "text/plain": [
              "array([1, 0, 1, 0, 1])"
            ]
          },
          "metadata": {},
          "execution_count": 10
        }
      ]
    },
    {
      "cell_type": "markdown",
      "metadata": {
        "id": "YSxLJ9P2ptsG"
      },
      "source": [
        "There are a few things to keep in mind with respect to the dataset:\n",
        "1. HAM represents a NON-SPAM comment.\n",
        "2. SPAM is a SPAM comment\n",
        "3. ABSTAIN is for neither of the above\n",
        "\n",
        "We initialise their respective values below\n"
      ]
    },
    {
      "cell_type": "code",
      "metadata": {
        "ExecuteTime": {
          "end_time": "2021-04-03T11:08:10.478036Z",
          "start_time": "2021-04-03T11:08:10.464021Z"
        },
        "id": "BUPjY_nKbJEM"
      },
      "source": [
        "ABSTAIN = -1\n",
        "HAM = 0\n",
        "SPAM = 1"
      ],
      "execution_count": null,
      "outputs": []
    },
    {
      "cell_type": "markdown",
      "metadata": {
        "id": "AA94SzMiqJQq"
      },
      "source": [
        "We need to find some pattern in the data, so as to create rules for labeling the data.<br>\n",
        "Hence, we randomly display some rows of the dataset so that we can try to find some pattern in the text. "
      ]
    },
    {
      "cell_type": "code",
      "metadata": {
        "ExecuteTime": {
          "end_time": "2021-04-03T11:08:10.494050Z",
          "start_time": "2021-04-03T11:08:10.479037Z"
        },
        "colab": {
          "base_uri": "https://localhost:8080/",
          "height": 677
        },
        "id": "fz2VcSoNbMi2",
        "outputId": "8cd594f5-b8bd-4984-e13b-c1237e312bf8"
      },
      "source": [
        "df_train[[\"author\", \"text\", \"video\"]].sample(20, random_state=2020)"
      ],
      "execution_count": null,
      "outputs": [
        {
          "output_type": "execute_result",
          "data": {
            "text/html": [
              "<div>\n",
              "<style scoped>\n",
              "    .dataframe tbody tr th:only-of-type {\n",
              "        vertical-align: middle;\n",
              "    }\n",
              "\n",
              "    .dataframe tbody tr th {\n",
              "        vertical-align: top;\n",
              "    }\n",
              "\n",
              "    .dataframe thead th {\n",
              "        text-align: right;\n",
              "    }\n",
              "</style>\n",
              "<table border=\"1\" class=\"dataframe\">\n",
              "  <thead>\n",
              "    <tr style=\"text-align: right;\">\n",
              "      <th></th>\n",
              "      <th>author</th>\n",
              "      <th>text</th>\n",
              "      <th>video</th>\n",
              "    </tr>\n",
              "  </thead>\n",
              "  <tbody>\n",
              "    <tr>\n",
              "      <th>240</th>\n",
              "      <td>Lucas Trigo</td>\n",
              "      <td>WHATS UP EVERYONE!? :-) I Trying To Showcase M...</td>\n",
              "      <td>1</td>\n",
              "    </tr>\n",
              "    <tr>\n",
              "      <th>211</th>\n",
              "      <td>Blaze Rod</td>\n",
              "      <td>when i see this back in 2015 i ask myself how ...</td>\n",
              "      <td>3</td>\n",
              "    </tr>\n",
              "    <tr>\n",
              "      <th>228</th>\n",
              "      <td>MasterRobotTV</td>\n",
              "      <td>http://www.twitch.tv/zxlightsoutxz﻿</td>\n",
              "      <td>1</td>\n",
              "    </tr>\n",
              "    <tr>\n",
              "      <th>207</th>\n",
              "      <td>Franklin Music</td>\n",
              "      <td>Very Nice !﻿</td>\n",
              "      <td>3</td>\n",
              "    </tr>\n",
              "    <tr>\n",
              "      <th>153</th>\n",
              "      <td>lebanonwarior1</td>\n",
              "      <td>Song name??﻿</td>\n",
              "      <td>1</td>\n",
              "    </tr>\n",
              "    <tr>\n",
              "      <th>8</th>\n",
              "      <td>yenis maría Rodríguez</td>\n",
              "      <td>2015 LIKEEE﻿</td>\n",
              "      <td>3</td>\n",
              "    </tr>\n",
              "    <tr>\n",
              "      <th>62</th>\n",
              "      <td>RapStarz Coleman</td>\n",
              "      <td>Subscribe To Mê Please Guys</td>\n",
              "      <td>4</td>\n",
              "    </tr>\n",
              "    <tr>\n",
              "      <th>54</th>\n",
              "      <td>Jd Hurst</td>\n",
              "      <td>Check out this video on YouTube:﻿</td>\n",
              "      <td>3</td>\n",
              "    </tr>\n",
              "    <tr>\n",
              "      <th>353</th>\n",
              "      <td>jefflynnejp</td>\n",
              "      <td>Check out this video on YouTube: ﻿</td>\n",
              "      <td>3</td>\n",
              "    </tr>\n",
              "    <tr>\n",
              "      <th>406</th>\n",
              "      <td>eliška žáková</td>\n",
              "      <td>CUTE  :)﻿</td>\n",
              "      <td>3</td>\n",
              "    </tr>\n",
              "    <tr>\n",
              "      <th>375</th>\n",
              "      <td>Chris Bieber</td>\n",
              "      <td>Love the way you lie II is nicer in my opinion...</td>\n",
              "      <td>4</td>\n",
              "    </tr>\n",
              "    <tr>\n",
              "      <th>270</th>\n",
              "      <td>Angela Alor</td>\n",
              "      <td>HOW DO YOU PUT A PICTURE FOR YOUR IMAGE THINGI...</td>\n",
              "      <td>3</td>\n",
              "    </tr>\n",
              "    <tr>\n",
              "      <th>44</th>\n",
              "      <td>BlueYetiPlayz -Call Of Duty and More</td>\n",
              "      <td>subscribe to me for call of duty vids and give...</td>\n",
              "      <td>1</td>\n",
              "    </tr>\n",
              "    <tr>\n",
              "      <th>295</th>\n",
              "      <td>the34104</td>\n",
              "      <td>check out eminem latest track survival if u didnt</td>\n",
              "      <td>4</td>\n",
              "    </tr>\n",
              "    <tr>\n",
              "      <th>223</th>\n",
              "      <td>Truc Ng</td>\n",
              "      <td>https://www.facebook.com/myfunnyriddles﻿</td>\n",
              "      <td>2</td>\n",
              "    </tr>\n",
              "    <tr>\n",
              "      <th>144</th>\n",
              "      <td>Nina Mackie</td>\n",
              "      <td>Take a look at this video on YouTub&lt;br /&gt;You﻿</td>\n",
              "      <td>3</td>\n",
              "    </tr>\n",
              "    <tr>\n",
              "      <th>340</th>\n",
              "      <td>DanteBTV</td>\n",
              "      <td>Check Out The New Hot Video By Dante B Called ...</td>\n",
              "      <td>4</td>\n",
              "    </tr>\n",
              "    <tr>\n",
              "      <th>19</th>\n",
              "      <td>Paul Garza</td>\n",
              "      <td>Check out this video on YouTube:﻿</td>\n",
              "      <td>3</td>\n",
              "    </tr>\n",
              "    <tr>\n",
              "      <th>185</th>\n",
              "      <td>Bo Lanciné MAGASSOUBA</td>\n",
              "      <td>WE GO FOR 1,000,000,000 FOR EMINEM﻿</td>\n",
              "      <td>4</td>\n",
              "    </tr>\n",
              "    <tr>\n",
              "      <th>73</th>\n",
              "      <td>MrValentinique</td>\n",
              "      <td>https://www.facebook.com/eeccon/posts/73394924...</td>\n",
              "      <td>1</td>\n",
              "    </tr>\n",
              "  </tbody>\n",
              "</table>\n",
              "</div>"
            ],
            "text/plain": [
              "                                   author  ... video\n",
              "240                           Lucas Trigo  ...     1\n",
              "211                             Blaze Rod  ...     3\n",
              "228                         MasterRobotTV  ...     1\n",
              "207                        Franklin Music  ...     3\n",
              "153                        lebanonwarior1  ...     1\n",
              "8                   yenis maría Rodríguez  ...     3\n",
              "62                       RapStarz Coleman  ...     4\n",
              "54                               Jd Hurst  ...     3\n",
              "353                           jefflynnejp  ...     3\n",
              "406                         eliška žáková  ...     3\n",
              "375                          Chris Bieber  ...     4\n",
              "270                           Angela Alor  ...     3\n",
              "44   BlueYetiPlayz -Call Of Duty and More  ...     1\n",
              "295                              the34104  ...     4\n",
              "223                               Truc Ng  ...     2\n",
              "144                           Nina Mackie  ...     3\n",
              "340                              DanteBTV  ...     4\n",
              "19                             Paul Garza  ...     3\n",
              "185                 Bo Lanciné MAGASSOUBA  ...     4\n",
              "73                         MrValentinique  ...     1\n",
              "\n",
              "[20 rows x 3 columns]"
            ]
          },
          "metadata": {},
          "execution_count": 12
        }
      ]
    },
    {
      "cell_type": "code",
      "metadata": {
        "ExecuteTime": {
          "end_time": "2021-04-03T11:08:10.701156Z",
          "start_time": "2021-04-03T11:08:10.686143Z"
        },
        "id": "DumNxb_PiEeN"
      },
      "source": [
        "#using regular expressions\n",
        "@labeling_function()\n",
        "def regex_check_out(x):\n",
        "    return SPAM if re.search(r\"check.*out\", x.text, flags=re.I) else ABSTAIN"
      ],
      "execution_count": null,
      "outputs": []
    },
    {
      "cell_type": "code",
      "metadata": {
        "ExecuteTime": {
          "end_time": "2021-04-03T11:08:10.812635Z",
          "start_time": "2021-04-03T11:08:10.798620Z"
        },
        "id": "oBMqQuBUmRz1"
      },
      "source": [
        "@preprocessor(memoize=True)\n",
        "def textblob_sentiment(x):\n",
        "    scores = TextBlob(x.text)\n",
        "    x.polarity = scores.sentiment.polarity\n",
        "    x.subjectivity = scores.sentiment.subjectivity\n",
        "    return x"
      ],
      "execution_count": null,
      "outputs": []
    },
    {
      "cell_type": "code",
      "metadata": {
        "ExecuteTime": {
          "end_time": "2021-04-03T11:08:10.828649Z",
          "start_time": "2021-04-03T11:08:10.814636Z"
        },
        "id": "u97Ql5_W6MNf"
      },
      "source": [
        "@labeling_function(pre=[textblob_sentiment])\n",
        "def textblob_polarity(x):\n",
        "    return HAM if x.polarity > 0.9 else ABSTAIN\n",
        "\n",
        "@labeling_function(pre=[textblob_sentiment])\n",
        "def textblob_subjectivity(x):\n",
        "    return HAM if x.subjectivity >= 0.5 else ABSTAIN\n"
      ],
      "execution_count": null,
      "outputs": []
    },
    {
      "cell_type": "code",
      "metadata": {
        "ExecuteTime": {
          "end_time": "2021-04-03T11:08:11.944367Z",
          "start_time": "2021-04-03T11:08:10.829650Z"
        },
        "colab": {
          "base_uri": "https://localhost:8080/"
        },
        "id": "2pJl0yod-qMe",
        "outputId": "4cb73b77-336c-444c-9230-656148948fb3"
      },
      "source": [
        "lfs = [textblob_polarity, textblob_subjectivity]\n",
        "\n",
        "applier = PandasLFApplier(lfs)\n",
        "L_train = applier.apply(df_train)\n"
      ],
      "execution_count": null,
      "outputs": [
        {
          "output_type": "stream",
          "name": "stderr",
          "text": [
            "100%|██████████| 1586/1586 [00:01<00:00, 1356.14it/s]\n"
          ]
        }
      ]
    },
    {
      "cell_type": "code",
      "metadata": {
        "ExecuteTime": {
          "end_time": "2021-04-03T11:08:11.960383Z",
          "start_time": "2021-04-03T11:08:11.945370Z"
        },
        "colab": {
          "base_uri": "https://localhost:8080/",
          "height": 112
        },
        "id": "q5NVqhPr--EO",
        "outputId": "43a59fbf-eabb-446f-cc38-0c905125ce91"
      },
      "source": [
        "LFAnalysis(L_train, lfs).lf_summary()"
      ],
      "execution_count": null,
      "outputs": [
        {
          "output_type": "execute_result",
          "data": {
            "text/html": [
              "<div>\n",
              "<style scoped>\n",
              "    .dataframe tbody tr th:only-of-type {\n",
              "        vertical-align: middle;\n",
              "    }\n",
              "\n",
              "    .dataframe tbody tr th {\n",
              "        vertical-align: top;\n",
              "    }\n",
              "\n",
              "    .dataframe thead th {\n",
              "        text-align: right;\n",
              "    }\n",
              "</style>\n",
              "<table border=\"1\" class=\"dataframe\">\n",
              "  <thead>\n",
              "    <tr style=\"text-align: right;\">\n",
              "      <th></th>\n",
              "      <th>j</th>\n",
              "      <th>Polarity</th>\n",
              "      <th>Coverage</th>\n",
              "      <th>Overlaps</th>\n",
              "      <th>Conflicts</th>\n",
              "    </tr>\n",
              "  </thead>\n",
              "  <tbody>\n",
              "    <tr>\n",
              "      <th>textblob_polarity</th>\n",
              "      <td>0</td>\n",
              "      <td>[0]</td>\n",
              "      <td>0.035309</td>\n",
              "      <td>0.013871</td>\n",
              "      <td>0.0</td>\n",
              "    </tr>\n",
              "    <tr>\n",
              "      <th>textblob_subjectivity</th>\n",
              "      <td>1</td>\n",
              "      <td>[0]</td>\n",
              "      <td>0.357503</td>\n",
              "      <td>0.013871</td>\n",
              "      <td>0.0</td>\n",
              "    </tr>\n",
              "  </tbody>\n",
              "</table>\n",
              "</div>"
            ],
            "text/plain": [
              "                       j Polarity  Coverage  Overlaps  Conflicts\n",
              "textblob_polarity      0      [0]  0.035309  0.013871        0.0\n",
              "textblob_subjectivity  1      [0]  0.357503  0.013871        0.0"
            ]
          },
          "metadata": {},
          "execution_count": 69
        }
      ]
    },
    {
      "cell_type": "markdown",
      "metadata": {
        "id": "UZxFsE-vH47d"
      },
      "source": [
        "## Writing more labeling functions\n",
        "\n",
        "Single labeling functions arent enough to test the entire databsase with accuracy as they do not have enough coverage, we usually need to combine differnt labeling functions(more rubost and accurate ones) to get this done."
      ]
    },
    {
      "cell_type": "markdown",
      "metadata": {
        "id": "QuOJYTmNgjK5"
      },
      "source": [
        "**Keyword based labeling fucntions**: These are similar to the ones used befeore with the labeling_fucntion decorator. here we just make a few changes"
      ]
    },
    {
      "cell_type": "code",
      "metadata": {
        "ExecuteTime": {
          "end_time": "2021-04-03T11:08:11.976404Z",
          "start_time": "2021-04-03T11:08:11.961384Z"
        },
        "id": "MZNRemLj_Bx2"
      },
      "source": [
        "def keyword_lookup(x, keywords, label):\n",
        "    if any(word in x.text.lower() for word in keywords):\n",
        "        return label\n",
        "    return ABSTAIN\n",
        "\n",
        "\n",
        "def make_keyword_lf(keywords, label=SPAM):\n",
        "    return LabelingFunction(\n",
        "        name=f\"keyword_{keywords[0]}\",\n",
        "        f=keyword_lookup,\n",
        "        resources=dict(keywords=keywords, label=label),\n",
        "    )\n",
        "\n",
        "\n",
        "\"\"\"Spam comments talk about 'my channel', 'my video', etc.\"\"\"\n",
        "keyword_my = make_keyword_lf(keywords=[\"my\"])\n",
        "\n",
        "\"\"\"Spam comments ask users to subscribe to their channels.\"\"\"\n",
        "keyword_subscribe = make_keyword_lf(keywords=[\"subscribe\"])\n",
        "\n",
        "\"\"\"Spam comments post links to other channels.\"\"\"\n",
        "keyword_link = make_keyword_lf(keywords=[\"http\"])\n",
        "\n",
        "\"\"\"Spam comments make requests rather than commenting.\"\"\"\n",
        "keyword_please = make_keyword_lf(keywords=[\"please\", \"plz\",\"pls\"])\n",
        "\n",
        "\"\"\"Spam comments asking for views\"\"\"\n",
        "keyword_view = make_keyword_lf(keywords=['view','look at'])\n",
        "\n",
        "\"\"\"Ham comments actually talk about the video's content.\"\"\"\n",
        "keyword_song = make_keyword_lf(keywords=[\"song\"], label=HAM)\n",
        "\n"
      ],
      "execution_count": null,
      "outputs": []
    },
    {
      "cell_type": "markdown",
      "metadata": {
        "id": "ZxDDetHLhp59"
      },
      "source": [
        "Modifying the above functions to use regualr expressions too would be an interesting exercise which we will leave to the reader.\n",
        "\n",
        "Having other methods such as a Rule of Thumb or Heuristics(length of text) could help too. These are not extremely accurate but will get the job done to a certain extent.\n",
        "\n",
        "An example is given below"
      ]
    },
    {
      "cell_type": "code",
      "metadata": {
        "ExecuteTime": {
          "end_time": "2021-04-03T11:08:11.992370Z",
          "start_time": "2021-04-03T11:08:11.977405Z"
        },
        "id": "ZeNvjhdkhUSK"
      },
      "source": [
        "@labeling_function()\n",
        "def short_comment(x):\n",
        "    \"\"\"Ham comments are often short, such as 'cool video!'\"\"\"\n",
        "    return HAM if len(x.text.split()) < 5 else ABSTAIN"
      ],
      "execution_count": null,
      "outputs": []
    },
    {
      "cell_type": "markdown",
      "metadata": {
        "id": "I3GOjwZtiwfw"
      },
      "source": [
        "We can also use NLP preprocessors such as spaCy to enrich our data and provide us with more fields to work on which will make the labeling a bit easier . "
      ]
    },
    {
      "cell_type": "code",
      "metadata": {
        "ExecuteTime": {
          "end_time": "2021-04-03T11:08:17.522364Z",
          "start_time": "2021-04-03T11:08:11.993372Z"
        },
        "id": "TZ2p4AW1iegt"
      },
      "source": [
        "# The SpacyPreprocessor parses the text in text_field and\n",
        "# stores the new enriched representation in doc_field\n",
        "spacy = SpacyPreprocessor(text_field=\"text\", doc_field=\"doc\", memoize=True)\n",
        "\n",
        "@labeling_function(pre=[spacy])\n",
        "def has_person(x):\n",
        "    \"\"\"Ham comments mention specific people and are short.\"\"\"\n",
        "    if len(x.doc) < 20 and any([ent.label_ == \"PERSON\" for ent in x.doc.ents]):\n",
        "        return HAM\n",
        "    else:\n",
        "        return ABSTAIN"
      ],
      "execution_count": null,
      "outputs": []
    },
    {
      "cell_type": "code",
      "metadata": {
        "ExecuteTime": {
          "end_time": "2021-04-03T11:08:22.239568Z",
          "start_time": "2021-04-03T11:08:17.523293Z"
        },
        "id": "Ya5diNfSlRA1"
      },
      "source": [
        "#snorkel has a pre built labeling function like decorator that uses spaCy as it is a very common nlp preprocessor\n",
        "\n",
        "@nlp_labeling_function()\n",
        "def has_person_nlp(x):\n",
        "    \"\"\"Ham comments mention specific people and are short.\"\"\"\n",
        "    if len(x.doc) < 20 and any([ent.label_ == \"PERSON\" for ent in x.doc.ents]):\n",
        "        return HAM\n",
        "    else:\n",
        "        return ABSTAIN\n"
      ],
      "execution_count": null,
      "outputs": []
    },
    {
      "cell_type": "markdown",
      "metadata": {
        "id": "yOL67OFB2N5b"
      },
      "source": [
        "## Outputs\n",
        "Let's move onto learning how we can go about combining labeling function outputs with labeling models.\n",
        "\n"
      ]
    },
    {
      "cell_type": "code",
      "metadata": {
        "ExecuteTime": {
          "end_time": "2021-04-03T11:08:22.255584Z",
          "start_time": "2021-04-03T11:08:22.240569Z"
        },
        "id": "HOFzxDkSlpiL"
      },
      "source": [
        "lfs = [\n",
        "    keyword_my,\n",
        "    keyword_subscribe,\n",
        "    keyword_link,\n",
        "    keyword_please,\n",
        "    keyword_song,\n",
        "    keyword_view,\n",
        "    regex_check_out,\n",
        "    short_comment,\n",
        "    has_person_nlp,\n",
        "    textblob_polarity,\n",
        "    textblob_subjectivity,\n",
        "]\n"
      ],
      "execution_count": null,
      "outputs": []
    },
    {
      "cell_type": "code",
      "metadata": {
        "ExecuteTime": {
          "end_time": "2021-04-03T11:08:31.843559Z",
          "start_time": "2021-04-03T11:08:22.256584Z"
        },
        "colab": {
          "base_uri": "https://localhost:8080/"
        },
        "id": "W_y7ZTD43Ttp",
        "outputId": "40a2ec47-5589-438d-aa3a-0480a59bfd7c"
      },
      "source": [
        "applier = PandasLFApplier(lfs=lfs)\n",
        "L_train = applier.apply(df=df_train)\n",
        "L_test = applier.apply(df=df_test)"
      ],
      "execution_count": null,
      "outputs": [
        {
          "output_type": "stream",
          "name": "stderr",
          "text": [
            "100%|██████████| 1586/1586 [00:00<00:00, 6324.96it/s]\n",
            "100%|██████████| 250/250 [00:00<00:00, 6227.73it/s]\n"
          ]
        }
      ]
    },
    {
      "cell_type": "code",
      "metadata": {
        "ExecuteTime": {
          "end_time": "2021-04-03T11:08:31.859574Z",
          "start_time": "2021-04-03T11:08:31.844561Z"
        },
        "colab": {
          "base_uri": "https://localhost:8080/",
          "height": 394
        },
        "id": "FXEDv6Nk3a9r",
        "outputId": "97da0034-87af-4907-e7d8-0127e5abc808"
      },
      "source": [
        "LFAnalysis(L=L_train, lfs=lfs).lf_summary()"
      ],
      "execution_count": null,
      "outputs": [
        {
          "output_type": "execute_result",
          "data": {
            "text/html": [
              "<div>\n",
              "<style scoped>\n",
              "    .dataframe tbody tr th:only-of-type {\n",
              "        vertical-align: middle;\n",
              "    }\n",
              "\n",
              "    .dataframe tbody tr th {\n",
              "        vertical-align: top;\n",
              "    }\n",
              "\n",
              "    .dataframe thead th {\n",
              "        text-align: right;\n",
              "    }\n",
              "</style>\n",
              "<table border=\"1\" class=\"dataframe\">\n",
              "  <thead>\n",
              "    <tr style=\"text-align: right;\">\n",
              "      <th></th>\n",
              "      <th>j</th>\n",
              "      <th>Polarity</th>\n",
              "      <th>Coverage</th>\n",
              "      <th>Overlaps</th>\n",
              "      <th>Conflicts</th>\n",
              "    </tr>\n",
              "  </thead>\n",
              "  <tbody>\n",
              "    <tr>\n",
              "      <th>keyword_my</th>\n",
              "      <td>0</td>\n",
              "      <td>[1]</td>\n",
              "      <td>0.198613</td>\n",
              "      <td>0.187264</td>\n",
              "      <td>0.110340</td>\n",
              "    </tr>\n",
              "    <tr>\n",
              "      <th>keyword_subscribe</th>\n",
              "      <td>1</td>\n",
              "      <td>[1]</td>\n",
              "      <td>0.127364</td>\n",
              "      <td>0.110340</td>\n",
              "      <td>0.068096</td>\n",
              "    </tr>\n",
              "    <tr>\n",
              "      <th>keyword_http</th>\n",
              "      <td>2</td>\n",
              "      <td>[1]</td>\n",
              "      <td>0.119168</td>\n",
              "      <td>0.104035</td>\n",
              "      <td>0.083228</td>\n",
              "    </tr>\n",
              "    <tr>\n",
              "      <th>keyword_please</th>\n",
              "      <td>3</td>\n",
              "      <td>[1]</td>\n",
              "      <td>0.114754</td>\n",
              "      <td>0.112232</td>\n",
              "      <td>0.057377</td>\n",
              "    </tr>\n",
              "    <tr>\n",
              "      <th>keyword_song</th>\n",
              "      <td>4</td>\n",
              "      <td>[0]</td>\n",
              "      <td>0.141866</td>\n",
              "      <td>0.112863</td>\n",
              "      <td>0.049811</td>\n",
              "    </tr>\n",
              "    <tr>\n",
              "      <th>keyword_view</th>\n",
              "      <td>5</td>\n",
              "      <td>[1]</td>\n",
              "      <td>0.083228</td>\n",
              "      <td>0.058638</td>\n",
              "      <td>0.044767</td>\n",
              "    </tr>\n",
              "    <tr>\n",
              "      <th>regex_check_out</th>\n",
              "      <td>6</td>\n",
              "      <td>[1]</td>\n",
              "      <td>0.233922</td>\n",
              "      <td>0.133039</td>\n",
              "      <td>0.086381</td>\n",
              "    </tr>\n",
              "    <tr>\n",
              "      <th>short_comment</th>\n",
              "      <td>7</td>\n",
              "      <td>[0]</td>\n",
              "      <td>0.225725</td>\n",
              "      <td>0.147541</td>\n",
              "      <td>0.078815</td>\n",
              "    </tr>\n",
              "    <tr>\n",
              "      <th>has_person_nlp</th>\n",
              "      <td>8</td>\n",
              "      <td>[0]</td>\n",
              "      <td>0.082598</td>\n",
              "      <td>0.062421</td>\n",
              "      <td>0.029634</td>\n",
              "    </tr>\n",
              "    <tr>\n",
              "      <th>textblob_polarity</th>\n",
              "      <td>9</td>\n",
              "      <td>[0]</td>\n",
              "      <td>0.035309</td>\n",
              "      <td>0.032156</td>\n",
              "      <td>0.006936</td>\n",
              "    </tr>\n",
              "    <tr>\n",
              "      <th>textblob_subjectivity</th>\n",
              "      <td>10</td>\n",
              "      <td>[0]</td>\n",
              "      <td>0.357503</td>\n",
              "      <td>0.281841</td>\n",
              "      <td>0.187894</td>\n",
              "    </tr>\n",
              "  </tbody>\n",
              "</table>\n",
              "</div>"
            ],
            "text/plain": [
              "                        j Polarity  Coverage  Overlaps  Conflicts\n",
              "keyword_my              0      [1]  0.198613  0.187264   0.110340\n",
              "keyword_subscribe       1      [1]  0.127364  0.110340   0.068096\n",
              "keyword_http            2      [1]  0.119168  0.104035   0.083228\n",
              "keyword_please          3      [1]  0.114754  0.112232   0.057377\n",
              "keyword_song            4      [0]  0.141866  0.112863   0.049811\n",
              "keyword_view            5      [1]  0.083228  0.058638   0.044767\n",
              "regex_check_out         6      [1]  0.233922  0.133039   0.086381\n",
              "short_comment           7      [0]  0.225725  0.147541   0.078815\n",
              "has_person_nlp          8      [0]  0.082598  0.062421   0.029634\n",
              "textblob_polarity       9      [0]  0.035309  0.032156   0.006936\n",
              "textblob_subjectivity  10      [0]  0.357503  0.281841   0.187894"
            ]
          },
          "metadata": {},
          "execution_count": 96
        }
      ]
    },
    {
      "cell_type": "markdown",
      "metadata": {
        "id": "fZ1F_FeH3s2-"
      },
      "source": [
        "We plot a histogram to get an idea about the coverages of the labeling functions"
      ]
    },
    {
      "cell_type": "code",
      "metadata": {
        "ExecuteTime": {
          "end_time": "2021-04-03T11:08:31.955661Z",
          "start_time": "2021-04-03T11:08:31.860575Z"
        },
        "colab": {
          "base_uri": "https://localhost:8080/",
          "height": 279
        },
        "id": "Cer6qKcD3m_I",
        "outputId": "7f4d0850-67e0-48ec-d86b-9700fa9a5d45"
      },
      "source": [
        "def plot_label_frequency(L):\n",
        "    plt.hist((L != ABSTAIN).sum(axis=1), density=True, bins=range(L.shape[1]))\n",
        "    plt.xlabel(\"Number of labels\")\n",
        "    plt.ylabel(\"Fraction of dataset\")\n",
        "    plt.show()\n",
        "\n",
        "\n",
        "plot_label_frequency(L_train)"
      ],
      "execution_count": null,
      "outputs": [
        {
          "output_type": "display_data",
          "data": {
            "image/png": "[encoded data removed]",
            "text/plain": [
              "<Figure size 432x288 with 1 Axes>"
            ]
          },
          "metadata": {
            "needs_background": "light"
          }
        }
      ]
    },
    {
      "cell_type": "markdown",
      "metadata": {
        "id": "lNacdVnl4-ys"
      },
      "source": [
        "We now convert the labels from our labeling functions to a single noise-aware probabilistic label per data. we do so by taking a majority vote on what the data should be labeled as .i.e if more labeling functions agree that the text/data is spam , then we label it as spam"
      ]
    },
    {
      "cell_type": "code",
      "metadata": {
        "ExecuteTime": {
          "end_time": "2021-04-03T11:08:31.987553Z",
          "start_time": "2021-04-03T11:08:31.956662Z"
        },
        "id": "Z-2jteSi3saV"
      },
      "source": [
        "majority_model = MajorityLabelVoter()\n",
        "preds_train = majority_model.predict(L=L_train)"
      ],
      "execution_count": null,
      "outputs": []
    },
    {
      "cell_type": "code",
      "metadata": {
        "ExecuteTime": {
          "end_time": "2021-04-03T11:08:32.003574Z",
          "start_time": "2021-04-03T11:08:31.988554Z"
        },
        "colab": {
          "base_uri": "https://localhost:8080/"
        },
        "id": "QFjnaR6Q3-Qh",
        "outputId": "abb4b10a-1b24-4789-fdb0-cc67fc437d4f"
      },
      "source": [
        "preds_train"
      ],
      "execution_count": null,
      "outputs": [
        {
          "output_type": "execute_result",
          "data": {
            "text/plain": [
              "array([1, 1, 1, ..., 1, 1, 1])"
            ]
          },
          "metadata": {},
          "execution_count": 99
        }
      ]
    },
    {
      "cell_type": "markdown",
      "metadata": {
        "id": "bFwzHcVQ6MiI"
      },
      "source": [
        "However there may be functions that are correlated and might give a false sense of majority , to handle this we use a differernt snorkel label model to comine inputs of the labeling functions."
      ]
    },
    {
      "cell_type": "code",
      "metadata": {
        "ExecuteTime": {
          "end_time": "2021-04-03T11:08:32.305858Z",
          "start_time": "2021-04-03T11:08:32.004576Z"
        },
        "id": "9M352m7Z5jQM"
      },
      "source": [
        "label_model = LabelModel(cardinality=2, verbose=True)\n",
        "label_model.fit(L_train=L_train, n_epochs=500, log_freq=100, seed=123)"
      ],
      "execution_count": null,
      "outputs": []
    },
    {
      "cell_type": "code",
      "metadata": {
        "ExecuteTime": {
          "end_time": "2021-04-03T11:08:32.321761Z",
          "start_time": "2021-04-03T11:08:32.306859Z"
        },
        "colab": {
          "base_uri": "https://localhost:8080/"
        },
        "id": "wjdlmw9r6oDh",
        "outputId": "7ea7938b-843f-442c-cbe2-4abd095879c4"
      },
      "source": [
        "majority_acc = majority_model.score(L=L_test, Y=Y_test, tie_break_policy=\"random\")[\"accuracy\"]\n",
        "print(f\"{'Majority Vote Accuracy:':<25} {majority_acc * 100:.1f}%\")\n",
        "\n",
        "label_model_acc = label_model.score(L=L_test, Y=Y_test, tie_break_policy=\"random\")[\"accuracy\"]\n",
        "print(f\"{'Label Model Accuracy:':<25} {label_model_acc * 100:.1f}%\")"
      ],
      "execution_count": null,
      "outputs": [
        {
          "output_type": "stream",
          "name": "stdout",
          "text": [
            "Majority Vote Accuracy:   84.0%\n",
            "Label Model Accuracy:     86.4%\n"
          ]
        }
      ]
    },
    {
      "cell_type": "markdown",
      "metadata": {
        "id": "v5Lcyg-Q622K"
      },
      "source": [
        "We plot another graph to see the confidences that each data point is a spam"
      ]
    },
    {
      "cell_type": "code",
      "metadata": {
        "ExecuteTime": {
          "end_time": "2021-04-03T11:08:32.417848Z",
          "start_time": "2021-04-03T11:08:32.322762Z"
        },
        "colab": {
          "base_uri": "https://localhost:8080/",
          "height": 279
        },
        "id": "nFr84u3m6qt_",
        "outputId": "63247f13-6458-4d2c-b37e-52d5aaeffbd8"
      },
      "source": [
        "def plot_probabilities_histogram(Y):\n",
        "    plt.hist(Y, bins=10)\n",
        "    plt.xlabel(\"Probability of SPAM\")\n",
        "    plt.ylabel(\"Number of data points\")\n",
        "    plt.show()\n",
        "\n",
        "probs_train = label_model.predict_proba(L=L_train)\n",
        "plot_probabilities_histogram(probs_train[:, SPAM])\n"
      ],
      "execution_count": null,
      "outputs": [
        {
          "output_type": "display_data",
          "data": {
            "image/png": "[encoded data removed]",
            "text/plain": [
              "<Figure size 432x288 with 1 Axes>"
            ]
          },
          "metadata": {
            "needs_background": "light"
          }
        }
      ]
    },
    {
      "cell_type": "markdown",
      "metadata": {
        "id": "CO3RyIU77LYn"
      },
      "source": [
        "There might be some data which do not get any label from the functions , we filter them out as follows"
      ]
    },
    {
      "cell_type": "code",
      "metadata": {
        "ExecuteTime": {
          "end_time": "2021-04-03T11:08:32.433862Z",
          "start_time": "2021-04-03T11:08:32.418849Z"
        },
        "id": "hm2Uwog27Dbf"
      },
      "source": [
        "df_train_filtered, probs_train_filtered = filter_unlabeled_dataframe(\n",
        "    X=df_train, y=probs_train, L=L_train\n",
        ")"
      ],
      "execution_count": null,
      "outputs": []
    },
    {
      "cell_type": "markdown",
      "metadata": {
        "id": "F7b3d4pz8Zcq"
      },
      "source": [
        "## Training a classifier\n",
        "In this section we use the probabilistic training labels we generated to train a classifier. for demonstration we use Scikit-Learn.<br>\n",
        "_Note:Do not worry if you do not understand what a classifier is. We cover all of this in Chapter 4. Please read Ch4 and look at the jupyter notebooks in Ch4._"
      ]
    },
    {
      "cell_type": "code",
      "metadata": {
        "ExecuteTime": {
          "end_time": "2021-04-03T11:08:32.610022Z",
          "start_time": "2021-04-03T11:08:32.434863Z"
        },
        "id": "9Rz10tgs7V54"
      },
      "source": [
        "vectorizer = CountVectorizer(ngram_range=(1, 5))\n",
        "X_train = vectorizer.fit_transform(df_train_filtered.text.tolist())\n",
        "X_test = vectorizer.transform(df_test.text.tolist())\n"
      ],
      "execution_count": null,
      "outputs": []
    },
    {
      "cell_type": "code",
      "metadata": {
        "ExecuteTime": {
          "end_time": "2021-04-03T11:08:32.625459Z",
          "start_time": "2021-04-03T11:08:32.611023Z"
        },
        "id": "m07Vm3QS9FKz"
      },
      "source": [
        "preds_train_filtered = probs_to_preds(probs=probs_train_filtered)"
      ],
      "execution_count": null,
      "outputs": []
    },
    {
      "cell_type": "code",
      "metadata": {
        "ExecuteTime": {
          "end_time": "2021-04-03T11:08:32.801619Z",
          "start_time": "2021-04-03T11:08:32.626460Z"
        },
        "colab": {
          "base_uri": "https://localhost:8080/"
        },
        "id": "aHmJLIf69HR6",
        "outputId": "7736ab54-ee9b-4a22-93a1-bea844257240"
      },
      "source": [
        "sklearn_model = LogisticRegression(C=1e3, solver=\"liblinear\")\n",
        "sklearn_model.fit(X=X_train, y=preds_train_filtered)"
      ],
      "execution_count": null,
      "outputs": [
        {
          "output_type": "execute_result",
          "data": {
            "text/plain": [
              "LogisticRegression(C=1000.0, class_weight=None, dual=False, fit_intercept=True,\n",
              "                   intercept_scaling=1, l1_ratio=None, max_iter=100,\n",
              "                   multi_class='warn', n_jobs=None, penalty='l2',\n",
              "                   random_state=None, solver='liblinear', tol=0.0001, verbose=0,\n",
              "                   warm_start=False)"
            ]
          },
          "metadata": {},
          "execution_count": 106
        }
      ]
    },
    {
      "cell_type": "code",
      "metadata": {
        "ExecuteTime": {
          "end_time": "2021-04-03T11:08:32.816766Z",
          "start_time": "2021-04-03T11:08:32.802621Z"
        },
        "colab": {
          "base_uri": "https://localhost:8080/"
        },
        "id": "aKtmNBiw9KMa",
        "outputId": "95631b6b-4aba-4b68-dd23-d9c88a0f3fcb"
      },
      "source": [
        "print(f\"Test Accuracy: {sklearn_model.score(X=X_test, y=Y_test) * 100:.1f}%\")\n"
      ],
      "execution_count": null,
      "outputs": [
        {
          "output_type": "stream",
          "name": "stdout",
          "text": [
            "Test Accuracy: 93.6%\n"
          ]
        }
      ]
    },
    {
      "cell_type": "markdown",
      "metadata": {
        "id": "gsJyOFNTJNXf"
      },
      "source": [
        "We have just scratched the surface on what snorkel can do. We highly recommend going through their [github](https://github.com/snorkel-team/snorkel) and [tutorials](https://github.com/snorkel-team/snorkel-tutorials)."
      ]
    }
  ]
}